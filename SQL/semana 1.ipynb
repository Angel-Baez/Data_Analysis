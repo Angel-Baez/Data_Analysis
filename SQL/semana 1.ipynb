{
 "cells": [
  {
   "cell_type": "code",
   "execution_count": 1,
   "metadata": {},
   "outputs": [],
   "source": [
    "import sqlite3\n",
    "conn = sqlite3.connect('clientes.db')\n",
    "cursor = conn.cursor()\n",
    "\n",
    "cursor.execute('''\n",
    "               CREATE TABLE IF NOT EXISTS clientes (\n",
    "                   id INTEGER PRIMARY KEY,\n",
    "                   nombre TEXT NOT NULL,\n",
    "                   telefono TEXT\n",
    "               )\n",
    "''')\n",
    "cursor.execute('''\n",
    "               CREATE TABLE IF NOT EXISTS pedidos (\n",
    "                   id INTEGER PRIMARY KEY,\n",
    "                   cliente_id INTEGER NOT NULL,\n",
    "                   fecha DATE NOT NULL,\n",
    "                   total_pedido REAL NOT NULL\n",
    "               )\n",
    "''')\n",
    "\n",
    "conn.commit()\n",
    "conn.close()\n"
   ]
  },
  {
   "cell_type": "code",
   "execution_count": 2,
   "metadata": {},
   "outputs": [],
   "source": [
    "\n",
    "conn = sqlite3.connect('clientes.db')\n",
    "cursor = conn.cursor()\n",
    "\n",
    "cursor.executemany(\"INSERT INTO clientes (nombre, telefono) VALUES (?, ?)\", [\n",
    "    ('Juan', '123456'),\n",
    "    ('Pedro', '654321'),\n",
    "    ('Pablo', '456789')\n",
    "])\n",
    "cursor.executemany(\"INSERT INTO pedidos (cliente_id, fecha, total_pedido) VALUES (?, ?, ?)\", [\n",
    "    (1, '2020-01-01', 100.0),\n",
    "    (2, '2020-01-02', 200.0),\n",
    "    (3, '2020-01-03', 300.0)\n",
    "])\n",
    "\n",
    "conn.commit()\n",
    "conn.close()"
   ]
  },
  {
   "cell_type": "code",
   "execution_count": 15,
   "metadata": {},
   "outputs": [
    {
     "name": "stdout",
     "output_type": "stream",
     "text": [
      "(1, 'Juan', '123456')\n",
      "(3, 'Pablo', '456789')\n",
      "(2, 'Pedro', '654321')\n"
     ]
    }
   ],
   "source": [
    "conn = sqlite3.connect('clientes.db')\n",
    "cursor = conn.cursor()\n",
    "\n",
    "# WHERE: Se usa para filtrar los resultados.\n",
    "clientes = cursor.execute('SELECT * FROM clientes WHERE nombre = \"Juan\"').fetchall() \n",
    "\n",
    "# ORDER BY: Ordena los resultados de acuerdo a una columna\n",
    "clientes = cursor.execute('SELECT * FROM clientes ORDER BY nombre').fetchall()\n",
    "\n",
    "# INSERT INTO: Para insertar nuevos registros en una tabla.\n",
    "# cursor.execute(\"INSERT INTO clientes (nombre, telefono) VALUES ('Maria', '987654')\")\n",
    "# conn.commit()\n",
    "\n",
    "# UPDATE: Se usa para modificar registros existentes.\n",
    "# cursor.execute(\"UPDATE clientes SET telefono = '555-9876' WHERE nombre = 'Maria'\")\n",
    "# conn.commit()\n",
    "\n",
    "# DELETE: Elimina registros de la tabla\n",
    "cursor.execute(\"DELETE FROM clientes WHERE nombre = 'Maria'\")\n",
    "conn.commit()\n",
    "\n",
    "\n",
    "for cliente in clientes:\n",
    "    print(cliente)\n"
   ]
  },
  {
   "cell_type": "code",
   "execution_count": null,
   "metadata": {},
   "outputs": [
    {
     "name": "stdout",
     "output_type": "stream",
     "text": [
      "('Juan', '2020-01-01', 100.0)\n",
      "('Pedro', '2020-01-02', 200.0)\n",
      "('Pablo', '2020-01-03', 300.0)\n"
     ]
    },
    {
     "ename": "ProgrammingError",
     "evalue": "Cannot operate on a closed database.",
     "output_type": "error",
     "traceback": [
      "\u001b[1;31m---------------------------------------------------------------------------\u001b[0m",
      "\u001b[1;31mProgrammingError\u001b[0m                          Traceback (most recent call last)",
      "Cell \u001b[1;32mIn[5], line 17\u001b[0m\n\u001b[0;32m     14\u001b[0m conn\u001b[38;5;241m.\u001b[39mcommit()\n\u001b[0;32m     15\u001b[0m conn\u001b[38;5;241m.\u001b[39mclose()\n\u001b[1;32m---> 17\u001b[0m \u001b[43mcursor\u001b[49m\u001b[38;5;241;43m.\u001b[39;49m\u001b[43mexecute\u001b[49m\u001b[43m(\u001b[49m\u001b[38;5;124;43m'''\u001b[39;49m\n\u001b[0;32m     18\u001b[0m \u001b[38;5;124;43m               SELECT nombre\u001b[39;49m\n\u001b[0;32m     19\u001b[0m \u001b[38;5;124;43m               FROM clientes\u001b[39;49m\n\u001b[0;32m     20\u001b[0m \u001b[38;5;124;43m               WHERE id IN (SELECT cliente_id FROM pedidos WHERE total_pedido > 200)\u001b[39;49m\n\u001b[0;32m     21\u001b[0m \u001b[38;5;124;43m'''\u001b[39;49m\u001b[43m)\u001b[49m\n\u001b[0;32m     23\u001b[0m clientes \u001b[38;5;241m=\u001b[39m cursor\u001b[38;5;241m.\u001b[39mfetchall()\n\u001b[0;32m     24\u001b[0m \u001b[38;5;28;01mfor\u001b[39;00m cliente \u001b[38;5;129;01min\u001b[39;00m clientes:\n",
      "\u001b[1;31mProgrammingError\u001b[0m: Cannot operate on a closed database."
     ]
    }
   ],
   "source": [
    "conn = sqlite3.connect('clientes.db')\n",
    "cursor = conn.cursor()\n",
    "\n",
    "cursor.execute('''\n",
    "               SELECT clientes.nombre, pedidos.fecha, pedidos.total_pedido\n",
    "               FROM clientes\n",
    "               INNER JOIN pedidos ON clientes.id = pedidos.cliente_id\n",
    "''')\n",
    "clientes = cursor.fetchall()\n",
    "\n",
    "for cliente in clientes:\n",
    "    print(cliente)\n",
    "\n",
    "conn.commit()\n",
    "conn.close()\n"
   ]
  },
  {
   "cell_type": "code",
   "execution_count": 7,
   "metadata": {},
   "outputs": [
    {
     "name": "stdout",
     "output_type": "stream",
     "text": [
      "('Pedro',)\n",
      "('Pablo',)\n"
     ]
    }
   ],
   "source": [
    "conn = sqlite3.connect('clientes.db')\n",
    "cursor = conn.cursor()\n",
    "\n",
    "cursor.execute('''\n",
    "               SELECT nombre\n",
    "               FROM clientes\n",
    "               WHERE id IN (SELECT cliente_id FROM pedidos WHERE total_pedido >= 200)\n",
    "''')\n",
    "\n",
    "clientes = cursor.fetchall()\n",
    "for cliente in clientes:\n",
    "    print(cliente)\n",
    "\n",
    "conn.commit()\n",
    "conn.close()\n"
   ]
  },
  {
   "cell_type": "code",
   "execution_count": 8,
   "metadata": {},
   "outputs": [
    {
     "name": "stdout",
     "output_type": "stream",
     "text": [
      "(600.0,)\n"
     ]
    }
   ],
   "source": [
    "conn = sqlite3.connect('clientes.db')\n",
    "cursor = conn.cursor()\n",
    "\n",
    "cursor.execute('''\n",
    "               SELECT SUM(total_pedido) FROM pedidos\n",
    "''')\n",
    "total = cursor.fetchone()\n",
    "print(total)\n",
    "\n",
    "conn.commit()\n",
    "conn.close()"
   ]
  }
 ],
 "metadata": {
  "kernelspec": {
   "display_name": "data_env",
   "language": "python",
   "name": "python3"
  },
  "language_info": {
   "codemirror_mode": {
    "name": "ipython",
    "version": 3
   },
   "file_extension": ".py",
   "mimetype": "text/x-python",
   "name": "python",
   "nbconvert_exporter": "python",
   "pygments_lexer": "ipython3",
   "version": "3.12.7"
  }
 },
 "nbformat": 4,
 "nbformat_minor": 2
}
