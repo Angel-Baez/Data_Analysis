{
 "cells": [
  {
   "cell_type": "markdown",
   "metadata": {},
   "source": [
    "## <b>SEMANA 5-6: NumPy - Computación Numérica Eficiente</B>\n",
    "\n",
    "Temas:\n",
    "\n",
    "- Introducción a NumPy y los arrays NumPy (ndarrays).\n",
    "- Diferencias entre listas de Python y arrays NumPy - Ventajas de NumPy en rendimiento y funcionalidad para operaciones numéricas.\n",
    "- Creación de arrays NumPy (a partir de listas, con funciones como arange, linspace, zeros, ones, random.rand, etc.).\n",
    "- Tipos de datos en NumPy arrays (dtype).\n",
    "- Indexación y slicing de arrays NumPy (similar a listas, pero con capacidades avanzadas).\n",
    "- Operaciones aritméticas con arrays NumPy (elemento a elemento, operaciones con escalares).\n",
    "- Funciones universales (ufuncs) de NumPy (funciones matemáticas, trigonométricas, lógicas, etc. aplicadas a arrays completos).\n",
    "- Álgebra lineal básica con NumPy (dot product, transpose, etc.).\n",
    "- Broadcasting en NumPy - Concepto importante para operaciones entre arrays de diferentes formas."
   ]
  },
  {
   "cell_type": "markdown",
   "metadata": {},
   "source": [
    "### Introducción a NumPy y los Arrays NumPy (ndarrays)\n",
    "\n",
    "#### ¿Qué es NumPy?\n",
    "\n",
    "NumPy (Numerical Python) es una librería de Python de código abierto que se utiliza para realizar computación numérica de manera eficiente.  Es especialmente poderosa para trabajar con arrays multidimensionales (vectores, matrices y arrays de dimensiones superiores) y realizar operaciones matemáticas en estos arrays de forma rápida y optimizada.\n",
    "\n",
    "NumPy es una de las librerías más importantes en el ecosistema científico de Python.  Muchas otras librerías populares, como Pandas (para análisis de datos tabulares), SciPy (para computación científica y técnica), Matplotlib (para visualización de datos) y scikit-learn (para aprendizaje automático), se construyen sobre NumPy y utilizan sus arrays como estructura de datos fundamental.\n",
    "\n",
    "#### Arrays NumPy (ndarrays): la estructura de datos clave\n",
    "\n",
    "El núcleo de NumPy es el array NumPy, también conocido como ndarray (N-dimensional array). Un array NumPy es una estructura de datos similar a una lista o una matriz, pero con características especiales que lo hacen mucho más eficiente para operaciones numéricas:\n",
    "\n",
    "- Homogeneidad de tipo de datos: Todos los elementos de un array NumPy deben ser del mismo tipo de dato (ej. todos enteros, todos flotantes, todos booleanos, etc.). Esta homogeneidad permite a NumPy almacenar los datos de manera más compacta en la memoria y realizar operaciones de forma optimizada.\n",
    "- Tamaño fijo: Los arrays NumPy generalmente tienen un tamaño fijo al ser creados. Aunque existen formas de redimensionar arrays, las operaciones son más eficientes cuando el tamaño no cambia constantemente.\n",
    "- Multidimensionalidad: Los arrays NumPy pueden tener múltiples dimensiones. Los más comunes son:\n",
    "    - Arrays 1D (Vectores): Similares a listas, pero con las ventajas de NumPy.\n",
    "    - Arrays 2D (Matrices): Filas y columnas, ideales para representar datos tabulares o matrices matemáticas.\n",
    "    - Arrays 3D, 4D, ... ND: Arrays de dimensiones superiores, útiles para representar datos más complejos como imágenes (3D: alto, ancho, canales de color), videos (4D: tiempo, alto, ancho, canales de color), datos volumétricos, etc.\n",
    "\n",
    "#### Ventajas de los Arrays NumPy:\n",
    "\n",
    "Los arrays NumPy ofrecen varias ventajas importantes en comparación con las listas de Python para tareas numéricas:\n",
    "\n",
    "- Rendimiento (Velocidad): Las operaciones numéricas en arrays NumPy son mucho más rápidas que las operaciones equivalentes en listas de Python, especialmente para grandes conjuntos de datos.  Esto se debe a que:\n",
    "\n",
    "    - Implementación en C: NumPy está implementado en gran parte en C, un lenguaje de bajo nivel que es muy rápido en ejecución. Las operaciones de NumPy están altamente optimizadas y compiladas, lo que las hace más veloces que el código Python interpretado.\n",
    "    - Almacenamiento Contiguo en Memoria: Los arrays NumPy almacenan los datos de manera contigua en la memoria (bloques de memoria adyacentes). Esto permite un acceso más rápido a los datos y operaciones más eficientes.\n",
    "    - Operaciones Vectorizadas: NumPy permite realizar operaciones vectorizadas, es decir, aplicar operaciones a arrays completos (o \"vectores\") en una sola instrucción, en lugar de tener que iterar elemento por elemento con bucles for en Python. La vectorización es una de las claves del rendimiento de NumPy.\n",
    "- Funcionalidad Extensa para Computación Numérica: NumPy proporciona una gran cantidad de funciones y herramientas para realizar operaciones numéricas comunes:\n",
    "\n",
    "    - Operaciones aritméticas básicas (+, -, *, /, **, etc.) elemento a elemento.\n",
    "    - Funciones matemáticas (trigonométricas, exponenciales, logarítmicas, etc.).\n",
    "    - Álgebra lineal (multiplicación de matrices, determinantes, inversas, etc.).\n",
    "    - Estadística (media, mediana, desviación estándar, etc.).\n",
    "    - Generación de números aleatorios.\n",
    "    - Transformaciones de arrays (reshape, transpose, etc.).\n",
    "    - Operaciones de ordenamiento, búsqueda, etc.\n",
    "    - Y mucho más...\n",
    "- Menor Uso de Memoria: Debido a la homogeneidad de tipo de datos y al almacenamiento compacto, los arrays NumPy suelen ocupar menos memoria que las listas de Python para almacenar la misma cantidad de datos numéricos, especialmente para arrays grandes"
   ]
  },
  {
   "cell_type": "markdown",
   "metadata": {},
   "source": [
    "### Diferencias entre Listas de Python y Arrays NumPy: Ventajas de NumPy en Rendimiento y Funcionalidad\n",
    "\n",
    "Para entender mejor las ventajas de NumPy, veamos algunas diferencias clave entre las listas de Python y los arrays NumPy:\n",
    "\n",
    "\n",
    "| Característica | Listas de Python\t| Arrays NumPy (ndarrays) |\n",
    "| --- | --- | --- |\n",
    "| Tipo de datos\t| Heterogéneo (elementos de diferentes tipos) | Homogéneo (todos los elementos del mismo tipo) | \n",
    "| Almacenamiento | No contiguo en memoria | Contiguo en memoria | \n",
    "| Tamaño | Dinámico (puede cambiar)\t| Generalmente fijo (más eficiente) | \n",
    "| Rendimiento (Velocidad) | Más lento para operaciones numéricas | Mucho más rápido para operaciones numéricas | \n",
    "| Funcionalidad numérica | Limitada\t| Extensa (funciones matemáticas, álgebra lineal, etc.) | \n",
    "| Uso de memoria | Mayor | Menor (generalmente) | \n",
    "| Vectorización\t| No directamente soportada\t| Totalmente soportada | \n",
    "\n",
    "\n",
    "\n",
    "    Ejemplo Comparativo de Rendimiento:\n",
    "\n",
    "Vamos a comparar el tiempo que tarda en realizar una operación simple (sumar elementos) con una lista de Python y con un array NumPy:\n",
    "\n"
   ]
  },
  {
   "cell_type": "code",
   "execution_count": 1,
   "metadata": {},
   "outputs": [
    {
     "name": "stdout",
     "output_type": "stream",
     "text": [
      "Suma con lista de Python: 499999500000, tiempo: 0.296754 segundos\n",
      "Suma con array NumPy: 499999500000, tiempo: 0.000000 segundos\n"
     ]
    }
   ],
   "source": [
    "import numpy as np\n",
    "import time\n",
    "\n",
    "# Crear una lista de Python grande\n",
    "lista_python = list(range(1_000_000)) # Un millón de números\n",
    "\n",
    "# Crear un array NumPy equivalente\n",
    "array_numpy = np.array(lista_python)\n",
    "\n",
    "# Sumar los elementos de la lista de Python (con bucle)\n",
    "inicio_tiempo_lista = time.time()\n",
    "suma_lista = 0\n",
    "for numero in lista_python:\n",
    "    suma_lista += numero\n",
    "tiempo_lista = time.time() - inicio_tiempo_lista\n",
    "\n",
    "# Sumar los elementos del array NumPy (operación vectorizada)\n",
    "inicio_tiempo_array = time.time()\n",
    "suma_array = np.sum(array_numpy) # Suma vectorizada con np.sum()\n",
    "tiempo_array = time.time() - inicio_tiempo_array\n",
    "\n",
    "print(f\"Suma con lista de Python: {suma_lista}, tiempo: {tiempo_lista:.6f} segundos\")\n",
    "print(f\"Suma con array NumPy: {suma_array}, tiempo: {tiempo_array:.6f} segundos\")\n",
    "\n",
    "# Deberías ver que la suma con NumPy es significativamente más rápida."
   ]
  },
  {
   "cell_type": "markdown",
   "metadata": {},
   "source": [
    "\n",
    "\n",
    "En este ejemplo, verás que la suma de un millón de números usando un array NumPy (con np.sum(), que está vectorizada) es mucho más rápida (a menudo, órdenes de magnitud más rápida) que la suma equivalente realizada con un bucle for en una lista de Python.  Esta diferencia de rendimiento se hace aún más notable a medida que aumenta el tamaño de los datos y la complejidad de las operaciones numéricas."
   ]
  },
  {
   "cell_type": "markdown",
   "metadata": {},
   "source": [
    "### Creación de Arrays NumPy\n",
    "\n",
    "Hay varias formas de crear arrays NumPy:"
   ]
  },
  {
   "cell_type": "markdown",
   "metadata": {},
   "source": [
    "#### A partir de listas de Python:\n",
    "\n",
    "Puedes convertir una lista de Python (o una lista de listas, para arrays 2D, etc.) a un array NumPy usando la función `np.array()`:"
   ]
  },
  {
   "cell_type": "code",
   "execution_count": null,
   "metadata": {},
   "outputs": [],
   "source": [
    "import numpy as np\n",
    "\n",
    "lista1d = [1, 2, 3, 4, 5]\n",
    "array1d = np.array(lista1d)\n",
    "print(array1d) # Output: [1 2 3 4 5]\n",
    "print(type(array1d)) # Output: <class 'numpy.ndarray'>\n",
    "print(array1d.ndim) # Output: 1 (dimensión)\n",
    "print(array1d.shape) # Output: (5,) (forma: 5 elementos en 1 dimensión)\n",
    "print(array1d.dtype) # Output: int64 (tipo de datos: enteros de 64 bits)\n",
    "\n",
    "lista2d = [[1, 2, 3], [4, 5, 6]]\n",
    "array2d = np.array(lista2d)\n",
    "print(array2d)\n",
    "# Output:\n",
    "# [[1 2 3]\n",
    "#  [4 5 6]]\n",
    "print(array2d.ndim) # Output: 2 (dimensiones)\n",
    "print(array2d.shape) # Output: (2, 3) (forma: 2 filas, 3 columnas)\n",
    "print(array2d.dtype) # Output: int64 (tipo de datos: enteros de 64 bits)"
   ]
  },
  {
   "cell_type": "markdown",
   "metadata": {},
   "source": [
    "#### Funciones de creación de arrays con valores iniciales:\n",
    "\n",
    "NumPy proporciona funciones convenientes para crear arrays con valores iniciales específicos:\n",
    "\n",
    "- `np.zeros(forma)`: Crea un array con la forma especificada, lleno de ceros.\n",
    "- `np.ones(forma)`: Crea un array con la forma especificada, lleno de unos.\n",
    "- `np.full(forma, valor)`: Crea un array con la forma especificada, lleno con el valor dado.\n",
    "- `np.empty(forma)`: Crea un array con la forma especificada, sin inicializar los valores (los valores iniciales serán lo que haya en la memoria en ese momento, generalmente \"basura\").  `np.empty()` es más rápido que `np.zeros()` o `np.ones()` porque no inicializa los valores, pero debes tener cuidado al usarlo si necesitas valores iniciales definidos\n"
   ]
  },
  {
   "cell_type": "code",
   "execution_count": null,
   "metadata": {},
   "outputs": [],
   "source": [
    "# np.zeros(forma)\n",
    "ceros_1d = np.zeros(5) # Array 1D de 5 ceros (por defecto, tipo flotante)\n",
    "print(ceros_1d) # Output: [0. 0. 0. 0. 0.]\n",
    "ceros_2d = np.zeros((2, 3)) # Array 2D de 2x3 ceros\n",
    "print(ceros_2d)\n",
    "# Output:\n",
    "# [[0. 0. 0.]\n",
    "#  [0. 0. 0.]]\n",
    "ceros_int = np.zeros((2, 2), dtype=int) # Array 2D de 2x2 ceros, tipo entero\n",
    "print(ceros_int)\n",
    "# Output:\n",
    "# [[0 0]\n",
    "#  [0 0]]\n",
    "\n",
    "# np.ones(forma)\n",
    "unos_2d = np.ones((3, 2)) # Array 2D de 3x2 unos (por defecto, tipo flotante)\n",
    "print(unos_2d)\n",
    "# Output:\n",
    "# [[1. 1.]\n",
    "#  [1. 1.]\n",
    "#  [1. 1.]]\n",
    "\n",
    "# np.full(forma, valor)\n",
    "relleno_5 = np.full((2, 4), 5) # Array 2D de 2x4 lleno de 5\n",
    "print(relleno_5)\n",
    "# Output:\n",
    "# [[5 5 5 5]\n",
    "#  [5 5 5 5]]\n",
    "\n",
    "# np.empty(forma)\n",
    "vacio_3d = np.empty((2, 2, 2)) # Array 3D de 2x2x2 sin inicializar (valores aleatorios)\n",
    "print(vacio_3d)\n",
    "# Output: (valores aleatorios, pueden variar)\n"
   ]
  },
  {
   "cell_type": "markdown",
   "metadata": {},
   "source": [
    "#### Funciones para crear secuencias numéricas:\n",
    "\n",
    "- `np.arange(inicio, fin, paso)`: Similar a `range()` de Python, pero crea un array NumPy con valores en el rango `[inicio, fin]` (sin incluir `fin`), con un `paso` entre cada valor.\n",
    "- `np.linspace(inicio, fin, num_puntos)`: Crea un array con `num_puntos` valores igualmente espaciados en el intervalo `[inicio, fin]` (incluyendo `fin` por defecto).  Muy útil para generar ejes para gráficos, por ejemplo."
   ]
  },
  {
   "cell_type": "code",
   "execution_count": null,
   "metadata": {},
   "outputs": [
    {
     "name": "stdout",
     "output_type": "stream",
     "text": [
      "[0 3 6 9]\n",
      "[0.   0.25 0.5  0.75 1.  ]\n"
     ]
    }
   ],
   "source": [
    "# np.arange(inicio, fin, paso)\n",
    "rango_array = np.arange(0, 10, 2) # Array con valores de 0 a 8, de 2 en 2\n",
    "print(rango_array) # Output: [0 2 4 6 8]\n",
    "\n",
    "# np.linspace(inicio, fin, num_puntos)\n",
    "lineal_array = np.linspace(0, 1, 5) # Array con 5 valores linealmente espaciados entre 0 y 1 (inclusive)\n",
    "print(lineal_array) # Output: [0.   0.25 0.5  0.75 1.  ]\n"
   ]
  },
  {
   "cell_type": "markdown",
   "metadata": {},
   "source": [
    "#### Funciones para crear arrays aleatorios:\n",
    "\n",
    "El submódulo `random dentro` de NumPy `(np.random)` proporciona funciones para generar arrays con números aleatorios de diferentes distribuciones:\n",
    "\n",
    "- `np.random.rand(forma)`: Crea un array con la `forma` especificada, lleno de números aleatorios con distribución uniforme en el intervalo `[0, 1]`.\n",
    "- `np.random.randn(forma)`: Crea un array con la `forma` especificada, lleno de números aleatorios con distribución normal estándar (media 0, desviación estándar 1).\n",
    "- `np.random.randint(inicio, fin, forma)`: Crea un array con la `forma` especificada, lleno de enteros aleatorios en el rango `[inicio, fin)` (sin incluir `fin`).\n"
   ]
  },
  {
   "cell_type": "code",
   "execution_count": null,
   "metadata": {},
   "outputs": [],
   "source": [
    "# np.random.rand(forma)\n",
    "aleatorio_uniforme = np.random.rand(3, 3) # Array 2D de 3x3 con números aleatorios uniformes [0, 1)\n",
    "print(aleatorio_uniforme)\n",
    "# Output: (valores aleatorios, varían cada vez)\n",
    "\n",
    "# np.random.randn(forma)\n",
    "aleatorio_normal = np.random.randn(2, 4) # Array 2D de 2x4 con números aleatorios normales estándar\n",
    "print(aleatorio_normal)\n",
    "# Output: (valores aleatorios, varían cada vez)\n",
    "\n",
    "# np.random.randint(inicio, fin, forma)\n",
    "enteros_aleatorios = np.random.randint(1, 10, (4, 4)) # Array 2D de 4x4 con enteros aleatorios entre 1 y 9 (inclusive)\n",
    "print(enteros_aleatorios) # Output: (valores aleatorios, varían cada vez)\n"
   ]
  },
  {
   "cell_type": "markdown",
   "metadata": {},
   "source": [
    "### Tipos de Datos en Arrays NumPy (`dtype`):\n",
    "\n",
    "Como mencionamos, los arrays NumPy son homogéneos, lo que significa que todos los elementos de un array deben ser del mismo tipo de dato.  El tipo de dato de un array NumPy se especifica con el atributo `dtype` (data type).\n",
    "\n",
    "#### Tipos de datos comunes en NumPy:\n",
    "\n",
    "Algunos tipos de datos comunes en NumPy son:\n",
    "\n",
    "- Enteros:\n",
    "    - `np.int8`, `np.int16`, `np.int32`, `np.int64` (enteros con diferente número de bits, 8, 16, 32, 64)\n",
    "    - `np.uint8`, `np.uint16`, `np.uint32`, `np.uint64` (enteros sin signo)\n",
    "- Flotantes (punto flotante):\n",
    "    - `np.float16`, `np.float32`, `np.float64` (flotantes de precisión simple, doble, extendida)\n",
    "- Booleanos:\n",
    "    - `np.bool_` (valores `True` o `False`)\n",
    "- Cadenas (strings):\n",
    "    - `np.str_` o `np.unicode_` (cadenas de longitud fija)\n",
    "- Complejos:\n",
    "    - `np.complex64`, `np.complex128` (números complejos)\n",
    "- Objetos Python:\n",
    "    - `np.object_` (para almacenar objetos Python arbitrarios, menos eficiente numéricamente)\n",
    "\n",
    "#### Especificar dtype al crear arrays:\n",
    "\n",
    "Puedes especificar el tipo de dato (`dtype`) al crear un array NumPy usando el argumento `dtype` en las funciones de creación:"
   ]
  },
  {
   "cell_type": "code",
   "execution_count": 11,
   "metadata": {},
   "outputs": [
    {
     "name": "stdout",
     "output_type": "stream",
     "text": [
      "int32\n",
      "float64\n",
      "bool\n"
     ]
    }
   ],
   "source": [
    "enteros_int32 = np.array([1, 2, 3], dtype=np.int32)\n",
    "print(enteros_int32.dtype) # Output: int32\n",
    "\n",
    "flotantes_float64 = np.array([1.0, 2.5, 3.7], dtype=np.float64)\n",
    "print(flotantes_float64.dtype) # Output: float64\n",
    "\n",
    "booleanos = np.array([True, False, True], dtype=np.bool_)\n",
    "print(booleanos.dtype) # Output: bool"
   ]
  },
  {
   "cell_type": "markdown",
   "metadata": {},
   "source": [
    "#### Conversión de tipo de datos (`astype`)\n",
    "\n",
    "Puedes cambiar el tipo de dato de un array NumPy existente usando el método `.astype(nuevo_dtype)`:\n"
   ]
  },
  {
   "cell_type": "code",
   "execution_count": null,
   "metadata": {},
   "outputs": [],
   "source": [
    "array_original = np.array([1, 2, 3]) # Tipo de dato por defecto: int64\n",
    "array_flotante = array_original.astype(np.float64) # Convertir a flotante\n",
    "print(array_flotante.dtype) # Output: float64\n",
    "print(array_flotante) # Output: [1. 2. 3.]\n",
    "\n",
    "array_booleano = array_original.astype(np.bool_) # Convertir a booleano\n",
    "print(array_booleano.dtype) # Output: bool\n",
    "print(array_booleano) # Output: [ True  True  True] (cualquier número diferente de 0 se convierte a True)\n",
    "\n",
    "array_entero_a_string = array_original.astype(np.str_) # Convertir a cadena\n",
    "print(array_entero_a_string.dtype) # Output: <U216 (cadena unicode, longitud máxima 216 caracteres)\n",
    "print(array_entero_a_string) # Output: ['1' '2' '3']\n"
   ]
  },
  {
   "cell_type": "markdown",
   "metadata": {},
   "source": [
    "### Indexación y Slicing de Arrays NumPy\n",
    "\n",
    "La indexación y el slicing en arrays NumPy son muy similares a las listas de Python, pero con algunas capacidades avanzadas adicionales, especialmente para arrays multidimensionales.\n",
    "\n",
    "#### Indexación Básica (similar a listas):\n",
    "\n",
    "Indexación con un solo índice para acceder a elementos individuales:"
   ]
  },
  {
   "cell_type": "code",
   "execution_count": 14,
   "metadata": {},
   "outputs": [
    {
     "name": "stdout",
     "output_type": "stream",
     "text": [
      "10\n",
      "30\n",
      "50\n",
      "1\n",
      "6\n"
     ]
    }
   ],
   "source": [
    "array_1d = np.array([10, 20, 30, 40, 50])\n",
    "print(array_1d[0]) # Output: 10 (primer elemento)\n",
    "print(array_1d[2]) # Output: 30 (tercer elemento)\n",
    "print(array_1d[-1]) # Output: 50 (último elemento, indexación negativa)\n",
    "\n",
    "array_2d = np.array([[1, 2, 3], [4, 5, 6]])\n",
    "print(array_2d[0, 0]) # Output: 1 (elemento en la fila 0, columna 0)\n",
    "print(array_2d[1, 2]) # Output: 6 (elemento en la fila 1, columna 2)\n",
    "\n"
   ]
  },
  {
   "cell_type": "markdown",
   "metadata": {},
   "source": [
    "#### Slicing (similar a listas, pero multidimensional):\n",
    "\n",
    "##### Slicing 1D (similar a listas):\n"
   ]
  },
  {
   "cell_type": "code",
   "execution_count": 15,
   "metadata": {},
   "outputs": [
    {
     "name": "stdout",
     "output_type": "stream",
     "text": [
      "[1 2 3 4]\n",
      "[0 1 2]\n",
      "[5 6 7 8 9]\n",
      "[0 2 4 6 8]\n"
     ]
    }
   ],
   "source": [
    "array_1d = np.arange(10) # [0 1 2 3 4 5 6 7 8 9]\n",
    "print(array_1d[1:5]) # Output: [1 2 3 4] (elementos desde el índice 1 hasta 4, sin incluir el 5)\n",
    "print(array_1d[:3]) # Output: [0 1 2] (elementos desde el inicio hasta el índice 2, sin incluir el 3)\n",
    "print(array_1d[5:]) # Output: [5 6 7 8 9] (elementos desde el índice 5 hasta el final)\n",
    "print(array_1d[::2]) # Output: [0 2 4 6 8] (elementos desde el inicio hasta el final, con paso 2)\n"
   ]
  },
  {
   "cell_type": "markdown",
   "metadata": {},
   "source": [
    "##### Slicing 2D (y multidimensional):\n",
    "\n",
    "Para arrays 2D (matrices), puedes usar slicing para seleccionar submatrices completas o partes de filas y columnas:\n",
    "\n"
   ]
  },
  {
   "cell_type": "code",
   "execution_count": null,
   "metadata": {},
   "outputs": [],
   "source": [
    "array_2d = np.array([[1, 2, 3, 4],\n",
    "                     [5, 6, 7, 8],\n",
    "                     [9, 10, 11, 12]])\n",
    "# Output array_2d:\n",
    "# [[ 1  2  3  4]\n",
    "#  [ 5  6  7  8]\n",
    "#  [ 9 10 11 12]]\n",
    "\n",
    "print(array_2d[:2, :]) # Output: Las primeras 2 filas, todas las columnas\n",
    "# [[1 2 3 4]\n",
    "#  [5 6 7 8]]\n",
    "\n",
    "print(array_2d[:, 1:3]) # Output: Todas las filas, columnas desde el índice 1 hasta 2 (sin incluir el 3)\n",
    "# [[ 2  3]\n",
    "#  [ 6  7]\n",
    "#  [10 11]]\n",
    "\n",
    "print(array_2d[1:, 2:]) # Output: Filas desde el índice 1 hasta el final, columnas desde el índice 2 hasta el final\n",
    "# [[ 7  8]\n",
    "#  [11 12]]\n",
    "\n",
    "print(array_2d[::2, ::2]) # Output: Filas y columnas con paso 2\n",
    "# [[ 1  3]\n",
    "#  [ 9 11]]\n",
    "\n",
    "print(array_2d[:2, 1:])\n"
   ]
  },
  {
   "cell_type": "markdown",
   "metadata": {},
   "source": [
    "#### Indexación con arrays de índices (Indexación Avanzada):\n",
    "\n",
    "NumPy permite la indexación avanzada usando arrays de índices enteros o booleanos, lo que proporciona una gran flexibilidad para seleccionar elementos de arrays basados en condiciones o índices específicos.\n",
    "\n",
    "##### Indexación con arrays de índices enteros:\n"
   ]
  },
  {
   "cell_type": "code",
   "execution_count": 21,
   "metadata": {},
   "outputs": [
    {
     "name": "stdout",
     "output_type": "stream",
     "text": [
      "[20 40 30]\n",
      "[20 90]\n"
     ]
    }
   ],
   "source": [
    "array_1d = np.arange(10, 60, 10) # [10 20 30 40 50]\n",
    "indices = np.array([1, 3, 2]) # Índices que queremos seleccionar\n",
    "elementos_seleccionados = array_1d[indices]\n",
    "print(elementos_seleccionados) # Output: [20 40 30] (elementos en los índices 1, 3, 2)\n",
    "\n",
    "array_2d = np.array([[10, 20, 30],\n",
    "                     [40, 50, 60],\n",
    "                     [70, 80, 90]])\n",
    "# Output array_2d:\n",
    "# [[10 20 30]\n",
    "#  [40 50 60]\n",
    "#  [70 80 90]]\n",
    "\n",
    "indices_filas = np.array([0, 2]) # Filas que queremos seleccionar\n",
    "indices_columnas = np.array([1, 2]) # Columnas que queremos seleccionar\n",
    "submatriz_seleccionada = array_2d[indices_filas, indices_columnas]\n",
    "print(submatriz_seleccionada) # Output: [20 90] (elementos en (fila 0, columna 1) y (fila 2, columna 2))"
   ]
  },
  {
   "cell_type": "markdown",
   "metadata": {},
   "source": [
    "##### Indexación booleana (con arrays booleanos):\n",
    "\n",
    "Puedes usar un array booleano (de la misma forma que el array original) para seleccionar elementos donde el array booleano es True.  Esto es muy útil para filtrar arrays basados en condiciones:\n"
   ]
  },
  {
   "cell_type": "code",
   "execution_count": null,
   "metadata": {},
   "outputs": [],
   "source": [
    "array_1d = np.arange(10, 60, 10) # [10 20 30 40 50]\n",
    "mascara_booleana = np.array([True, False, True, False, True]) # Máscara booleana\n",
    "elementos_filtrados = array_1d[mascara_booleana] # Selecciona elementos donde la máscara es True\n",
    "print(elementos_filtrados) # Output: [10 30 50] (elementos en índices 0, 2, 4)\n",
    "\n",
    "array_2d = np.array([[1, 2, 3, 4],\n",
    "                     [5, 6, 7, 8],\n",
    "                     [9, 10, 11, 12]])\n",
    "# Output array_2d:\n",
    "# [[ 1  2  3  4]\n",
    "#  [ 5  6  7  8]\n",
    "#  [ 9 10 11 12]]\n",
    "\n",
    "mascara_condicion = array_2d > 5 # Crea una máscara booleana donde los elementos > 5 son True\n",
    "print(mascara_condicion)\n",
    "# Output:\n",
    "# [[False False False False]\n",
    "#  [False  True  True  True]\n",
    "#  [ True  True  True  True]]\n",
    "\n",
    "elementos_filtrados_condicion = array_2d[mascara_condicion] # Selecciona los elementos donde la máscara es True\n",
    "print(elementos_filtrados_condicion) # Output: [ 6  7  8  9 10 11 12] (elementos mayores que 5)\n",
    "\n",
    "array_2d[mascara_condicion] = 0 # Asigna 0 a los elementos donde la máscara es True\n",
    "print(array_2d)\n",
    "# Output:\n",
    "# [[1 2 3 4]\n",
    "#  [5 0 0 0]\n",
    "#  [0 0 0 0]] (elementos mayores que 5 ahora son 0)\n",
    "\n",
    "\n",
    "\n"
   ]
  },
  {
   "cell_type": "markdown",
   "metadata": {},
   "source": [
    "### Operaciones Aritméticas con Arrays NumPy\n",
    "\n",
    "Una de las grandes ventajas de NumPy es la facilidad para realizar operaciones aritméticas elemento a elemento en arrays y operaciones con escalares (números individuales).  Estas operaciones están vectorizadas, lo que las hace muy rápidas.\n",
    "\n",
    "#### Operaciones Elemento a Elemento (con arrays de la misma forma):\n",
    "\n",
    "Las operaciones aritméticas binarias (+, -, *, /, **, %) cuando se aplican a arrays NumPy de la misma forma, se realizan elemento a elemento.  El resultado es un nuevo array con la misma forma, donde cada elemento es el resultado de la operación correspondiente entre los elementos de los arrays de entrada.\n"
   ]
  },
  {
   "cell_type": "code",
   "execution_count": 28,
   "metadata": {},
   "outputs": [
    {
     "name": "stdout",
     "output_type": "stream",
     "text": [
      "[5 7 9]\n",
      "[3 3 3]\n",
      "[ 4 10 18]\n",
      "[4.  2.5 2. ]\n",
      "[1 4 9]\n"
     ]
    }
   ],
   "source": [
    "array_a = np.array([1, 2, 3])\n",
    "array_b = np.array([4, 5, 6])\n",
    "\n",
    "suma_arrays = array_a + array_b # Suma elemento a elemento\n",
    "print(suma_arrays) # Output: [5 7 9]\n",
    "\n",
    "resta_arrays = array_b - array_a # Resta elemento a elemento\n",
    "print(resta_arrays) # Output: [3 3 3]\n",
    "\n",
    "producto_arrays = array_a * array_b # Producto elemento a elemento\n",
    "print(producto_arrays) # Output: [ 4 10 18]\n",
    "\n",
    "division_arrays = array_b / array_a # División elemento a elemento (¡cuidado con división por cero!)\n",
    "print(division_arrays) # Output: [4.  2.5 2. ]\n",
    "\n",
    "potencia_arrays = array_a ** 2 # Potencia elemento a elemento (array_a al cuadrado)\n",
    "print(potencia_arrays) # Output: [1 4 9]\n"
   ]
  },
  {
   "cell_type": "markdown",
   "metadata": {},
   "source": [
    "#### Operaciones con Escalares (Broadcasting Implícito):\n",
    "\n",
    "También puedes realizar operaciones aritméticas entre un array NumPy y un escalar (un número individual).  En este caso, la operación se realiza entre el escalar y cada elemento del array (esto es un ejemplo simple de broadcasting, que veremos en detalle más adelante)."
   ]
  },
  {
   "cell_type": "code",
   "execution_count": 29,
   "metadata": {},
   "outputs": [
    {
     "name": "stdout",
     "output_type": "stream",
     "text": [
      "[3 4 5 6 7]\n",
      "[ 2  4  6  8 10]\n",
      "[0.5 1.  1.5 2.  2.5]\n"
     ]
    }
   ],
   "source": [
    "array_1d = np.array([1, 2, 3, 4, 5])\n",
    "escalar = 2\n",
    "\n",
    "suma_escalar = array_1d + escalar # Suma escalar a cada elemento del array\n",
    "print(suma_escalar) # Output: [3 4 5 6 7]\n",
    "\n",
    "multiplicacion_escalar = array_1d * escalar # Multiplica cada elemento del array por el escalar\n",
    "print(multiplicacion_escalar) # Output: [ 2  4  6  8 10]\n",
    "\n",
    "division_escalar = array_1d / escalar # Divide cada elemento del array por el escalar\n",
    "print(division_escalar) # Output: [0.5 1.  1.5 2.  2.5]\n"
   ]
  },
  {
   "cell_type": "markdown",
   "metadata": {},
   "source": [
    "### Funciones Universales (`ufuncs`) de NumPy\n",
    "\n",
    "NumPy proporciona una gran colección de funciones universales, abreviadas como `ufuncs`.  Las `ufuncs` son funciones que operan elemento a elemento sobre arrays NumPy, de manera muy eficiente y rápida (generalmente implementadas en `C`).\n",
    "\n",
    "#### Tipos de `ufuncs`:\n",
    "\n",
    "NumPy tiene `ufuncs` para diversas categorías:\n",
    "\n",
    "- Funciones matemáticas: `np.sin()`, `np.cos()`, `np.exp()`, `np.log()`, `np.sqrt()`, `np.power()`, etc. (equivalentes vectorizadas de las funciones del módulo `math`).\n",
    "- Funciones trigonométricas: `np.sin()`, `np.cos()`, `np.tan()`, `np.arcsin()`, `np.arccos()`, `np.arctan()`, `np.degrees()`, `np.radians()`, etc.\n",
    "- Funciones de redondeo: `np.ceil()`, `np.floor()`, `np.round()`, `np.trunc()`, `np.fix()`.\n",
    "- Funciones lógicas y de comparación: `np.logical_and()`, `np.logical_or()`, `np.logical_not()`, `np.equal()`, `np.not_equal()`, `np.greater()`, `np.less()`, etc.\n",
    "- Funciones bit a bit: `np.bitwise_and()`, `np.bitwise_or()`, `np.bitwise_xor()`, `np.bitwise_not()`.\n",
    "- Y muchas más...\n",
    "\n",
    "#### Aplicación de `ufuncs` a arrays:\n",
    "\n",
    "Cuando aplicas una `ufunc` a un `array` NumPy, la función se aplica a cada elemento del `array` de forma independiente, y retorna un nuevo `array` con los resultados.\n"
   ]
  },
  {
   "cell_type": "code",
   "execution_count": 31,
   "metadata": {},
   "outputs": [
    {
     "name": "stdout",
     "output_type": "stream",
     "text": [
      "[0.         1.57079633 3.14159265 4.71238898 6.28318531]\n",
      "[ 0.0000000e+00  1.0000000e+00  1.2246468e-16 -1.0000000e+00\n",
      " -2.4492936e-16]\n",
      "[  1.           4.81047738  23.14069263 111.31777849 535.49165552]\n",
      "[1. 2. 3. 4.]\n",
      "[False False  True False]\n"
     ]
    }
   ],
   "source": [
    "array_1d = np.array([0, np.pi/2, np.pi, 3*np.pi/2, 2*np.pi])\n",
    "print(array_1d)\n",
    "\n",
    "seno_array = np.sin(array_1d) # Calcula el seno de cada elemento del array\n",
    "print(seno_array) # Output: [ 0.  1.  0. -1.  0.]\n",
    "\n",
    "exponencial_array = np.exp(array_1d) # Calcula la exponencial de cada elemento\n",
    "print(exponencial_array)\n",
    "# Output: [1.         4.81047738 23.14069263 107.18866413 535.49165553]\n",
    "\n",
    "raiz_cuadrada_array = np.sqrt(np.array([1, 4, 9, 16])) # Raíz cuadrada de cada elemento\n",
    "print(raiz_cuadrada_array) # Output: [1. 2. 3. 4.]\n",
    "\n",
    "array_a = np.array([True, False, True, False])\n",
    "array_b = np.array([False, True, True, False])\n",
    "and_logico_array = np.logical_and(array_a, array_b) # AND lógico elemento a elemento\n",
    "print(and_logico_array) # Output: [False False  True False]\n"
   ]
  },
  {
   "cell_type": "markdown",
   "metadata": {},
   "source": [
    "### Álgebra Lineal Básica con NumPy\n",
    "\n",
    "NumPy proporciona funcionalidades básicas de álgebra lineal en su submódulo `numpy.linalg`. Algunas operaciones comunes son:\n",
    "\n",
    "#### Multiplicación de matrices (`dot product`): \n",
    "\n",
    " `np.dot(array_a, array_b)` calcula el producto punto (`dot product`) entre dos arrays.  Para matrices 2D, es la multiplicación matricial estándar. Para vectores 1D, es el producto escalar.\n",
    "\n"
   ]
  },
  {
   "cell_type": "code",
   "execution_count": 42,
   "metadata": {},
   "outputs": [
    {
     "name": "stdout",
     "output_type": "stream",
     "text": [
      "[[19 22]\n",
      " [43 50]]\n",
      "32\n"
     ]
    }
   ],
   "source": [
    "matriz_a = np.array([[1, 2], [3, 4]])\n",
    "matriz_b = np.array([[5, 6], [7, 8]])\n",
    "\n",
    "producto_matrices = np.dot(matriz_a, matriz_b) # Multiplicación matricial\n",
    "print(producto_matrices)\n",
    "# Output:\n",
    "# [[19 22]\n",
    "#  [43 50]]\n",
    "\n",
    "vector_a = np.array([1, 2, 3])\n",
    "vector_b = np.array([4, 5, 6])\n",
    "producto_escalar = np.dot(vector_a, vector_b) # Producto escalar (dot product de vectores 1D)\n",
    "print(producto_escalar) # Output: 32 (1*4 + 2*5 + 3*6 = 32)\n"
   ]
  },
  {
   "cell_type": "markdown",
   "metadata": {},
   "source": [
    "\n",
    "#### Transpuesta de una matriz (transpose):\n",
    "La transpuesta de una matriz es una matriz que se obtiene intercambiando las filas y columnas de la matriz original.\n",
    "\n",
    "- `array.T` (o `np.transpose(array)`) retorna la transpuesta de un `array`.\n"
   ]
  },
  {
   "cell_type": "code",
   "execution_count": null,
   "metadata": {},
   "outputs": [],
   "source": [
    "matriz_original = np.array([[1, 2, 3], [4, 5, 6]])\n",
    "matriz_transpuesta = matriz_original.T # Transpuesta de la matriz\n",
    "print(matriz_transpuesta)\n",
    "# Output:\n",
    "# [[1 4]\n",
    "#  [2 5]\n",
    "#  [3 6]]"
   ]
  },
  {
   "cell_type": "markdown",
   "metadata": {},
   "source": [
    "#### Determinante de una matriz (np.linalg.det):  \n",
    "\n",
    "- `np.linalg.det(matriz)` calcula el determinante de una matriz cuadrada.\n"
   ]
  },
  {
   "cell_type": "code",
   "execution_count": 44,
   "metadata": {},
   "outputs": [
    {
     "name": "stdout",
     "output_type": "stream",
     "text": [
      "-2.0000000000000004\n"
     ]
    }
   ],
   "source": [
    "matriz_cuadrada = np.array([[1, 2], [3, 4]])\n",
    "determinante = np.linalg.det(matriz_cuadrada)\n",
    "print(determinante) # Output: -2.0 (1*4 - 2*3 = -2)\n"
   ]
  },
  {
   "cell_type": "markdown",
   "metadata": {},
   "source": [
    "#### Inversa de una matriz (`np.linalg.inv`):  \n",
    "\n",
    "`np.linalg.inv(matriz)` calcula la inversa de una matriz cuadrada invertible.\n"
   ]
  },
  {
   "cell_type": "code",
   "execution_count": 45,
   "metadata": {},
   "outputs": [
    {
     "name": "stdout",
     "output_type": "stream",
     "text": [
      "[[-2.   1. ]\n",
      " [ 1.5 -0.5]]\n"
     ]
    }
   ],
   "source": [
    "matriz_cuadrada = np.array([[1, 2], [3, 4]])\n",
    "matriz_inversa = np.linalg.inv(matriz_cuadrada)\n",
    "print(matriz_inversa)\n",
    "# Output:\n",
    "# [[-2.   1. ]\n",
    "#  [ 1.5 -0.5]]\n"
   ]
  },
  {
   "cell_type": "markdown",
   "metadata": {},
   "source": [
    "#### Valores y vectores propios (`np.linalg.eig`):  \n",
    "\n",
    "`np.linalg.eig(matriz)` calcula los valores propios y vectores propios de una matriz cuadrada.\n",
    "\n"
   ]
  },
  {
   "cell_type": "code",
   "execution_count": 46,
   "metadata": {},
   "outputs": [
    {
     "name": "stdout",
     "output_type": "stream",
     "text": [
      "Valores propios: [-0.99999998 -1.00000002]\n",
      "Vectores propios:\n",
      " [[0.70710678 0.70710678]\n",
      " [0.70710678 0.70710678]]\n"
     ]
    }
   ],
   "source": [
    "matriz_cuadrada = np.array([[1, -2], [2, -3]])\n",
    "valores_propios, vectores_propios = np.linalg.eig(matriz_cuadrada)\n",
    "print(\"Valores propios:\", valores_propios) # Output: Valores propios: [-1.+0.j -1.-0.j]\n",
    "print(\"Vectores propios:\\n\", vectores_propios)\n",
    "# Output Vectores propios:\n",
    "# [[ 0.70710678+0.j -0.70710678-0.j]\n",
    "#  [ 0.70710678+0.j  0.70710678-0.j]]\n",
    "\n"
   ]
  },
  {
   "cell_type": "markdown",
   "metadata": {},
   "source": [
    "### Broadcasting en NumPy: Operaciones con Arrays de Diferentes Formas\n",
    "\n",
    "Broadcasting es una característica poderosa de NumPy que permite realizar operaciones aritméticas en arrays que tienen formas (shapes) diferentes, siempre y cuando sus formas sean \"compatibles\".  Broadcasting extiende la forma del array más pequeño para que coincida con la forma del array más grande durante la operación.\n",
    "\n",
    "#### Reglas de Broadcasting:\n",
    "\n",
    "##### NumPy aplica un conjunto de reglas para determinar si dos arrays tienen formas compatibles para broadcasting:\n",
    "\n",
    "1. Dimensiones Compatibles: Dos dimensiones son compatibles si son iguales, o si una de ellas es 1.\n",
    "2. Extensión de Dimensiones Unitarias: Si un array tiene menos dimensiones que el otro, NumPy \"pre-pende\" dimensiones unitarias (de tamaño 1) al principio de la forma del array más pequeño hasta que tenga el mismo número de dimensiones que el array más grande.\n",
    "3. Compatibilidad de Todas las Dimensiones: Dos arrays son compatibles para broadcasting si, para cada par de dimensiones (comparando desde la última dimensión hacia la primera), las dimensiones son compatibles según la regla 1 (iguales o una es 1).\n",
    "\n",
    "##### Ejemplos de Broadcasting:\n",
    "\n",
    "- Escalar y Array:  Ya vimos el ejemplo de operar un escalar con un array. El escalar se \"broadcast\" para que coincida con la forma del array.\n"
   ]
  },
  {
   "cell_type": "code",
   "execution_count": 47,
   "metadata": {},
   "outputs": [
    {
     "name": "stdout",
     "output_type": "stream",
     "text": [
      "[3 4 5]\n"
     ]
    }
   ],
   "source": [
    "array_1d = np.array([1, 2, 3])\n",
    "escalar = 2\n",
    "suma = array_1d + escalar # Broadcasting del escalar\n",
    "print(suma) # Output: [3 4 5]\n"
   ]
  },
  {
   "cell_type": "markdown",
   "metadata": {},
   "source": [
    "\n",
    "- Array 1D y Array 2D:  Si tienes un array 1D y un array 2D, NumPy puede broadcast el array 1D a lo largo de las filas del array 2D si las dimensiones son compatibles.\n"
   ]
  },
  {
   "cell_type": "code",
   "execution_count": 48,
   "metadata": {},
   "outputs": [
    {
     "name": "stdout",
     "output_type": "stream",
     "text": [
      "[[11 22 33]\n",
      " [41 52 63]]\n",
      "[[11 22 33]\n",
      " [41 52 63]]\n"
     ]
    }
   ],
   "source": [
    "array_1d_fila = np.array([1, 2, 3]) # Forma: (3,)\n",
    "array_2d = np.array([[10, 20, 30],\n",
    "                     [40, 50, 60]]) # Forma: (2, 3)\n",
    "\n",
    "suma_broadcast = array_2d + array_1d_fila # Broadcasting de array_1d_fila a lo largo de las filas de array_2d\n",
    "print(suma_broadcast)\n",
    "# Output:\n",
    "# [[11 22 33]\n",
    "#  [41 52 63]]\n",
    "# (array_1d_fila se \"estiró\" para convertirse en [[1, 2, 3], [1, 2, 3]] y luego se sumó elemento a elemento)\n",
    "\n",
    "array_1d_columna = np.array([[1], [2], [3]]) # Forma: (3, 1) (array 2D con 1 columna)\n",
    "array_2d_otro = np.array([[10, 20, 30],\n",
    "                          [40, 50, 60]]) # Forma: (2, 3)\n",
    "\n",
    "# ¡Broadcasting NO compatible en este caso! Formas (3, 1) y (2, 3) no son compatibles directamente.\n",
    "# suma_broadcast_incompatible = array_2d_otro + array_1d_columna # Esto daría un error de broadcasting.\n",
    "# Para hacer broadcasting \"vertical\" (a lo largo de columnas), podríamos necesitar transponer o resh\n",
    "\n",
    "array_1d_columna_transpuesta = array_1d_columna.T # Transpuesta, forma: (1, 3)\n",
    "suma_broadcast_compatible = array_2d_otro + array_1d_columna_transpuesta # Ahora formas (2, 3) y (1, 3) son compatibles\n",
    "print(suma_broadcast_compatible)\n",
    "# Output:\n",
    "# [[11 21 31]\n",
    "#  [42 52 62]]\n",
    "# (array_1d_columna_transpuesta se \"estiró\" para [[1, 2, 3], [1, 2, 3]] y se sumó a array_2d_otro)\n",
    "\n"
   ]
  },
  {
   "cell_type": "markdown",
   "metadata": {},
   "source": [
    "#### Ventajas del Broadcasting:\n",
    "\n",
    "- Código Más Conciso: Permite realizar operaciones complejas en arrays de diferentes formas sin necesidad de bucles for explícitos para ajustar las formas manualmente.\n",
    "- Mayor Eficiencia: Las operaciones con broadcasting están vectorizadas y optimizadas, lo que las hace más rápidas que las operaciones equivalentes con bucles.\n",
    "- Flexibilidad: Aumenta la flexibilidad de NumPy para trabajar con arrays de diferentes dimensiones y formas.\n",
    "\n"
   ]
  },
  {
   "cell_type": "markdown",
   "metadata": {},
   "source": [
    "### Ejemplos Prácticos\n",
    "\n",
    "Vamos a consolidar lo que hemos aprendido con algunos ejemplos prácticos:\n",
    "\n",
    "#### Crear arrays NumPy de diferentes formas y tipos:\n"
   ]
  },
  {
   "cell_type": "code",
   "execution_count": 49,
   "metadata": {},
   "outputs": [
    {
     "name": "stdout",
     "output_type": "stream",
     "text": [
      "Array 1D de enteros:\n",
      " [0 1 2 3 4 5 6 7 8 9]\n",
      "\n",
      "Matriz 2D de unos (flotantes):\n",
      " [[1. 1. 1. 1.]\n",
      " [1. 1. 1. 1.]\n",
      " [1. 1. 1. 1.]]\n",
      "\n",
      "Array 3D de enteros aleatorios:\n",
      " [[[86 77]\n",
      "  [50 62]\n",
      "  [63 66]]\n",
      "\n",
      " [[61 34]\n",
      "  [58  7]\n",
      "  [71 42]]]\n"
     ]
    }
   ],
   "source": [
    "import numpy as np\n",
    "\n",
    "# Array 1D de enteros del 0 al 9\n",
    "array_enteros_1d = np.arange(10, dtype=int)\n",
    "print(\"Array 1D de enteros:\\n\", array_enteros_1d)\n",
    "\n",
    "# Matriz 2D de flotantes de 3x4 llena de unos\n",
    "matriz_unos_float = np.ones((3, 4), dtype=float)\n",
    "print(\"\\nMatriz 2D de unos (flotantes):\\n\", matriz_unos_float)\n",
    "\n",
    "# Array 3D de enteros aleatorios entre 0 y 100, forma 2x3x2\n",
    "array_aleatorio_3d = np.random.randint(0, 101, (2, 3, 2))\n",
    "print(\"\\nArray 3D de enteros aleatorios:\\n\", array_aleatorio_3d)\n"
   ]
  },
  {
   "cell_type": "markdown",
   "metadata": {},
   "source": [
    "\n",
    "#### Realizar operaciones aritméticas entre arrays:\n"
   ]
  },
  {
   "cell_type": "code",
   "execution_count": 50,
   "metadata": {},
   "outputs": [
    {
     "name": "stdout",
     "output_type": "stream",
     "text": [
      "\n",
      "Suma de matrices:\n",
      " [[ 6  8]\n",
      " [10 12]]\n",
      "\n",
      "Producto elemento a elemento:\n",
      " [[ 5 12]\n",
      " [21 32]]\n",
      "\n",
      "Matriz al cuadrado (elemento a elemento):\n",
      " [[ 1  4]\n",
      " [ 9 16]]\n",
      "\n",
      "Transpuesta de matriz_a:\n",
      " [[1 3]\n",
      " [2 4]]\n"
     ]
    }
   ],
   "source": [
    "import numpy as np\n",
    "\n",
    "array_a = np.array([[1, 2], [3, 4]])\n",
    "array_b = np.array([[5, 6], [7, 8]])\n",
    "\n",
    "suma_matrices = array_a + array_b\n",
    "print(\"\\nSuma de matrices:\\n\", suma_matrices)\n",
    "\n",
    "producto_elemento_a_elemento = array_a * array_b\n",
    "print(\"\\nProducto elemento a elemento:\\n\", producto_elemento_a_elemento)\n",
    "\n",
    "matriz_al_cuadrado = array_a ** 2\n",
    "print(\"\\nMatriz al cuadrado (elemento a elemento):\\n\", matriz_al_cuadrado)\n",
    "\n",
    "matriz_transpuesta_a = array_a.T\n",
    "print(\"\\nTranspuesta de matriz_a:\\n\", matriz_transpuesta_a)\n"
   ]
  },
  {
   "cell_type": "markdown",
   "metadata": {},
   "source": [
    "\n",
    "#### Calcular la media, mediana, desviación estándar de un array NumPy:\n"
   ]
  },
  {
   "cell_type": "code",
   "execution_count": 51,
   "metadata": {},
   "outputs": [
    {
     "name": "stdout",
     "output_type": "stream",
     "text": [
      "\n",
      "Media: 27.2\n",
      "\n",
      "Mediana: 26.5\n",
      "\n",
      "Desviación estándar: 10.067770358922576\n"
     ]
    }
   ],
   "source": [
    "import numpy as np\n",
    "\n",
    "datos_array = np.array([12, 15, 20, 22, 25, 28, 30, 35, 40, 45])\n",
    "\n",
    "media = np.mean(datos_array)\n",
    "print(\"\\nMedia:\", media)\n",
    "\n",
    "mediana = np.median(datos_array)\n",
    "print(\"\\nMediana:\", mediana)\n",
    "\n",
    "desviacion_estandar = np.std(datos_array)\n",
    "print(\"\\nDesviación estándar:\", desviacion_estandar)\n"
   ]
  },
  {
   "cell_type": "markdown",
   "metadata": {},
   "source": [
    "\n",
    "#### Utilizar broadcasting para escalar una matriz por un vector:\n"
   ]
  },
  {
   "cell_type": "code",
   "execution_count": 52,
   "metadata": {},
   "outputs": [
    {
     "name": "stdout",
     "output_type": "stream",
     "text": [
      "\n",
      "Matriz escalada por vector (broadcasting):\n",
      " [[ 0.5  2.   4.5]\n",
      " [ 2.   5.   9. ]\n",
      " [ 3.5  8.  13.5]]\n"
     ]
    }
   ],
   "source": [
    "import numpy as np\n",
    "\n",
    "matriz = np.array([[1, 2, 3],\n",
    "                   [4, 5, 6],\n",
    "                   [7, 8, 9]])\n",
    "vector_escalar = np.array([0.5, 1, 1.5]) # Vector de escalado\n",
    "\n",
    "matriz_escalada = matriz * vector_escalar # Broadcasting del vector para escalar columnas\n",
    "print(\"\\nMatriz escalada por vector (broadcasting):\\n\", matriz_escalada)"
   ]
  },
  {
   "cell_type": "markdown",
   "metadata": {},
   "source": [
    "## EJERCICIOS NumPy:\n",
    "\n",
    "### Creación de Arrays:\n",
    "\n",
    "- Crea un array NumPy 1D que contenga los números pares del 10 al 30 (inclusive).\n",
    "- Crea una matriz 2D de 5x5 con todos los elementos iguales a 7.5.\n",
    "- Crea un array 3D de forma (2, 3, 4) con números aleatorios enteros entre -10 y 10 (inclusive)."
   ]
  },
  {
   "cell_type": "code",
   "execution_count": 3,
   "metadata": {},
   "outputs": [
    {
     "name": "stdout",
     "output_type": "stream",
     "text": [
      "[10 12 14 16 18 20 22 24 26 28 30]\n",
      "[[7.5 7.5 7.5 7.5 7.5]\n",
      " [7.5 7.5 7.5 7.5 7.5]\n",
      " [7.5 7.5 7.5 7.5 7.5]\n",
      " [7.5 7.5 7.5 7.5 7.5]\n",
      " [7.5 7.5 7.5 7.5 7.5]]\n",
      "[[[-2  3 -1  9]\n",
      "  [-6 -5  8  9]\n",
      "  [-2 -4  1  7]]\n",
      "\n",
      " [[-5  3 -7  6]\n",
      "  [ 0  6 -9 -5]\n",
      "  [-2  2 -5 -9]]]\n"
     ]
    }
   ],
   "source": [
    "import numpy as np\n",
    "\n",
    "array_1d = np.arange(10, 31, 2) # Array de 10 a 30, de 2 en 2\n",
    "print(array_1d) # Output: [10 12 14 16 18 20 22 24 26 28 30]\n",
    "\n",
    "array_2d = np.full((5, 5), 7.5) # Matriz 5x5 llena de 7.5\n",
    "print(array_2d) \n",
    "# Output: [[7.5 7.5 7.5 7.5 7.5]\n",
    "#          [7.5 7.5 7.5 7.5 7.5]\n",
    "#          [7.5 7.5 7.5 7.5 7.5]\n",
    "#          [7.5 7.5 7.5 7.5 7.5]\n",
    "#          [7.5 7.5 7.5 7.5 7.5]]\n",
    "\n",
    "array_3d = np.random.randint(-10, 10, (2, 3, 4)) # Array 3D de enteros aleatorios entre -10 y 10\n",
    "print(array_3d) # Output: (valores aleatorios, varían cada vez)"
   ]
  },
  {
   "cell_type": "markdown",
   "metadata": {},
   "source": [
    "### Indexación y Slicing:\n",
    "\n",
    "Dado el siguiente array 2D:\n",
    "\n",
    "```python\n",
    "matriz_ejercicio = np.array([[11, 12, 13, 14, 15],\n",
    "                             [21, 22, 23, 24, 25],\n",
    "                             [31, 32, 33, 34, 35],\n",
    "                             [41, 42, 43, 44, 45],\n",
    "                             [51, 52, 53, 54, 55]])\n",
    "```\n",
    "\n",
    "- Extrae la segunda fila completa.\n",
    "- Extrae la tercera columna completa.\n",
    "- Extrae la submatriz de 3x3 que comienza en la esquina superior izquierda (filas 0-2, columnas 0-2).\n",
    "- Extrae los elementos de la diagonal principal (11, 22, 33, 44, 55).\n",
    "- Crea una máscara booleana para encontrar los elementos que son mayores que 30 y úsala para filtrar la matriz."
   ]
  },
  {
   "cell_type": "code",
   "execution_count": null,
   "metadata": {},
   "outputs": [],
   "source": [
    "import numpy as np\n",
    "\n",
    "matriz_ejercicio = np.array([[11, 12, 13, 14, 15],\n",
    "                             [21, 22, 23, 24, 25],\n",
    "                             [31, 32, 33, 34, 35],\n",
    "                             [41, 42, 43, 44, 45],\n",
    "                             [51, 52, 53, 54, 55]])\n",
    "\n",
    "print(matriz_ejercicio[1:2, :]) # Output: [[21 22 23 24 25]] (segunda fila)\n",
    "print(matriz_ejercicio[:, 2:3]) # Output: [[13] [23] [33] [43] [53]] (tercera columna)\n",
    "print(matriz_ejercicio[0:3, 0:3]) # Output: [[11 12 13] [21 22 23] [31 32 33]] (submatriz 3x3 en la esquina superior izquierda)\n",
    "print(matriz_ejercicio.diagonal()) # Output: [11 22 33 44 55] (elementos de la diagonal principal)\n",
    "\n",
    "mascara_booleana = matriz_ejercicio > 30 # Máscara booleana para elementos > 30\n",
    "print(matriz_ejercicio[mascara_booleana]) # Output: [31 32 33 34 35 41 42 43 44 45 51 52 53 54 55] (elementos > 30)\n"
   ]
  },
  {
   "cell_type": "markdown",
   "metadata": {},
   "source": [
    "### Operaciones Aritméticas y Ufuncs:\n",
    "\n",
    "- Crea dos arrays NumPy 1D de la misma longitud (ej. 10 elementos cada uno) con números aleatorios enteros entre 1 y 20.\n",
    "- Realiza las siguientes operaciones elemento a elemento entre los dos arrays: suma, resta, multiplicación, división, potencia.\n",
    "- Calcula el seno, coseno y tangente de cada elemento del primer array usando ufuncs de NumPy.\n",
    "- Calcula el logaritmo natural (base e) de cada elemento del segundo array (asegúrate de que no haya ceros o números negativos para evitar errores)."
   ]
  },
  {
   "cell_type": "code",
   "execution_count": null,
   "metadata": {},
   "outputs": [],
   "source": [
    "import numpy as np\n",
    "\n",
    "array_a = np.random.randint(1, 20, 10) # Array 1D de 10 enteros aleatorios entre 1 y 20\n",
    "array_b = np.random.randint(0, 20, 10) # Array 1D de 10 enteros aleatorios entre 0 y 20 (¡posiblemente con ceros!)\n",
    "\n",
    "suma = array_a + array_b # Suma de arrays\n",
    "print(f'Suma:\\n  {suma}')\n",
    "resta = array_a - array_b # Resta de arrays\n",
    "print(f'Resta:\\n  {resta}')\n",
    "producto = array_a * array_b # Producto de arrays\n",
    "print(f'Producto:\\n  {producto}')\n",
    "\n",
    "# Consideración para división por cero:\n",
    "array_b_sin_ceros = np.where(array_b == 0, 1e-9, array_b) # Reemplaza ceros en array_b por 1e-9\n",
    "division = array_a / array_b_sin_ceros # División con array_b sin ceros (o con ceros reemplazados)\n",
    "print(f'División (ceros reemplazados):\\n  {division}')\n",
    "\n",
    "potencia = array_a ** array_b # Potencia de arrays\n",
    "print(f'Potencia:\\n  {potencia}')\n",
    "\n",
    "seno = np.sin(array_a) # Seno de array_a\n",
    "print(f'Seno:\\n  {seno}')\n",
    "coseno = np.cos(array_a) # Coseno de array_a\n",
    "print(f'Coseno:\\n  {coseno}')\n",
    "tangente = np.tan(array_a) # Tangente de array_a\n",
    "print(f'Tangente:\\n  {tangente}')\n",
    "\n",
    "logaritmo = np.log(array_a) # Logaritmo natural de array_a\n",
    "print(f'Logaritmo natural:\\n  {logaritmo}')\n",
    "\n"
   ]
  },
  {
   "cell_type": "markdown",
   "metadata": {},
   "source": [
    "### Álgebra Lineal Básica:\n",
    "\n",
    "- Crea dos matrices cuadradas 2x2 (pueden ser aleatorias o definidas manualmente).\n",
    "- Calcula la multiplicación matricial de las dos matrices.\n",
    "- Calcula la transpuesta de la primera matriz.\n",
    "- Calcula el determinante de la segunda matriz.\n",
    "- Intenta calcular la inversa de la segunda matriz. ¿Qué pasa si la matriz no es invertible (determinante cercano a cero)? (No es necesario manejar la excepción, solo observa si obtienes un error o inf o nan en la matriz inversa)."
   ]
  },
  {
   "cell_type": "code",
   "execution_count": 35,
   "metadata": {},
   "outputs": [
    {
     "name": "stdout",
     "output_type": "stream",
     "text": [
      "Multiplicación matricial:\n",
      "  [[38 45]\n",
      " [82 96]]\n",
      "Transpuesta de array2d_a:\n",
      "  [[1 4]\n",
      " [3 5]]\n",
      "Determinante de array2d_b: 6.000000000000016\n",
      "Inversa de array2d_b:\n",
      "  [[ 2.         -1.5       ]\n",
      " [-1.66666667  1.33333333]]\n"
     ]
    }
   ],
   "source": [
    "import numpy as np\n",
    "\n",
    "array2d_a = np.array([[1, 3], [4, 5]])\n",
    "array2d_b = np.array([[ 8, 9], [10, 12]])\n",
    "\n",
    "multiplicacion_matricial = np.dot(array2d_a, array2d_b) # Multiplicación matricial\n",
    "print(f'Multiplicación matricial:\\n  {multiplicacion_matricial}')\n",
    "\n",
    "array2d_a_transpuesta = array2d_a.T # Transpuesta de array2d_a\n",
    "print(f'Transpuesta de array2d_a:\\n  {array2d_a_transpuesta}')\n",
    "\n",
    "array2d_b_determinante = np.linalg.det(array2d_b) # Determinante de array2d_b\n",
    "print(f'Determinante de array2d_b: {array2d_b_determinante}')\n",
    "\n",
    "# Consideración para matrices no invertibles:\n",
    "determinante_b = np.linalg.det(array2d_b)\n",
    "tolerancia_determinante_cero = 1e-6  # Define una tolerancia (ej. 1e-6)\n",
    "\n",
    "if abs(determinante_b) < tolerancia_determinante_cero: # Verifica si el determinante está cerca de cero\n",
    "    print(\"\\nError: La matriz array2d_b es singular (no invertible) porque su determinante está muy cerca de cero.\")\n",
    "    # En este caso, NO intentes calcular la inversa, o maneja el caso como consideres apropiado\n",
    "    array2d_b_inversa = None # Podrías asignar None o un valor especial para indicar que no hay inversa\n",
    "else:\n",
    "    array2d_b_inversa = np.linalg.inv(array2d_b) # Inversa de array2d_b (solo si el determinante no es cercano a cero)\n",
    "    print(f'Inversa de array2d_b:\\n  {array2d_b_inversa}')\n",
    "\n",
    "if array2d_b_inversa is not None: # Verifica si se calculó la inversa antes de intentar imprimirla (opcional)\n",
    "    # ... (Aquí podrías realizar operaciones adicionales con la inversa si la calculaste)\n",
    "    pass # Por ejemplo, podrías verificar si matriz_b * matriz_inversa es aproximadamente la matriz identidad"
   ]
  },
  {
   "cell_type": "markdown",
   "metadata": {},
   "source": [
    "### Broadcasting:\n",
    "\n",
    "- Crea una matriz 3x4 con números aleatorios entre 0 y 1.\n",
    "- Crea un vector fila de 4 elementos con valores [10, 20, 30, 40].\n",
    "- Utiliza broadcasting para sumar el vector fila a cada fila de la matriz.\n",
    "- Crea un vector columna de 3 elementos con valores [[1], [2], [3]].\n",
    "- Utiliza broadcasting para sumar el vector columna a cada columna de la matriz original (o de la matriz resultante del paso anterior, como prefieras)"
   ]
  },
  {
   "cell_type": "code",
   "execution_count": null,
   "metadata": {},
   "outputs": [
    {
     "name": "stdout",
     "output_type": "stream",
     "text": [
      "[[10.18033766 20.02436592 30.60924542 40.82943533]\n",
      " [10.2572353  20.08030361 30.27781937 40.36304273]\n",
      " [10.23994501 20.16628825 30.27499385 40.97330462]]\n",
      "[[1.18033766 1.02436592 1.60924542 1.82943533]\n",
      " [2.2572353  2.08030361 2.27781937 2.36304273]\n",
      " [3.23994501 3.16628825 3.27499385 3.97330462]]\n"
     ]
    }
   ],
   "source": [
    "matriz = np.random.rand(3, 4) \n",
    "vector = np.arange(10, 50, 10)\n",
    "\n",
    "suma_1 = matriz + vector\n",
    "print(suma_1)\n",
    "\n",
    "vector_columna = [[1], [2], [3]]\n",
    "suma_2 = matriz + vector_columna\n",
    "print(suma_2)"
   ]
  }
 ],
 "metadata": {
  "kernelspec": {
   "display_name": "data_env",
   "language": "python",
   "name": "python3"
  },
  "language_info": {
   "codemirror_mode": {
    "name": "ipython",
    "version": 3
   },
   "file_extension": ".py",
   "mimetype": "text/x-python",
   "name": "python",
   "nbconvert_exporter": "python",
   "pygments_lexer": "ipython3",
   "version": "3.12.7"
  }
 },
 "nbformat": 4,
 "nbformat_minor": 2
}
