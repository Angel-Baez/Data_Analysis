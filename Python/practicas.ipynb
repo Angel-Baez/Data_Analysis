{
 "cells": [
  {
   "cell_type": "markdown",
   "metadata": {},
   "source": [
    "#### PRACTICAS (OPCIONALES)"
   ]
  },
  {
   "cell_type": "markdown",
   "metadata": {},
   "source": [
    "##### Ejercicio de Listas (Intermedio - Filtrado y Transformación):\n",
    "\n",
    "- Tienes una lista de frases: `frases = [\"Hola mundo\", \"Programando en Python\", \"Listas y tuplas son útiles\", \"Diccionarios clave-valor\", \"Sets para conjuntos únicos\"]`.\n",
    "- Crea una nueva lista llamada `frases_cortas` que contenga solo las frases de la lista `frases` que tengan menos de 25 caracteres (incluyendo espacios).\n",
    "- Luego, crea otra lista llamada `frases_mayusculas_cortas` que contenga las frases de `frases_cortas` convertidas a mayúsculas.\n",
    "- Finalmente, imprime las listas `frases_cortas` y `frases_mayusculas_cortas`"
   ]
  },
  {
   "cell_type": "code",
   "execution_count": 1,
   "metadata": {},
   "outputs": [
    {
     "name": "stdout",
     "output_type": "stream",
     "text": [
      "['Hola mundo', 'Programando en Python', 'Diccionarios clave-valor']\n",
      "['HOLA MUNDO', 'PROGRAMANDO EN PYTHON', 'DICCIONARIOS CLAVE-VALOR']\n"
     ]
    }
   ],
   "source": [
    "frases = [\"Hola mundo\", \"Programando en Python\", \"Listas y tuplas son útiles\", \"Diccionarios clave-valor\", \"Sets para conjuntos únicos\"]\n",
    "\n",
    "frases_cortas = [frase for frase in frases if len(frase) < 25] # Filtro las frases que tengan menos de 25 caracteres\n",
    "frases_mayusculas_cortas = [frase.upper() for frase in frases_cortas] # Transformo las frases a mayúsculas\n",
    "print(frases_cortas) # Output: ['Hola mundo', 'Programando en Python', 'Diccionarios clave-valor']\n",
    "print(frases_mayusculas_cortas) # Output: ['HOLA MUNDO', 'PROGRAMANDO EN PYTHON', 'DICIONARIOS CLAVE-VALOR']"
   ]
  },
  {
   "cell_type": "markdown",
   "metadata": {},
   "source": [
    "##### Ejercicio de Tuplas y Listas (Combinación - Datos Inmutables y Mutables):\n",
    "\n",
    "- Imagina que estás trabajando con datos de estudiantes. Tienes una lista de tuplas, donde cada tupla representa a un estudiante y contiene su nombre (cadena), su edad (entero) y su lista de materias aprobadas (lista de cadenas).\n",
    "Python\n",
    "\n",
    "```python\n",
    "estudiantes_data = [\n",
    "    (\"Ana\", 20, [\"Matemáticas\", \"Física\"]),\n",
    "    (\"Carlos\", 22, [\"Programación\", \"Química\", \"Matemáticas\"]),\n",
    "    (\"Sofía\", 21, [\"Literatura\", \"Historia\"]),\n",
    "    (\"David\", 19, [\"Física\", \"Programación\"])\n",
    "]\n",
    "```\n",
    "- Crea una función llamada `materias_por_estudiante(lista_estudiantes)` que tome como argumento `estudiantes_data`.\n",
    "- La función debe retornar un diccionario. Las claves del diccionario deben ser los nombres de los estudiantes (extraídos de las tuplas), y los valores deben ser las listas de materias aprobadas de cada estudiante.\n",
    "- Llama a la función con `estudiantes_data` e imprime el diccionario resultante."
   ]
  },
  {
   "cell_type": "code",
   "execution_count": 28,
   "metadata": {},
   "outputs": [
    {
     "name": "stdout",
     "output_type": "stream",
     "text": [
      "{'Ana': ['Matemáticas', 'Física'], 'Carlos': ['Programación', 'Química', 'Matemáticas'], 'Sofía': ['Literatura', 'Historia'], 'David': ['Física', 'Programación']}\n"
     ]
    }
   ],
   "source": [
    "estudiantes_data = [\n",
    "    (\"Ana\", 20, [\"Matemáticas\", \"Física\"]),\n",
    "    (\"Carlos\", 22, [\"Programación\", \"Química\", \"Matemáticas\"]),\n",
    "    (\"Sofía\", 21, [\"Literatura\", \"Historia\"]),\n",
    "    (\"David\", 19, [\"Física\", \"Programación\"])\n",
    "]\n",
    "\n",
    "def materias_por_estudiantes(lista_estudiantes):\n",
    "    \"\"\"\n",
    "Convierte una lista de estudiantes con sus materias en un diccionario.\n",
    "\n",
    "Cada estudiante será una clave en el diccionario, y su respectiva lista de materias será el valor asociado.\n",
    "\n",
    "Parameters:\n",
    "    lista_estudiantes (list): Lista de tuplas donde cada tupla contiene el nombre de un estudiante y su lista de materias.\n",
    "\n",
    "Returns:\n",
    "    dict: Diccionario donde las claves son los nombres de los estudiantes y los valores son listas de materias.\n",
    "\"\"\"\n",
    "\n",
    "    estudiantes = {}\n",
    "    for estudiante in lista_estudiantes:\n",
    "        nombre_estudiante = estudiante[0]  # Nombre del estudiante (string)\n",
    "        materias_estudiante = estudiante[2] # Lista de materias (list)\n",
    "        estudiantes[nombre_estudiante] = materias_estudiante\n",
    "    return estudiantes\n",
    "estudiantes = materias_por_estudiantes(estudiantes_data)\n",
    "print(estudiantes) # Output: {'Ana': ['Matemáticas', 'Física'], 'Carlos': [''Programación', 'Química', 'Matemáticas'], 'Sofía': ['Literatura', 'Historia'], 'David': ['Física', 'Programación']}"
   ]
  },
  {
   "cell_type": "markdown",
   "metadata": {},
   "source": [
    "##### Ejercicio de Diccionarios (Avanzado - Anidamiento y Búsqueda):\n",
    "\n",
    "- Tienes un diccionario que representa un árbol genealógico. Las claves del diccionario son nombres de personas, y los valores son diccionarios anidados que representan a sus padres (con claves \"padre\" y \"madre\", y valores como nombres o `None` si no se conoce al padre/madre).\n",
    "Python\n",
    "\n",
    "```python\n",
    "arbol_genealogico = {\n",
    "    \"Juan\": {\"padre\": \"Pedro\", \"madre\": \"María\"},\n",
    "    \"María\": {\"padre\": \"Luis\", \"madre\": \"Ana\"},\n",
    "    \"Pedro\": {\"padre\": \"Carlos\", \"madre\": \"Elena\"},\n",
    "    \"Ana\": {\"padre\": None, \"madre\": \"Isabel\"},\n",
    "    \"Carlos\": {\"padre\": None, \"madre\": None},\n",
    "    \"Elena\": {\"padre\": None, \"madre\": None},\n",
    "    \"Luis\": {\"padre\": None, \"madre\": None},\n",
    "    \"Isabel\": {\"padre\": None, \"madre\": None}\n",
    "}\n",
    "```\n",
    "- Crea una función llamada `abuelos(arbol, nombre_persona)` que tome como argumentos el diccionario `arbol_genealogico` y el `nombre_persona` (una cadena).\n",
    "- La función debe retornar una tupla con los nombres de los cuatro abuelos de `nombre_persona` (abuelo paterno, abuela paterna, abuelo materno, abuela materna). Si algún abuelo no se conoce (es `None` en el diccionario), debe retornar `None` en esa posición de la tupla.\n",
    "- Por ejemplo, para `nombre_persona = \"Juan\"`, la función debería retornar algo como `(\"Carlos\", \"Elena\", \"Luis\", \"Ana\")`.\n",
    "- Llama a la función con `arbol_genealogico` y `\"Juan\"` e imprime el resultado. Prueba también con otros nombres en el árbol."
   ]
  },
  {
   "cell_type": "code",
   "execution_count": null,
   "metadata": {},
   "outputs": [
    {
     "name": "stdout",
     "output_type": "stream",
     "text": [
      "('Carlos', 'Elena', 'Luis', 'Ana')\n",
      "(None, None, None, 'Isabel')\n",
      "(None, None, None, None)\n"
     ]
    }
   ],
   "source": [
    "# Definimos el diccionario del árbol genealógico\n",
    "arbol_genealogico = {\n",
    "    \"Juan\": {\"padre\": \"Pedro\", \"madre\": \"María\"},\n",
    "    \"María\": {\"padre\": \"Luis\", \"madre\": \"Ana\"},\n",
    "    \"Pedro\": {\"padre\": \"Carlos\", \"madre\": \"Elena\"},\n",
    "    \"Ana\": {\"padre\": None, \"madre\": \"Isabel\"},\n",
    "    \"Carlos\": {\"padre\": None, \"madre\": None},\n",
    "    \"Elena\": {\"padre\": None, \"madre\": None},\n",
    "    \"Luis\": {\"padre\": None, \"madre\": None},\n",
    "    \"Isabel\": {\"padre\": None, \"madre\": None}\n",
    "}\n",
    "# Definimos la función para obtener la información de un individuo\n",
    "def abuelos(arbol, nombre_persona):\n",
    "    \"\"\"\n",
    "Obtiene los nombres de los abuelos paternos y maternos de una persona.\n",
    "\n",
    "Parameters:\n",
    "    arbol (dict): Diccionario que representa el árbol genealógico, donde las claves son nombres de personas \n",
    "                  y los valores contienen información sobre sus padres.\n",
    "    nombre_persona (str): Nombre de la persona de quien se desean obtener los abuelos.\n",
    "\n",
    "Returns:\n",
    "    tuple: Una tupla con cuatros elementos: \n",
    "           - El primer elemento es el nombre del abuelo paterno\n",
    "           - El segundo el de la abuela paterna.\n",
    "           - El tercer elemento es el nombre del abuelo materno\n",
    "           - El cuarto el de la abuela materna.\n",
    "           Si no se encuentran los abuelos, se devuelve `None` en su lugar.\n",
    "\"\"\"\n",
    "\n",
    "    if nombre_persona not in arbol:\n",
    "        return (None, None, None, None)\n",
    "    \n",
    "\n",
    "    padre = arbol[nombre_persona].get(\"padre\")\n",
    "    madre = arbol[nombre_persona].get(\"madre\")\n",
    "\n",
    "    # Usamos .get(padre, {}).get(\"padre\") para manejar el caso donde 'padre' o 'madre' sean None en el árbol\n",
    "    # Si 'padre' es None, arbol.get(padre, {}) retorna {}, y {}.get(\"padre\") retorna None. ¡Sin errores!\n",
    "    abuelo_paterno = arbol.get(padre, {}).get(\"padre\")\n",
    "    abuela_paterna = arbol.get(padre, {}).get(\"madre\")\n",
    "    abuelo_materno = arbol.get(madre, {}).get(\"padre\")\n",
    "    abuela_materna = arbol.get(madre, {}).get(\"madre\")\n",
    "\n",
    "\n",
    "    \n",
    "    return (abuelo_paterno, abuela_paterna, abuelo_materno, abuela_materna)\n",
    "\n",
    "\n",
    "# Pruebas\n",
    "print(abuelos(arbol_genealogico, \"Juan\"))  # Output: (\"Carlos\", \"Elena\", \"Luis\", \"Isabel\")\n",
    "print(abuelos(arbol_genealogico, \"María\"))  # Output: (None, None, None, 'Isabel')\n",
    "print(abuelos(arbol_genealogico, \"Pedro\"))  # Output: (None, None, None, None)\n"
   ]
  },
  {
   "cell_type": "markdown",
   "metadata": {},
   "source": [
    "##### Ejercicio de Sets (Aplicación Práctica - Análisis de Palabras Únicas):\n",
    "\n",
    "- Tienes dos textos (pueden ser frases o párrafos más largos):\n",
    "\n",
    "```python\n",
    "texto1 = \"La rápida ardilla café salta sobre el tronco viejo.\"\n",
    "texto2 = \"El veloz zorro marrón brinca sobre el tronco añejo.\"\n",
    "```\n",
    "- Crea una función llamada `palabras_unicas_en_comun(texto_a, texto_b)` que tome como argumentos `texto1` y `texto2`.\n",
    "- La función debe realizar lo siguiente:\n",
    "   - Convertir ambos textos a minúsculas para que la comparación no distinga entre mayúsculas y minúsculas.\n",
    "   - Dividir cada texto en una lista de palabras, usando los espacios como separadores. Elimina también los signos de puntuación (puntos, comas, etc.) de las palabras, si los hay (puedes usar `replace()` para esto antes de dividir).\n",
    "   - Convertir cada lista de palabras a un set para obtener las palabras únicas de cada texto.\n",
    "   - Calcular la intersección de ambos sets para encontrar las palabras que son únicas y están en ambos textos.\n",
    "   - Retornar el set de palabras únicas en común.\n",
    "   - Llama a la función con `texto1` y `texto2` e imprime el set resultante."
   ]
  },
  {
   "cell_type": "code",
   "execution_count": null,
   "metadata": {},
   "outputs": [
    {
     "name": "stdout",
     "output_type": "stream",
     "text": [
      "{'sobre', 'el', 'tronco'}\n"
     ]
    }
   ],
   "source": [
    "texto1 = \"La rápida ardilla café salta sobre el tronco viejo.\"\n",
    "texto2 = \"El veloz zorro marrón brinca sobre el tronco añejo.\"\n",
    "\n",
    "def palabras_unicas_en_comun(texto_a, texto_b):\n",
    "    \"\"\"\n",
    "Obtiene las palabras únicas en común entre dos textos.\n",
    "\n",
    "Parameters:\n",
    "    texto_a (str): Primer texto a comparar.\n",
    "    texto_b (str): Segundo texto a comparar.\n",
    "\n",
    "Returns:\n",
    "    list: Lista de palabras únicas que aparecen en ambos textos. \n",
    "          La comparación no distingue mayúsculas y minúsculas, y los signos de puntuación son ignorados.\n",
    "\"\"\"\n",
    "\n",
    "    # Convertimos el texto a minúsculas\n",
    "    texto_a =texto_a.lower()\n",
    "    texto_b = texto_b.lower()\n",
    "    \n",
    "    # Convertimos el texto en una lista de palabras\n",
    "    lista_palabras_a = [palabra for palabra in texto_a.split(\" \")] \n",
    "    lista_palabras_b = [palabra for palabra in texto_b.split(\" \")]\n",
    "    \n",
    "    # reemplazamos los signos de puntuación\n",
    "    lista_palabras_a = [palabra.replace(\",\", \"\").replace(\".\", \"\").replace(\"!\", \"\").replace(\"?\", \"\") for palabra in lista_palabras_a]\n",
    "    lista_palabras_b = [palabra.replace(\",\", \"\").replace(\".\", \"\").replace(\"!\", \"\").replace(\"?\", \"\") for palabra in lista_palabras_b]\n",
    "    \n",
    "    # Obtenemos las palabras únicas en común\n",
    "    palabras_unicas = set(lista_palabras_a) & set(lista_palabras_b)\n",
    "    \n",
    "    \n",
    "    return palabras_unicas\n",
    "    \n",
    "    \n",
    "\n",
    "print(palabras_unicas_en_comun(texto1, texto2)) # Output: {'sobre', 'el', 'tronco'}\n"
   ]
  },
  {
   "cell_type": "markdown",
   "metadata": {},
   "source": [
    "##### Ejercicio de Comprensión de Listas (Complejo - Filtrado y Estructuración Anidada):\n",
    "\n",
    "- Tienes una lista de diccionarios, donde cada diccionario representa un producto con su nombre, categoría y precio:\n",
    "Python\n",
    "\n",
    "```python\n",
    "productos = [\n",
    "    {\"nombre\": \"Laptop\", \"categoria\": \"Electrónica\", \"precio\": 1200},\n",
    "    {\"nombre\": \"Camiseta\", \"categoria\": \"Ropa\", \"precio\": 25},\n",
    "    {\"nombre\": \"Auriculares\", \"categoria\": \"Electrónica\", \"precio\": 100},\n",
    "    {\"nombre\": \"Pantalones\", \"categoria\": \"Ropa\", \"precio\": 50},\n",
    "    {\"nombre\": \"Libro de Python\", \"categoria\": \"Libros\", \"precio\": 30},\n",
    "    {\"nombre\": \"Ratón Inalámbrico\", \"categoria\": \"Electrónica\", \"precio\": 20}\n",
    "]\n",
    "```\n",
    "- Usando comprensiones de lista anidadas (o comprensiones de lista dentro de comprensiones de lista), crea un nuevo diccionario llamado `productos_por_categoria`.\n",
    "- Este diccionario `productos_por_categoria` debe tener como claves las categorías de productos (\"Electrónica\", \"Ropa\", \"Libros\").\n",
    "- Y los valores deben ser listas de nombres de productos que pertenecen a cada categoría, pero solo para productos con un precio menor a 100.\n",
    "- La estructura del diccionario resultante debería ser algo así:\n",
    "> {\n",
    "    \"Electrónica\": [\"Auriculares\", \"Ratón Inalámbrico\"],\n",
    "    \"Ropa\": [\"Camiseta\", \"Pantalones\"],\n",
    "    \"Libros\": [\"Libro de Python\"] # (Aunque en realidad \"Libro de Python\" cuesta 30, así que debería estar aquí según la condición < 100)\n",
    "    # ... otras categorías y productos que cumplan la condición\n",
    "}\n",
    "- Imprime el diccionario `productos_por_categoria`."
   ]
  },
  {
   "cell_type": "code",
   "execution_count": 29,
   "metadata": {},
   "outputs": [
    {
     "name": "stdout",
     "output_type": "stream",
     "text": [
      "{'Electronica': ['Ratón Inalámbrico'], 'Ropa': ['Camiseta', 'Pantalones'], 'Libros': ['Libro de Python']}\n"
     ]
    }
   ],
   "source": [
    "productos = [\n",
    "    {\"nombre\": \"Laptop\", \"categoria\": \"Electrónica\", \"precio\": 1200},\n",
    "    {\"nombre\": \"Camiseta\", \"categoria\": \"Ropa\", \"precio\": 25},\n",
    "    {\"nombre\": \"Auriculares\", \"categoria\": \"Electrónica\", \"precio\": 100},\n",
    "    {\"nombre\": \"Pantalones\", \"categoria\": \"Ropa\", \"precio\": 50},\n",
    "    {\"nombre\": \"Libro de Python\", \"categoria\": \"Libros\", \"precio\": 30},\n",
    "    {\"nombre\": \"Ratón Inalámbrico\", \"categoria\": \"Electrónica\", \"precio\": 20}\n",
    "]\n",
    "\n",
    "productos_por_categoria = {\n",
    "    \"Electronica\": [producto.get(\"nombre\") for producto in productos if producto.get(\"categoria\") == \"Electrónica\" and producto.get(\"precio\") < 100],\n",
    "    \"Ropa\": [producto.get(\"nombre\") for producto in productos if producto.get(\"categoria\") == \"Ropa\" and producto.get(\"precio\") < 100],\n",
    "    \"Libros\": [producto.get(\"nombre\") for producto in productos if producto.get(\"categoria\") == \"Libros\" and producto.get(\"precio\") < 100]\n",
    "}\n",
    "print(productos_por_categoria)"
   ]
  }
 ],
 "metadata": {
  "kernelspec": {
   "display_name": "data_env",
   "language": "python",
   "name": "python3"
  },
  "language_info": {
   "codemirror_mode": {
    "name": "ipython",
    "version": 3
   },
   "file_extension": ".py",
   "mimetype": "text/x-python",
   "name": "python",
   "nbconvert_exporter": "python",
   "pygments_lexer": "ipython3",
   "version": "3.12.7"
  }
 },
 "nbformat": 4,
 "nbformat_minor": 2
}
