{
 "cells": [
  {
   "cell_type": "markdown",
   "metadata": {
    "notebookRunGroups": {
     "groupValue": "2"
    }
   },
   "source": [
    "### <B>SEMANA 3 DEL PLAN DE ESTUDIO</B>\n",
    "\n",
    "Temas:\n",
    "- <b>Listas</b>: creación, acceso a elementos, slicing, métodos de listas (`append()`, `insert()`, `remove()`, `pop()`, `sort()`, etc.).\n",
    "- <b>Tuplas</b>: creación, inmutabilidad, cuándo usar tuplas vs. listas.\n",
    "- <b>Diccionarios</b>: creación, acceso a elementos por clave, métodos de diccionarios (`keys`, `values`, `items`, `get,` `update`, etc.).\n",
    "- <b>Sets</b>: creación, operaciones de conjuntos (unión, intersección, diferencia, etc.), eliminación de duplicados.\n",
    "- <b>Comprensión de listas</b> (list comprehensions) - Una forma concisa y eficiente de crear listas."
   ]
  },
  {
   "cell_type": "markdown",
   "metadata": {},
   "source": [
    "#### <B>LISTAS</B>\n",
    "\n",
    "Las listas en Python son colecciones ordenadas y mutables de elementos.  Piensa en una lista como una secuencia de ítems, donde cada ítem tiene una posición específica (índice).  Las listas son increíblemente flexibles porque pueden contener elementos de diferentes tipos (números, cadenas, incluso otras listas) y su tamaño puede cambiar dinámicamente."
   ]
  },
  {
   "cell_type": "markdown",
   "metadata": {},
   "source": [
    "##### Creación de Listas:\n",
    "Puedes crear listas de varias maneras:\n",
    "> 1. Usando corchetes `[]` y separando los elementos internos por coma.\n",
    "> 2. Usando el método `list()` para convertir una tupla o cadena"
   ]
  },
  {
   "cell_type": "code",
   "execution_count": null,
   "metadata": {},
   "outputs": [],
   "source": [
    "# Usando []\n",
    "mi_lista = [1, 2, 3, 4, 5]\n",
    "lista_vacia = [] # lista vacia\n",
    "print(mi_lista) # Output: [1, 2, 3, 4, 5]\n",
    "print(lista_vacia)  # Output: []\n",
    "\n",
    "# Usando list()\n",
    "otra_lista = list((1, 2, 3, 4)) # Convierte una tupla a lista\n",
    "lista_desde_cadena = list(\"Python\") # Convierte una cadena a lista\n",
    "print(otra_lista) # Output: [1, 2, 3, 4]\n",
    "print(lista_desde_cadena) # Output: ['P', 'y', 't', 'h', 'o', 'n']"
   ]
  },
  {
   "cell_type": "markdown",
   "metadata": {},
   "source": [
    "##### Acceso a Elementos:\n",
    "Se accede a los elementos de una lista usando índices, que comienzan desde 0 para el primer elemento.  También puedes usar índices negativos para acceder desde el final de la lista ( -1 es el último elemento, -2 el penúltimo, etc.)."
   ]
  },
  {
   "cell_type": "code",
   "execution_count": null,
   "metadata": {},
   "outputs": [],
   "source": [
    "mi_lista = [\"banana\", \"mango\", \"kiwi\", \"naranja\"]\n",
    "print(mi_lista[0]) # Output: banana (primer elemento)\n",
    "print(mi_lista[1]) # Output: mango (segundo elemento)\n",
    "print(mi_lista[2]) # Output: kiwi (tercer elemento)\n",
    "print(mi_lista[-2]) # Output: kiwi (penúltimo elemento)\n",
    "print(mi_lista[-1]) # Output: naranja (último elemento)\n"
   ]
  },
  {
   "cell_type": "markdown",
   "metadata": {},
   "source": [
    "##### Slicing (Rebanado) de Listas:\n",
    "\n",
    "El slicing te permite extraer una \"sublista\" de una lista original.  Se usa la sintaxis `[inicio:fin:paso]`.\n",
    "\n",
    "- `inicio`: Índice de inicio del slice (inclusivo, por defecto es 0).\n",
    "- `fin`: Índice de fin del slice (exclusivo, por defecto es el final de la lista).\n",
    "- `paso`: Indica el \"salto\" entre elementos (por defecto es 1)."
   ]
  },
  {
   "cell_type": "code",
   "execution_count": null,
   "metadata": {},
   "outputs": [],
   "source": [
    "mi_lista = [0, 1, 2, 3, 4, 5, 6, 7, 8, 9]\n",
    "print(mi_lista[2:5])    # Output: [2, 3, 4] (elementos desde índice 2 hasta 4)\n",
    "print(mi_lista[:5])     # Output: [0, 1, 2, 3, 4] (desde el inicio hasta índice 4)\n",
    "print(mi_lista[5:])     # Output: [5, 6, 7, 8, 9] (desde índice 5 hasta el final)\n",
    "print(mi_lista[2:9:2])  # Output: [2, 4, 6, 8] (desde índice 2 hasta 8, tomando cada 2 elementos)\n",
    "print(mi_lista[::-1])   # Output: [9, 8, 7, 6, 5, 4, 3, 2, 1, 0] (invierte la lista)"
   ]
  },
  {
   "cell_type": "markdown",
   "metadata": {},
   "source": [
    "##### Métodos de Listas:\n",
    "\n",
    "Las listas en Python vienen con muchos métodos incorporados para manipularlas. Aquí algunos de los más comunes:\n",
    "- `append(elemento)`: Agrega un elemento al final de la lista.\n",
    "- `insert(indice, elemento)`: Inserta un elemento en la posición especificada.\n",
    "- `remove(elemento)`: Elimina la primera ocurrencia de un elemento específico.  Si el elemento no está en la lista, da error.\n",
    "- `pop(incice)`: Elimina un elemento en la posición especificada. Si no se especifica el índice, elimina el último elemento.\n",
    "- `sort()`: Ordena la lista in-place (modifica la lista original). Por defecto, ordena en orden ascendente. Puedes usar \n",
    "- `reverse=True` para orden descendente.\n",
    "- `reverse()`: Invierte el orden de la lista in-place.\n",
    "- `count()`: Devuelve el número de veces que aparece un elemento en la lista.\n",
    "- `index(elemento)`: Devuelve el índice de la primera ocurrencia de un elemento\n",
    "- `clear()`: Elimina todos los elementos de la lista."
   ]
  },
  {
   "cell_type": "code",
   "execution_count": null,
   "metadata": {},
   "outputs": [],
   "source": [
    "# append(elemento)\n",
    "lista = [\"banana\", \"cereza\"]\n",
    "lista.append(\"mango\")\n",
    "print(lista) # Output: ['banana', 'cereza', 'mango']\n",
    "\n",
    "# insert(indice, elemento)\n",
    "animales = [\"perro\", \"gato\"]\n",
    "animales.insert(1, \"conejo\") # Inserta \"conejo\" en el índice 1\n",
    "print(animales) # Output: ['perro', 'conejo', 'gato']\n",
    "\n",
    "# remove(elemento)\n",
    "numeros = [10, 20, 30, 20]\n",
    "numeros.remove(20) # Elimina la primera ocurrencia de 20\n",
    "print(numeros) # Output: [10, 30, 20]\n",
    "\n",
    "# pop(indice)\n",
    "colores = [\"rojo\", \"verde\", \"azul\"]\n",
    "color_eliminado = colores.pop(1) # Elimina y retorna el elemento en índice 1 (\"verde\")\n",
    "print(colores) # Output: ['rojo', 'azul']\n",
    "print(color_eliminado) # Output: verde\n",
    "\n",
    "ultimo_color = colores.pop() # Elimina y retorna el último elemento (\"azul\")\n",
    "print(colores) # Output: ['rojo']\n",
    "print(ultimo_color) # Output: azul\n",
    "\n",
    "# sort()\n",
    "numeros_desordenados = [5, 1, 9, 3]\n",
    "numeros_desordenados.sort() # Ordena en ascendente\n",
    "print(numeros_desordenados) # Output: [1, 3, 5, 9]\n",
    "\n",
    "letras = ['c', 'a', 'b']\n",
    "letras.sort(reverse=True) # Ordena en descendente\n",
    "print(letras) # Output: ['c', 'b', 'a']\n",
    "\n",
    "# reverce()\n",
    "mi_lista = [1, 2, 3, 4, 5]\n",
    "mi_lista.reverse()\n",
    "print(mi_lista) # Output: [5, 4, 3, 2, 1]\n",
    "\n",
    "# count()\n",
    "numeros = [1, 2, 2, 3, 2, 4]\n",
    "cantidad_de_dos = numeros.count(2)\n",
    "print(cantidad_de_dos) # Output: 3\n",
    "\n",
    "# index(elemento)\n",
    "frutas = [\"manzana\", \"banana\", \"cereza\"]\n",
    "indice_banana = frutas.index(\"banana\")\n",
    "print(indice_banana) # Output: 1\n",
    "\n",
    "# clear()\n",
    "mi_lista = [1, 2, 3]\n",
    "mi_lista.clear()\n",
    "print(mi_lista) # Output: []\n"
   ]
  },
  {
   "cell_type": "markdown",
   "metadata": {},
   "source": [
    "#### <B>TUPLAS</B>\n",
    "\n",
    "Las tuplas son similares a las listas, pero son inmutables. Una vez que creas una tupla, no puedes modificarla: no puedes añadir, eliminar o cambiar elementos.  Las tuplas son ordenadas."
   ]
  },
  {
   "cell_type": "markdown",
   "metadata": {},
   "source": [
    "##### Creación de Tuplas:\n",
    "\n",
    "Puedes crear una tupla de la siguiente manera:\n",
    "- Usando paréntesis `()` para rodear los elementos de la tupla y separando los elementos con comas `,`.\n",
    "- Usando la función `tuple()` para convertir una lista o cualquier otro tipo de colección.\n"
   ]
  },
  {
   "cell_type": "code",
   "execution_count": null,
   "metadata": {},
   "outputs": [],
   "source": [
    "# Usando ()\n",
    "mi_tupla = (1, 2, 3, \"hola\", 4.5)\n",
    "tupla_vacia = () # Tupla vacía\n",
    "tupla_un_elemento = (5,) # OJO: coma al final para tupla de un elemento\n",
    "print(mi_tupla) # Output: (1, 2, 3, 'hola', 4.5)\n",
    "print(tupla_vacia) # Output: ()\n",
    "print(tupla_un_elemento) # Output: (5,)\n",
    "\n",
    "# Usanso tuple()\n",
    "lista_para_tupla = [10, 20, 30]\n",
    "tupla_desde_lista = tuple(lista_para_tupla) # Convierte una lista en tupla\n",
    "print(tupla_desde_lista) # Output: (10, 20, 30)"
   ]
  },
  {
   "cell_type": "markdown",
   "metadata": {},
   "source": [
    "##### Acceso a Elementos:\n",
    "\n",
    "Al igual que las listas, se accede a los elementos de una tupla usando índices."
   ]
  },
  {
   "cell_type": "code",
   "execution_count": null,
   "metadata": {},
   "outputs": [],
   "source": [
    "mi_tupla = (\"rojo\", \"verde\", \"azul\")\n",
    "print(mi_tupla[0])   # Output: rojo\n",
    "print(mi_tupla[-1])  # Output: azul"
   ]
  },
  {
   "cell_type": "markdown",
   "metadata": {},
   "source": [
    "##### Inmutabilidad:\n",
    "\n",
    "La característica clave de las tuplas es su inmutabilidad.  Si intentas modificar una tupla después de su creación, obtendrás un error"
   ]
  },
  {
   "cell_type": "code",
   "execution_count": null,
   "metadata": {},
   "outputs": [],
   "source": [
    "mi_tupla = (1, 2, 3)\n",
    "# mi_tupla[0] = 10 # Esto causará un error: TypeError: 'tuple' object does not support item assignment"
   ]
  },
  {
   "cell_type": "markdown",
   "metadata": {},
   "source": [
    "##### Cuándo usar Tuplas vs. Listas:\n",
    "\n",
    "- <b>Inmutabilidad es importante</b>: Cuando quieres asegurarte de que los datos no se modifiquen accidentalmente. Las tuplas protegen la integridad de los datos.\n",
    "- <b>Representar datos fijos</b>: Para datos que no deberían cambiar, como coordenadas (latitud, longitud), registros (nombre, edad, ciudad), etc.\n",
    "- <b>Claves en diccionarios (a veces)</b>: Las tuplas pueden usarse como claves en diccionarios (porque son inmutables), mientras que las listas no pueden (porque son mutables).\n",
    "- <b>Retornar múltiples valores de una función</b>: Las funciones en Python pueden retornar múltiples valores empaquetándolos en una tupla.\n",
    "- <b>Ligeramente más eficientes (en rendimiento y memoria)</b>: En algunos casos, las tuplas pueden ser ligeramente más eficientes que las listas en términos de rendimiento y uso de memoria, especialmente para colecciones grandes y estáticas, ya que Python puede realizar algunas optimizaciones debido a su inmutabilidad."
   ]
  },
  {
   "cell_type": "markdown",
   "metadata": {},
   "source": [
    "#### <B>DICCIONARIOS</B>\n",
    "\n",
    "Los diccionarios en Python son colecciones no ordenadas de pares clave-valor.  Cada elemento en un diccionario consiste en una clave única y un valor asociado a esa clave.  Los diccionarios son muy útiles para representar relaciones entre datos, o para buscar información rápidamente usando una clave.  Son mutables"
   ]
  },
  {
   "cell_type": "markdown",
   "metadata": {},
   "source": [
    "##### Creacion de Diccionarios:\n",
    "\n",
    "Puedes crear diccionarios de varias maneras:\n",
    "- Usando llaves `{}` y pares clave-valor separados por dos puntos `:` y los pares separados por comas\n",
    "- Usando la función `dict()` y pasando un iterable de pares clave-valor."
   ]
  },
  {
   "cell_type": "code",
   "execution_count": 9,
   "metadata": {},
   "outputs": [
    {
     "name": "stdout",
     "output_type": "stream",
     "text": [
      "{'nombre': 'Ana', 'edad': 30, 'ciudad': 'Madrid'}\n",
      "{}\n",
      "{'nombre': 'Carlos', 'edad': 25, 'profesion': 'Ingeniero'}\n",
      "{'fruta': 'manzana', 'color': 'rojo'}\n"
     ]
    }
   ],
   "source": [
    "# Usando {}\n",
    "mi_diccionario = {\"nombre\": \"Ana\", \"edad\": 30, \"ciudad\": \"Madrid\"}\n",
    "diccionario_vacio = {} # Diccionario vacío\n",
    "print(mi_diccionario) # Output: {'nombre': 'Ana', 'edad': 30, 'ciudad': 'Madrid'}\n",
    "print(diccionario_vacio) # Output: {}\n",
    "\n",
    "# Usando dict()\n",
    "otro_diccionario = dict(nombre=\"Carlos\", edad=25, profesion=\"Ingeniero\") # Claves como palabras clave\n",
    "diccionario_desde_tuplas = dict([(\"fruta\", \"manzana\"), (\"color\", \"rojo\")]) # Lista de tuplas clave-valor\n",
    "print(otro_diccionario) # Output: {'nombre': 'Carlos', 'edad': 25, 'profesion': 'Ingeniero'}\n",
    "print(diccionario_desde_tuplas) # Output: {'fruta': 'manzana', 'color': 'rojo'}"
   ]
  },
  {
   "cell_type": "markdown",
   "metadata": {},
   "source": [
    "##### Acceso a Elementos:\n",
    "\n",
    "Se accede a los valores en un diccionario usando su clave entre corchetes `[]`"
   ]
  },
  {
   "cell_type": "code",
   "execution_count": 2,
   "metadata": {},
   "outputs": [
    {
     "name": "stdout",
     "output_type": "stream",
     "text": [
      "Elena\n",
      "28\n"
     ]
    }
   ],
   "source": [
    "persona = {\"nombre\": \"Elena\", \"edad\": 28, \"ciudad\": \"Barcelona\"}\n",
    "print(persona[\"nombre\"]) # Output: Elena (valor asociado a la clave \"nombre\")\n",
    "print(persona[\"edad\"])   # Output: 28 (valor asociado a la clave \"edad\")\n",
    "# print(persona[\"profesion\"]) # Esto causaría un error KeyError: 'profesion' si la clave no existe"
   ]
  },
  {
   "cell_type": "markdown",
   "metadata": {},
   "source": [
    "##### Métodos de Diccionarios:\n",
    "\n",
    "- `get(clave, valor_por_defecto)`:  Retorna el valor asociado a la clave. Si la clave no existe, retorna `valor_por_defecto` (si se proporciona, si no, retorna `None`).\n",
    "- `keys()`: Retorna una vista de todas las claves del diccionario.  Esta vista se puede iterar o convertir a una lista.\n",
    "- `values()`: Retorna una vista de todos los valores del diccionario. Similar a `keys()`, se puede iterar o convertir a una lista.\n",
    "- `items()`: Retorna una lista de tuplas con las claves y valores del diccionario como tuplas.\n",
    "- `update(otro_diccionario)`:   Actualiza el diccionario con los pares clave-valor de `otro_diccionario`. Si una clave ya existe, se actualiza su valor; si no existe, se añade el nuevo par clave-valor.\n",
    "- `pop(clave, valor_por_defecto)`: Elimina el par clave-valor asociado a la clave y devuelve el valor asociado a la clave. Si la clave no existe, devuelve `valor_por_defecto` (si se proporciona, si no, da error `KeyError`).\n",
    "- `clear()`: Elimina todos los pares clave-valor del diccionario, dejándolo vacío."
   ]
  },
  {
   "cell_type": "code",
   "execution_count": 6,
   "metadata": {},
   "outputs": [
    {
     "name": "stdout",
     "output_type": "stream",
     "text": [
      "sofia@example.com\n",
      "None\n",
      "No disponible\n",
      "dict_keys(['nombre', 'curso', 'calificacion'])\n",
      "['nombre', 'curso', 'calificacion']\n",
      "dict_values(['Javier', 'Python', 9])\n",
      "['Javier', 'Python', 9]\n",
      "dict_items([('nombre', 'Javier'), ('curso', 'Python'), ('calificacion', 9)])\n",
      "[('nombre', 'Javier'), ('curso', 'Python'), ('calificacion', 9)]\n",
      "{'nombre': 'Laura', 'edad': 35, 'ciudad': 'Valencia'}\n",
      "{'nombre': 'Laptop', 'stock': 10}\n",
      "1200\n",
      "0\n",
      "{}\n"
     ]
    }
   ],
   "source": [
    "# get()\n",
    "contacto = {\"nombre\": \"Sofia\", \"email\": \"sofia@example.com\"}\n",
    "email = contacto.get(\"email\") # Obtiene el valor de \"email\"\n",
    "print(email) # Output: sofia@example.com\n",
    "\n",
    "telefono = contacto.get(\"telefono\") # \"telefono\" no existe, retorna None (por defecto)\n",
    "print(telefono) # Output: None\n",
    "\n",
    "telefono_defecto = contacto.get(\"telefono\", \"No disponible\") # \"telefono\" no existe, retorna \"No disponible\"\n",
    "print(telefono_defecto) # Output: No disponible\n",
    "\n",
    "# keys()\n",
    "alumno = {\"nombre\": \"Javier\", \"curso\": \"Python\", \"calificacion\": 9}\n",
    "claves = alumno.keys()\n",
    "print(claves) # Output: dict_keys(['nombre', 'curso', 'calificacion'])\n",
    "\n",
    "lista_claves = list(alumno.keys()) # Convierte la vista a una lista\n",
    "print(lista_claves) # Output: ['nombre', 'curso', 'calificacion']\n",
    "\n",
    "# values()\n",
    "alumno = {\"nombre\": \"Javier\", \"curso\": \"Python\", \"calificacion\": 9}\n",
    "valores = alumno.values()\n",
    "print(valores) # Output: dict_values(['Javier', 'Python', 9])\n",
    "\n",
    "lista_valores = list(alumno.values())\n",
    "print(lista_valores) # Output: ['Javier', 'Python', 9]\n",
    "\n",
    "# items()\n",
    "alumno = {\"nombre\": \"Javier\", \"curso\": \"Python\", \"calificacion\": 9}\n",
    "items = alumno.items()\n",
    "print(items) # Output: dict_items([('nombre', 'Javier'), ('curso', 'Python'), ('calificacion', 9)])\n",
    "\n",
    "lista_items = list(alumno.items())\n",
    "print(lista_items) # Output: [('nombre', 'Javier'), ('curso', 'Python'), ('calificacion', 9)]\n",
    "\n",
    "# update()\n",
    "persona = {\"nombre\": \"Laura\", \"edad\": 32}\n",
    "actualizacion = {\"ciudad\": \"Valencia\", \"edad\": 35} # \"edad\" se actualiza, \"ciudad\" se añade\n",
    "persona.update(actualizacion)\n",
    "print(persona) # Output: {'nombre': 'Laura', 'edad': 35, 'ciudad': 'Valencia'}\n",
    "\n",
    "# pop()\n",
    "producto = {\"nombre\": \"Laptop\", \"precio\": 1200, \"stock\": 10}\n",
    "precio = producto.pop(\"precio\") # Elimina y retorna el valor de \"precio\"\n",
    "print(producto) # Output: {'nombre': 'Laptop', 'stock': 10}\n",
    "print(precio) # Output: 1200\n",
    "\n",
    "descuento = producto.pop(\"descuento\", 0) # \"descuento\" no existe, retorna 0 (valor por defecto)\n",
    "print(descuento) # Output: 0\n",
    "# stock_inexistente = producto.pop(\"stock_inexistente\") # Esto causaría un error KeyError\n",
    "\n",
    "# clear()\n",
    "mi_diccionario = {\"a\": 1, \"b\": 2}\n",
    "mi_diccionario.clear()\n",
    "print(mi_diccionario) # Output: {}"
   ]
  },
  {
   "cell_type": "markdown",
   "metadata": {},
   "source": [
    "##### Cuándo usar Diccionarios:\n",
    "\n",
    "- Cuando necesitas almacenar datos como pares clave-valor.\n",
    "- Cuando necesitas buscar valores rápidamente usando una clave.\n",
    "- Para representar información estructurada donde cada pieza de datos tiene una etiqueta o nombre (la clave).\n",
    "- Ejemplos: configuraciones, información de usuarios, conteo de palabras (palabra como clave, conteo como valor), índices, etc"
   ]
  },
  {
   "cell_type": "markdown",
   "metadata": {},
   "source": [
    "#### <b>SETS (Conjuntos)</b>\n",
    "\n",
    "Los sets son colecciones no ordenadas de elementos únicos. Esto significa que un set no puede contener elementos duplicados. Los sets son útiles para operaciones de conjuntos (como unión, intersección, etc.) y para eliminar duplicados de una colección.  Son mutables."
   ]
  },
  {
   "cell_type": "markdown",
   "metadata": {},
   "source": [
    "##### Creación de Sets:\n",
    "\n",
    "Puedes crear sets de la siguiente manera:\n",
    "> 1. Usando llaves `{}` y separando los elementos con comas. <b>OJO</b>: para crear un set vacío, no uses `{}`, usa `set()`, ya que `{}` crea un diccionario vacío.\n",
    "> 2. Usando la función `set()` y pasando un iterable (como una lista o tupla). Esto es muy común para convertir otras colecciones a sets y eliminar duplicados."
   ]
  },
  {
   "cell_type": "code",
   "execution_count": null,
   "metadata": {},
   "outputs": [],
   "source": [
    "# Usando {}\n",
    "mi_set = {1, 2, 3, 3, 4} # Duplicados se eliminan automáticamente\n",
    "set_vacio = set() # Set vacío\n",
    "print(mi_set) # Output: {1, 2, 3, 4} (Nota: el orden podría variar, sets no son ordenados)\n",
    "print(set_vacio) # Output: set()\n",
    "# set_vacio_incorrecto = {} # Esto crea un diccionario vacío, ¡NO un set vacío!\n",
    "\n",
    "# Usando set()\n",
    "lista_con_duplicados = [1, 2, 2, 3, 4, 4, 4]\n",
    "set_desde_lista = set(lista_con_duplicados) # Elimina duplicados de la lista\n",
    "print(set_desde_lista) # Output: {1, 2, 3, 4} (Orden no garantizado)"
   ]
  },
  {
   "cell_type": "markdown",
   "metadata": {},
   "source": [
    "##### Operaciones de Conjuntos:\n",
    "\n",
    "Los sets soportan operaciones matemáticas de conjuntos:\n",
    "\n",
    "- Unión (`|` o `union()`):  Combina dos sets y retorna un nuevo set que contiene todos los elementos de ambos sets.\n",
    "- Intersección (`&` o `intersection()`):  Combina dos sets y retorna un nuevo set que contiene solo los elementos que están presentes en ambos sets.\n",
    "- Diferencia (`-` o `difference()`):  Combina dos sets y retorna un nuevo set que contiene solo los elementos que están presentes en el primer set pero no en el segundo.\n",
    "- Diferencia simétrica (`^` o `symmetric_difference()`):  Combina dos sets y retorna un nuevo set que contiene solo los elementos que están presentes en uno de los sets pero no en ambos.\n",
    "- Subconjunto (`<=` o `issubset(otro_set)`):  Verifica si un set es un subconjunto de `otro_set`.\n",
    "- Superconjunto (`>=` o `issuperset(otro_set)`):  Verifica si un set es un superconjunto de `otro_set`."
   ]
  },
  {
   "cell_type": "code",
   "execution_count": null,
   "metadata": {},
   "outputs": [],
   "source": [
    "# | o union()\n",
    "set1 = {1, 2, 3}\n",
    "set2 = {3, 4, 5}\n",
    "union_set = set1 | set2 # Usando el operador |\n",
    "# union_set = set1.union(set2) # Usando el método union()\n",
    "print(union_set) # Output: {1, 2, 3, 4, 5}\n",
    "\n",
    "# & o intersection()\n",
    "set1 = {1, 2, 3, 4}\n",
    "set2 = {3, 4, 5, 6}\n",
    "interseccion_set = set1 & set2 # Usando el operador &\n",
    "# interseccion_set = set1.intersection(set2) # Usando el método intersection()\n",
    "print(interseccion_set) # Output: {3, 4}\n",
    "\n",
    "# - o difference()\n",
    "set1 = {1, 2, 3, 4, 5}\n",
    "set2 = {3, 5, 6}\n",
    "diferencia_set = set1 - set2 # Usando el operador - (elementos en set1 pero no en set2)\n",
    "# diferencia_set = set1.difference(set2) # Usando el método difference()\n",
    "print(diferencia_set) # Output: {1, 2, 4}\n",
    "\n",
    "# ^ o symmetric_difference()\n",
    "set1 = {1, 2, 3, 4}\n",
    "set2 = {3, 4, 5, 6}\n",
    "diferencia_simetrica_set = set1 ^ set2 # Usando el operador ^\n",
    "# diferencia_simetrica_set = set1.symmetric_difference(set2) # Usando el método symmetric_difference()\n",
    "print(diferencia_simetrica_set) # Output: {1, 2, 5, 6}\n",
    "\n",
    "# <= o issubset() y >= o issuperset()\n",
    "set_a = {1, 2}\n",
    "set_b = {1, 2, 3, 4}\n",
    "# print(set_a.issubset(set_b)) # Usando el método issubset()\n",
    "# print(set_b.issuperset(set_a)) # Usando el método issuperset()\n",
    "print(set_a <= set_b) # Output: True (set_a es subconjunto de set_b)\n",
    "print(set_b >= set_a) # Output: True (set_b es superconjunto de set_a)\n"
   ]
  },
  {
   "cell_type": "markdown",
   "metadata": {},
   "source": [
    "##### Eliminación de Duplicados:\n",
    "\n",
    "Una de las utilidades más comunes de los sets es eliminar elementos duplicados de una lista u otra colección."
   ]
  },
  {
   "cell_type": "code",
   "execution_count": 14,
   "metadata": {},
   "outputs": [
    {
     "name": "stdout",
     "output_type": "stream",
     "text": [
      "{1, 2, 3, 4, 5}\n",
      "[1, 2, 3, 4, 5]\n"
     ]
    }
   ],
   "source": [
    "numeros_con_duplicados = [1, 2, 2, 3, 4, 4, 4, 5]\n",
    "numeros_unicos = set(numeros_con_duplicados) # Convierte a set para eliminar duplicados\n",
    "lista_sin_duplicados = list(numeros_unicos) # Convierte de vuelta a lista si necesitas una lista\n",
    "print(numeros_unicos) # Output: {1, 2, 3, 4, 5} (Orden no garantizado)\n",
    "print(lista_sin_duplicados) # Output: [1, 2, 3, 4, 5] (Orden no garantizado, pero una lista sin duplicados)"
   ]
  },
  {
   "cell_type": "markdown",
   "metadata": {},
   "source": [
    "##### Cuándo usar Sets:\n",
    "\n",
    "- Cuando necesitas almacenar colecciones de elementos únicos.\n",
    "- Cuando necesitas realizar operaciones de conjuntos (unión, intersección, diferencia, etc.).\n",
    "- Para eliminar duplicados de listas u otras colecciones rápidamente.\n",
    "- Para verificar la pertenencia de un elemento a una colección de manera eficiente (la verificación elemento in set es muy rápida)."
   ]
  },
  {
   "cell_type": "markdown",
   "metadata": {},
   "source": [
    "#### <b>LIST COMPREHESIONS (Comprensión de Listas)</b>\n",
    "\n",
    "Las comprensiones de listas son una forma concisa y a menudo más eficiente de crear listas en Python.  Permiten crear listas basadas en iteraciones y/o condiciones de manera muy compacta"
   ]
  },
  {
   "cell_type": "markdown",
   "metadata": {},
   "source": [
    "##### Sintaxis Básica:\n",
    "\n",
    "La sintaxis general de una comprensión de lista es:\n",
    "\n",
    "```python\n",
    "[expresión for elemento in iterable if condición]\n",
    "```\n",
    "\n",
    "- `expresión`: La expresión que se evalúa para cada `elemento` y que se añade a la nueva lista.\n",
    "- `for elemento in iterable`: Itera sobre cada `elemento` en un `iterable` (como una lista, rango, cadena, etc.).\n",
    "- `if condición` (opcional): Filtra los elementos. Solo los elementos que cumplan la `condición` se procesarán."
   ]
  },
  {
   "cell_type": "markdown",
   "metadata": {},
   "source": [
    "##### Ejemplos:"
   ]
  },
  {
   "cell_type": "code",
   "execution_count": 18,
   "metadata": {},
   "outputs": [
    {
     "name": "stdout",
     "output_type": "stream",
     "text": [
      "[0, 1, 4, 9, 16, 25, 36, 49, 64, 81]\n",
      "[0, 2, 4, 6, 8, 10, 12, 14, 16, 18]\n",
      "['MANZANA', 'BANANA', 'CEREZA']\n",
      "[4, 5, 7, 4, 6, 8]\n"
     ]
    }
   ],
   "source": [
    "# Crear una lista de los cuadrados de los números del 0 al 9:\n",
    "cuadrados = [x**2 for x in range(10)]\n",
    "print(cuadrados) # Output: [0, 1, 4, 9, 16, 25, 36, 49, 64, 81]\n",
    "\n",
    "# Crear una lista de números pares del 0 al 19:\n",
    "pares = [numero for numero in range(20) if numero % 2 == 0]\n",
    "print(pares) # Output: [0, 2, 4, 6, 8, 10, 12, 14, 16, 18]\n",
    "\n",
    "# Convertir una lista de cadenas a mayúsculas:\n",
    "frutas = [\"manzana\", \"banana\", \"cereza\"]\n",
    "frutas_mayusculas = [fruta.upper() for fruta in frutas]\n",
    "print(frutas_mayusculas) # Output: ['MANZANA', 'BANANA', 'CEREZA']\n",
    "\n",
    "# Crear una lista de longitud de palabras en una frase (solo para palabras de más de 3 letras):\n",
    "frase = \"Esta es una frase de ejemplo para contar palabras\"\n",
    "palabras = frase.split() # Divide la frase en palabras\n",
    "longitudes_palabras_largas = [len(palabra) for palabra in palabras if len(palabra) > 3]\n",
    "print(longitudes_palabras_largas) # Output: [5, 5, 6, 7] (Longitudes de \"Esta\", \"frase\", \"ejemplo\", \"palabras\")"
   ]
  },
  {
   "cell_type": "markdown",
   "metadata": {},
   "source": [
    "##### Ventajas de las Comprensiones de Lista:\n",
    "\n",
    "- Concisión: Escriben el mismo código en menos líneas, haciendo el código más compacto y a menudo más legible (para casos sencillos).\n",
    "- Legibilidad (en casos simples): Para operaciones de creación de listas comunes (transformaciones, filtrados), las comprensiones de lista pueden ser más fáciles de leer y entender que los bucles `for` tradicionales.\n",
    "- Potencialmente más eficientes: En algunos casos, las comprensiones de lista pueden ser ligeramente más rápidas que usar bucles `for` explícitos para crear listas, especialmente para operaciones simples, porque Python puede optimizar la creación de listas en las comprensiones.\n"
   ]
  },
  {
   "cell_type": "markdown",
   "metadata": {},
   "source": [
    "### PRACTICAS"
   ]
  },
  {
   "cell_type": "markdown",
   "metadata": {},
   "source": [
    "##### Ejercicio de Listas:\n",
    "\n",
    "- Crea una lista llamada numeros con los números del 1 al 10.\n",
    "- Añade el número 11 al final de la lista.\n",
    "- Inserta el número 0 al principio de la lista.\n",
    "- Elimina el número 5 de la lista.\n",
    "- Imprime el tamaño (longitud) de la lista.\n",
    "- Imprime el último elemento de la lista usando indexación negativa.\n",
    "- Crea una nueva lista llamada sub_lista que contenga los elementos desde el índice 2 hasta el 5 (inclusive) de la lista numeros usando slicing.\n",
    "- Ordena la lista numeros en orden descendente y imprime la lista ordenada.\n",
    " "
   ]
  },
  {
   "cell_type": "code",
   "execution_count": null,
   "metadata": {},
   "outputs": [
    {
     "name": "stdout",
     "output_type": "stream",
     "text": [
      "11\n",
      "11\n",
      "[2, 3, 4, 6]\n",
      "[11, 10, 9, 8, 7, 6, 4, 3, 2, 1, 0]\n"
     ]
    }
   ],
   "source": [
    "numeros = [1, 2, 3, 4, 5, 6, 7, 8, 9, 10] # Lista con numeros\n",
    "numeros.append(11) # Añadimos 11 al final de la lista\n",
    "numeros.insert(0, 0) # Insertamos 0 al principio de la lista\n",
    "numeros.pop(5) # Eliminamos 5 de la lista\n",
    "\n",
    "print(len(numeros)) # Imprimimos la longitud de la lista\n",
    "print(numeros[-1]) # Imprimimos el último elemento de la lista\n",
    "\n",
    "sub_lista = numeros[2:6] # Creanos un nueva lista que contiene los elementos desde el indice 2 al 5\n",
    "print(sub_lista) # Output: [2, 3, 4, 6]\n",
    "numeros.sort(reverse=True) # Ordenamos la lista en orden decendente\n",
    "\n",
    "print(numeros)  # Output: [11, 10, 9, 8, 7, 6, 4, 3, 2, 1, 0]"
   ]
  },
  {
   "cell_type": "markdown",
   "metadata": {},
   "source": [
    "##### Ejercicio de Tuplas:\n",
    "\n",
    "- Crea una tupla llamada coordenadas con los valores (4, 5).\n",
    "- Intenta modificar el primer elemento de la tupla coordenadas a 10. ¿Qué sucede? (Explica por qué).\n",
    "- Crea una nueva tupla llamada coordenadas_3d que sea la concatenación de coordenadas con otra tupla que contenga el valor 6.\n",
    "- Desempaqueta la tupla coordenadas_3d en tres variables x, y, z y muestra los valores de x, y y z."
   ]
  },
  {
   "cell_type": "code",
   "execution_count": null,
   "metadata": {},
   "outputs": [
    {
     "name": "stdout",
     "output_type": "stream",
     "text": [
      "4\n",
      "5\n",
      "6\n"
     ]
    }
   ],
   "source": [
    "coordenadas = (4, 5) \n",
    "# coordenadas[4] = 10 # Esto lanza un TypeError porque las tuplas no son inmutables\n",
    "coordenadas2 = (6,)\n",
    "coordenadas_3d = coordenadas + coordenadas2 # concatenamos las tuplas coordenadas y coordenadas2\n",
    "\n",
    "x, y, z = coordenadas_3d # Desempaquetamos coordenadas_3d\n",
    "\n",
    "print(x) # Output: 4\n",
    "print(y) # Output: 5\n",
    "print(z) # Output: 6\n",
    "\n",
    "\n",
    "\n",
    "\n",
    "\n",
    "\n"
   ]
  },
  {
   "cell_type": "markdown",
   "metadata": {},
   "source": [
    "##### Ejercicio de Diccionarios:\n",
    "\n",
    "- Crea un diccionario llamado persona con las claves: \"nombre\", \"edad\", \"ciudad\" y asigna valores correspondientes (por ejemplo, \"Juan\", 35, \"Buenos Aires\").\n",
    "- Imprime el nombre de la persona accediendo al valor a través de la clave \"nombre\".\n",
    "- Añade una nueva clave \"profesion\" al diccionario persona con un valor (por ejemplo, \"Programador\").\n",
    "- Actualiza la edad de la persona en el diccionario a 36.\n",
    "- Elimina la clave \"ciudad\" del diccionario.\n",
    "- Imprime todas las claves del diccionario persona.\n",
    "- Imprime todos los valores del diccionario persona.\n",
    "- Imprime todos los ítems (pares clave-valor) del diccionario persona.\n",
    "- Usa el método get() para intentar obtener el valor de la clave \"pais\". ¿Qué retorna si la clave no existe?"
   ]
  },
  {
   "cell_type": "code",
   "execution_count": null,
   "metadata": {},
   "outputs": [],
   "source": [
    "persona = {\"nombre\": \"Juan\", \"edad\": 35, \"ciudad\": \"Buenos Aires\"} # Diccionario con 3 claves-valor\n",
    "print(persona[\"nombre\"]) # Output: Juan\n",
    "\n",
    "persona[\"profesion\"] = \"Pogramador\" # Añadimos una nueva clave-valor\n",
    "persona[\"edad\"] = 36 # Actualizamos el valor de la clave \"edad\"\n",
    "del persona[\"ciudad\"] # Eliminamos la clave \"ciudad\"\n",
    "\n",
    "print(persona.keys()) # Output: dict_keys(['nombre', 'edad', 'profesion'])\n",
    "print(persona.values()) # Output: dict_values(['Juan', 36, 'Programador'])\n",
    "print(persona.items()) # Output: dict_items([('nombre', 'Juan'), ('edad', 36), ('profesion, 'Ingeniero')])\n",
    "print(persona.get(\"pais\")) # Output: None (no existe la clave \"pais\")"
   ]
  },
  {
   "cell_type": "markdown",
   "metadata": {},
   "source": [
    "##### Ejercicio de Sets:\n",
    "\n",
    "- Crea dos sets llamados set1 y set2. set1 con los números {1, 2, 3, 4, 5} y set2 con los números {3, 4, 5, 6, 7}.\n",
    "- Calcula e imprime la unión de set1 y set2.\n",
    "- Calcula e imprime la intersección de set1 y set2.\n",
    "- Calcula e imprime la diferencia de set1 con respecto a set2 (elementos en set1 que no están en set2).\n",
    "- Calcula e imprime la diferencia simétrica de set1 y set2.\n",
    "- Crea una lista con duplicados: lista_duplicados = [10, 20, 10, 30, 20, 40]. Convierte lista_duplicados a un set para eliminar los duplicados y luego convierte el set resultante de nuevo a una lista. Imprime la lista sin duplicados."
   ]
  },
  {
   "cell_type": "code",
   "execution_count": null,
   "metadata": {},
   "outputs": [
    {
     "name": "stdout",
     "output_type": "stream",
     "text": [
      "{1, 2, 3, 4, 5, 6, 7}\n",
      "{3, 4, 5}\n",
      "{1, 2}\n",
      "{1, 2, 6, 7}\n",
      "{40, 10, 20, 30}\n"
     ]
    }
   ],
   "source": [
    "set1 = {1, 2, 3, 4, 5}\n",
    "set2 = {3, 4, 5, 6, 7}\n",
    "\n",
    "union_set = set1 | set2 # Usando el operador de unión (|)\n",
    "print(union_set) # Output: {1, 2, 3, 4, 5, 6, 7}\n",
    "\n",
    "interseccion_set = set1 & set2 # Usando el operador de intersección (&)\n",
    "print(interseccion_set) # Output: {3, 4, 5}\n",
    "\n",
    "diferencia_set = set1 - set2 # Usando el operador de diferencia (-)\n",
    "print(diferencia_set) # Output: {1, 2}\n",
    "\n",
    "diferencia_simetrica_set = set1 ^ set2 # Usando el operador de diferencia simétrica (^)\n",
    "print(diferencia_simetrica_set) # Output: {1, 2, 6, 7}\n",
    "\n",
    "lista_duplicados = [10, 20, 10, 30, 20, 40] # Lista con elementos duplicados\n",
    "lista_sin_duplicados = set(lista_duplicados) # Convertir la lista a un conjunto para eliminar los duplicados\n",
    "print(lista_sin_duplicados) # Output: {10, 20, 30, 40} (Orden no garantizado)"
   ]
  },
  {
   "cell_type": "markdown",
   "metadata": {},
   "source": [
    "##### Ejercicio de Comprensión de Listas:\n",
    "\n",
    "- Usando una comprensión de lista, crea una lista llamada cuadrados_pares que contenga los cuadrados de todos los números pares del 2 al 12 (inclusive).\n",
    "- Usando una comprensión de lista, crea una lista llamada iniciales que contenga las iniciales de una lista de nombres completos: nombres_completos = [\"Ana Pérez\", \"Juan Gómez\", \"Isabel Rodríguez\"]. La salida debería ser ['A', 'J', 'I'].\n",
    "- Usando una comprensión de lista con una condición if, crea una lista llamada palabras_largas que contenga solo las palabras de más de 4 letras de la siguiente frase: frase = \"El rápido zorro marrón salta sobre el perro perezoso\"."
   ]
  },
  {
   "cell_type": "code",
   "execution_count": null,
   "metadata": {},
   "outputs": [
    {
     "name": "stdout",
     "output_type": "stream",
     "text": [
      "[4, 16, 36, 64, 100, 144]\n",
      "['A', 'J', 'I']\n",
      "['rápido', 'zorro', 'marrón', 'salta', 'sobre', 'perro', 'perezoso']\n"
     ]
    }
   ],
   "source": [
    "cuadrados_pares = [i**2 for i in range(2, 13) if i % 2 == 0] # Cuadrados de los números pares del 2 al 12\n",
    "print(cuadrados_pares) # Output: [4, 16, 36, 64, 100]\n",
    "\n",
    "nombres_completos = [\"Ana Pérez\", \"Juan Gómez\", \"Isabel Rodríguez\"]\n",
    "iniciales = [nombre.split()[0][0] for nombre in nombres_completos] # Iniciales de los nombres\n",
    "print(iniciales) # Output: ['A', 'J', 'I']\n",
    "\n",
    "frase = \"El rápido zorro marrón salta sobre el perro perezoso\"\n",
    "palabras_largas = [palabra for palabra in frase.split() if len(palabra) > 4] # Palabras con más de 4 caracteres\n",
    "print(palabras_largas) # Output: ['rápido', 'zorro', 'marrón', 'salta', 'sobre', 'perro', 'perezoso']"
   ]
  }
 ],
 "metadata": {
  "kernelspec": {
   "display_name": "data_env",
   "language": "python",
   "name": "python3"
  },
  "language_info": {
   "codemirror_mode": {
    "name": "ipython",
    "version": 3
   },
   "file_extension": ".py",
   "mimetype": "text/x-python",
   "name": "python",
   "nbconvert_exporter": "python",
   "pygments_lexer": "ipython3",
   "version": "3.12.7"
  }
 },
 "nbformat": 4,
 "nbformat_minor": 2
}
