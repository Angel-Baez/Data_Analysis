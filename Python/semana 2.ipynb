{
 "cells": [
  {
   "cell_type": "markdown",
   "metadata": {},
   "source": [
    "#### SEMANA 2 DEL PLAN DE ESTUDIO\n",
    "```python\n",
    "Temas:\n",
    "Sentencias condicionales: if, elif, else.\n",
    "Bucles: for y while.\n",
    "Funciones: definición, argumentos, valor de retorno, ámbito de las variables.\n",
    "Buenas prácticas de escritura de funciones (documentación, nombres descriptivos).\n",
    "```"
   ]
  },
  {
   "cell_type": "markdown",
   "metadata": {},
   "source": [
    "##### Condicionales: if, elif & else\n",
    "\n",
    "```python\n",
    "Las sentencias condicionales permiten ejecutar bloques de código dependiendo de si una condición es True (verdadera) o False (falsa).\n",
    "\n",
    "if: se utiliza para evaluar una condición y ejecutar un bloque de código si la condición es verdadera.\n",
    "elif: se utiliza para evaluar una condición adicional si la condición principal es falsa\n",
    "else: se utiliza para ejecutar un bloque de código si ninguna de las condiciones anteriores es verdadera.\n",
    "```"
   ]
  },
  {
   "cell_type": "code",
   "execution_count": null,
   "metadata": {},
   "outputs": [
    {
     "name": "stdout",
     "output_type": "stream",
     "text": [
      "Bien\n"
     ]
    }
   ],
   "source": [
    "calificacion = 75 #Cambiar el valor de la calificacion para probar el programa\n",
    "\n",
    "if calificacion >= 90: #Si la calificacion es mayor o igual a 90\n",
    "    print(\"Excelente\") #Imprime \"Excelente\"\n",
    "elif calificacion >= 80: #Si la calificacion es mayor o igual a 80\n",
    "    print(\"Muy bien\") #Imprime \"Muy bien\"\n",
    "elif calificacion >= 70: #Si la calificacion es mayor o igual a 70\n",
    "    print(\"Bien\") #Imprime \"Bien\"\n",
    "elif calificacion >= 60: #Si la calificacion es mayor o igual a 60\n",
    "    print(\"Suficiente\") #Imprime \"Suficiente\"\n",
    "else: #Si no se cumple ninguna de las condiciones anteriores\n",
    "    print(\"Nececitas mejorar\") #Imprime \"Nececitas mejorar\""
   ]
  },
  {
   "cell_type": "markdown",
   "metadata": {},
   "source": [
    "##### Bucles: For & While\n",
    "```Python\n",
    "Los bucles nos permiten repetir un bloque de código varias veces. Son esenciales para automatizar tareas repetitivas.\n",
    "\n",
    "for: Se utiliza para iterar sobre una secuencia (como una lista o un string) y ejecutar un bloque de código para cada elemento.\n",
    "while: Se utiliza para ejecutar un bloque de código mientras una condición sea verdadera.\n",
    "```"
   ]
  },
  {
   "cell_type": "code",
   "execution_count": null,
   "metadata": {},
   "outputs": [
    {
     "name": "stdout",
     "output_type": "stream",
     "text": [
      "Número: 1\n",
      "Número: 2\n",
      "Número: 3\n",
      "Número: 4\n",
      "Número: 5\n",
      "Valor de i: 1\n",
      "Valor de i: 2\n",
      "Valor de i: 3\n",
      "Valor de i: 4\n",
      "Valor de i: 5\n"
     ]
    }
   ],
   "source": [
    "\"\"\"FOR\"\"\"\n",
    "# Iterando sobre una lista\n",
    "numeros = [1, 2, 3, 4, 5]\n",
    "for num in numeros:\n",
    "    print(\"Número:\", num)\n",
    "\n",
    "# Iterando sobre un rango de números\n",
    "for i in range(1, 6):  # range(1, 6) genera números del 1 al 5\n",
    "    print(\"Valor de i:\", i)\n",
    "\n",
    "\"\"\"WIHLE\"\"\"\n",
    "contador = 0\n",
    "while contador < 5:\n",
    "    print(\"Contador:\", contador)\n",
    "    contador = contador + 1 # Incrementamos el contador en cada iteración"
   ]
  },
  {
   "cell_type": "markdown",
   "metadata": {},
   "source": [
    "##### Funciones \n",
    "```Python\n",
    "Las funciones son bloques de código reutilizables que realizan una tarea específica.  Ayudan a organizar el código, hacerlo más legible y evitar la repetición.\n",
    "\n",
    "def: La palabra clave para definir una función en Python es \"def\".\n",
    "Argumentos: Los argumentos son los valores que se pasan a la función cuando se llama. Pueden ser obligatorios o opcionales (con valores por defecto).\n",
    "return: La función puede devolver un valor utilizando la palabra clave \"return\". Si no se utiliza \"return \", la función devuelve None por defecto.\n",
    "Ambito de las variables: se refiere a la parte del programa donde esa variable es accesible. Hay dos ámbitos principales:\n",
    "- Local: las variables definidas dentro de una función son locales a esa función y no se pueden acceder desde fuera de ella.\n",
    "- Global: las variables definidas fuera de una función son accesibles desde cualquier parte del programa.\n",
    "```"
   ]
  },
  {
   "cell_type": "code",
   "execution_count": null,
   "metadata": {},
   "outputs": [
    {
     "name": "stdout",
     "output_type": "stream",
     "text": [
      "Hola, Guido!\n",
      "Hola, Mundo!\n",
      "Hola, Python!\n",
      "8\n",
      "True\n",
      "False\n",
      "Soy local\n",
      "Soy global\n",
      "Soy global\n"
     ]
    }
   ],
   "source": [
    "def saludar(nombre):\n",
    "    print(f'Hola, {nombre}!')\n",
    "\n",
    "# Llamamos a la función saludar con diferentes valores\n",
    "saludar('Guido')  # Imprime: Hola, Guido!\n",
    "saludar('Mundo')  # Imprime: Hola, Mundo!\n",
    "saludar('Python')  # Imprime: Hola, Python!\n",
    "\n",
    "def sumar(a, b):  # 'a' y 'b' son parámetros\n",
    "    return a + b\n",
    "\n",
    "resultado = sumar(5, 3) # 5 y 3 son argumentos\n",
    "print(resultado) # Imprime: 8\n",
    "\n",
    "def es_par(num):\n",
    "    if num % 2 == 0:\n",
    "        return True\n",
    "    else:\n",
    "        return False\n",
    "\n",
    "# Llamamos a la función y guardamos el resultado en una variable\n",
    "print(es_par(4))  # Imprime: True\n",
    "print(es_par(3))  # Imprime: False\n",
    "\n",
    "def mi_funcion():\n",
    "    variable_local = \"Soy local\"\n",
    "    print(variable_local)\n",
    "\n",
    "mi_funcion() # Imprime: Soy local\n",
    "# print(variable_local)  # Esto causaría un error, variable_local no está definida fuera de mi_funcion\n",
    "\n",
    "variable_global = \"Soy global\"\n",
    "\n",
    "def otra_funcion():\n",
    "    print(variable_global) # Podemos acceder a variable_global aquí\n",
    "\n",
    "otra_funcion() # Imprime: Soy global\n",
    "print(variable_global) # Imprime: Soy global\n",
    "\n",
    "contador_global = 0\n",
    "\n",
    "def incrementar_contador():\n",
    "    global contador_global # Indicamos que vamos a usar la variable global\n",
    "    contador_global = contador_global + 1\n",
    "\n",
    "incrementar_contador()\n",
    "print(contador_global) # Imprime: 1"
   ]
  },
  {
   "cell_type": "markdown",
   "metadata": {},
   "source": [
    "##### Buenas Practicas en la Escritura de Funciones\n",
    "\n",
    "```python\n",
    "Documentación: Usa docstrings (\"\"\" ... \"\"\") para describir lo que hace la función.\n",
    "Nombres descriptivos: El nombre de la función debe indicar claramente su propósito.\n",
    "Evitar efectos secundarios: Una función no debería modificar variables globales a menos que sea necesario.\n",
    "```"
   ]
  },
  {
   "cell_type": "code",
   "execution_count": null,
   "metadata": {},
   "outputs": [],
   "source": [
    "#Ejemplo de buena práctica\n",
    "def calcular_area_rectangulo(base, altura):\n",
    "    \"\"\"\n",
    "    Calcula el área de un rectángulo.\n",
    "\n",
    "    Args:\n",
    "        base: La longitud de la base del rectángulo.\n",
    "        altura: La altura del rectángulo.\n",
    "\n",
    "    Returns:\n",
    "        El área del rectángulo (base * altura).\n",
    "    \"\"\"\n",
    "    return base * altura\n",
    "\n",
    "# Puedes acceder a la docstring así:\n",
    "help(calcular_area_rectangulo)"
   ]
  },
  {
   "cell_type": "markdown",
   "metadata": {},
   "source": [
    "#### PRACTICAS"
   ]
  },
  {
   "cell_type": "markdown",
   "metadata": {},
   "source": [
    "##### Ejercicio de Condicionales: \n",
    "> 1. Escribe un programa que pida al usuario su edad y le diga si es un niño (0-12 años), adolescente (13-17 años), adulto (18-64 años) o adulto mayor (65+ años).\n",
    "> 2. Escribe un programa que pida al usuario su edad y le diga si es menor de edad, mayor de edad o si tiene exactamente 18 años"
   ]
  },
  {
   "cell_type": "code",
   "execution_count": 37,
   "metadata": {},
   "outputs": [
    {
     "name": "stdout",
     "output_type": "stream",
     "text": [
      "Debes introducir un número\n"
     ]
    }
   ],
   "source": [
    "try:\n",
    "    edad_usuario = int(input(\"Por favor, introduce tu edad: \"))\n",
    "\n",
    "    if edad_usuario <= 12:\n",
    "        print(\"Eres un niño\")\n",
    "    elif edad_usuario <= 17: # Ya sabemos que es mayor de 12 aquí\n",
    "        print(\"Eres un adolescente\")\n",
    "    elif edad_usuario <= 64: # Ya sabemos que es mayor de 17 aquí\n",
    "        print(\"Eres un adulto\")\n",
    "    elif edad_usuario >= 65:\n",
    "        print(\"Eres un adulto mayor\")\n",
    "    else: # Este else realmente solo se alcanzaría si la edad fuera negativa (o algún otro caso no manejado, aunque con int(input) es difícil)\n",
    "        print(\"Edad inválida\")\n",
    "except ValueError:\n",
    "    print(\"Debes introducir un número\")"
   ]
  },
  {
   "cell_type": "code",
   "execution_count": null,
   "metadata": {},
   "outputs": [
    {
     "name": "stdout",
     "output_type": "stream",
     "text": [
      "Tienes 18 años\n"
     ]
    }
   ],
   "source": [
    "try:\n",
    "    edad_usuario = int(input(\"Por favor, introduce tu edad: \"))\n",
    "\n",
    "    if edad_usuario > 18:\n",
    "        print(\"¡Felicidades! Eres mayor de edad.\")\n",
    "    elif edad_usuario == 18:\n",
    "        print(\"¡Tienes 18 años! Acabas de alcanzar la mayoría de edad.\")\n",
    "    else:\n",
    "        print(\"Aún eres menor de edad. ¡Disfruta esta etapa!\")\n",
    "except ValueError:\n",
    "    print(\"Error: Por favor, introduce un número válido.\")"
   ]
  },
  {
   "cell_type": "markdown",
   "metadata": {},
   "source": [
    "##### Ejercicio de Bucle for: \n",
    "> 1. Escribe un programa que imprima la tabla de multiplicar del 7 (desde 7x1 hasta 7x10) usando un bucle for."
   ]
  },
  {
   "cell_type": "code",
   "execution_count": null,
   "metadata": {},
   "outputs": [],
   "source": [
    "for i in range(1, 11):\n",
    "    tabla = i * 7\n",
    "    print(f\"7 x {i} = {tabla}\")"
   ]
  },
  {
   "cell_type": "markdown",
   "metadata": {},
   "source": [
    "##### Ejercicio de Bucle while: \n",
    "Escribe un programa que pida al usuario que adivine un número secreto (por ejemplo, el número secreto es 15). El programa debe seguir pidiendo al usuario que introduzca un número hasta que adivine correctamente. Si el usuario introduce un número incorrecto, el programa debe decir \"Demasiado alto\" o \"Demasiado bajo\". Cuando adivine el número, debe imprimir \"¡Correcto! ¡Adivinaste el número secreto!\" y terminar."
   ]
  },
  {
   "cell_type": "code",
   "execution_count": 46,
   "metadata": {},
   "outputs": [
    {
     "name": "stdout",
     "output_type": "stream",
     "text": [
      "¡Correcto! ¡Adivinaste el número secreto, que era 7!\n"
     ]
    }
   ],
   "source": [
    "num_secreto = 7\n",
    "adivinanza = 0\n",
    "\n",
    "while adivinanza != num_secreto:\n",
    "    adivinanza = int(input(\"Adivina el número secreto: \"))\n",
    "    \n",
    "    if adivinanza > num_secreto:\n",
    "        print(\"Demasiado alto\")\n",
    "    elif adivinanza < num_secreto:\n",
    "        print(\"Demasiado bajo\")\n",
    "    else:\n",
    "        print(f\"¡Correcto! ¡Adivinaste el número secreto, que era {num_secreto}!\")"
   ]
  },
  {
   "cell_type": "markdown",
   "metadata": {},
   "source": [
    "##### Ejercicio de Funciones: \n",
    "> 1. Escribe una función llamada calcular_factorial(n) que calcule y devuelva el factorial de un número entero n. Recuerda que el factorial de un número n (n!) es el producto de todos los enteros positivos menores o iguales a n. Por ejemplo, 5! = 5 x 4 x 3 x 2 x 1 = 120. Incluye una docstring que explique qué hace la función\n",
    "> 2. Crea una función llamada es_primo que tome un número como argumento y devuelva True si es primo y False si no lo es.\n",
    "> 3. Escribe una función es_par(numero) que reciba un número entero y retorne True si el número es par y False si es impar.\n",
    "> 4. Escribe una función llamada calcular_promedio que tome una lista de números como argumento, calcule su promedio y lo devuelva. Asegúrate de documentar la función correctamente."
   ]
  },
  {
   "cell_type": "code",
   "execution_count": null,
   "metadata": {},
   "outputs": [
    {
     "name": "stdout",
     "output_type": "stream",
     "text": [
      "120\n"
     ]
    }
   ],
   "source": [
    "def calcular_factorial(n):\n",
    "    \"\"\"\n",
    "    Calcula el factorial de un número entero no negativo n.\n",
    "\n",
    "    El factorial de n (n!) se define como el producto de todos los enteros\n",
    "    positivos menores o iguales a n (si n > 0), y 1 si n = 0.\n",
    "    Ejemplo: 5! = 5 * 4 * 3 * 2 * 1 = 120.\n",
    "\n",
    "    Args:\n",
    "        n (int): Número entero no negativo.\n",
    "\n",
    "    Returns:\n",
    "        int: El factorial de n.\n",
    "    \"\"\"\n",
    "    factorial = 1\n",
    "    if n < 0:\n",
    "        raise ValueError(\"El factorial no está definido para números negativos\") # Podrías manejar el caso de negativos si quisieras\n",
    "    elif n == 0:\n",
    "        return 1 # Caso base: 0! = 1\n",
    "    else:\n",
    "        while n > 0:\n",
    "            factorial *= n\n",
    "            n -= 1\n",
    "        return factorial\n",
    "\n",
    "resultado = calcular_factorial(5)\n",
    "\n",
    "print(resultado) # Output: 120"
   ]
  },
  {
   "cell_type": "code",
   "execution_count": 47,
   "metadata": {},
   "outputs": [
    {
     "name": "stdout",
     "output_type": "stream",
     "text": [
      "True\n",
      "False\n"
     ]
    }
   ],
   "source": [
    "# Verificar si el numeroes primo\n",
    "def es_primo(num):\n",
    "    if num <= 1:\n",
    "        return False\n",
    "    for i in range(2, int(num**0.5) + 1):\n",
    "        if num % i == 0:\n",
    "            return False\n",
    "    return True\n",
    "\n",
    "print(es_primo(7))\n",
    "print(es_primo(8))\n"
   ]
  },
  {
   "cell_type": "code",
   "execution_count": null,
   "metadata": {},
   "outputs": [],
   "source": [
    "def es_par(num):\n",
    "    \"\"\"Verifica si un número es par.\n",
    "\n",
    "    Args:\n",
    "        num (int): El número a verificar.\n",
    "\n",
    "    Returns:\n",
    "        bool: True si el número es par, False en caso contrario.\n",
    "    \"\"\"\n",
    "    return num % 2 == 0\n",
    "# Ejemplo de uso\n",
    "print(es_par(4))  # True\n",
    "print(es_par(3))  # False"
   ]
  },
  {
   "cell_type": "code",
   "execution_count": null,
   "metadata": {},
   "outputs": [
    {
     "name": "stdout",
     "output_type": "stream",
     "text": [
      "<class 'float'>\n",
      "11.0\n"
     ]
    }
   ],
   "source": [
    "numeros = [2, 4, 6, 8, 10, 12, 14, 16, 18, 20]\n",
    "\n",
    "def calcular_promedio(lista_numeros):\n",
    "    \"\"\"\n",
    "    Calcula el promedio de una lista de números enteros.\n",
    "\n",
    "    Args:\n",
    "        lista_numeros (list): Lista de números enteros.\n",
    "\n",
    "    Returns:\n",
    "        float: Promedio de la lista de números enteros.\n",
    "               Devuelve 0 si la lista está vacía.\n",
    "    \"\"\"\n",
    "    if not lista_numeros:  # Verifica si la lista está vacía\n",
    "        return 0\n",
    "    return sum(lista_numeros) / len(lista_numeros)\n",
    "\n",
    "# Ejemplo de uso\n",
    "print(calcular_promedio(numeros))  # Salida: 11.0"
   ]
  },
  {
   "cell_type": "markdown",
   "metadata": {},
   "source": [
    "##### Ejercicio Combinado: \n",
    "Escribe un programa que pida al usuario que introduzca una lista de números separados por comas. Luego, define una función llamada encontrar_mayor(lista_numeros) que tome esta lista como argumento y devuelva el número mayor de la lista. Usa un bucle for dentro de la función para recorrer la lista. El programa principal debe llamar a esta función e imprimir el número mayor encontrado"
   ]
  },
  {
   "cell_type": "code",
   "execution_count": 40,
   "metadata": {},
   "outputs": [
    {
     "name": "stdout",
     "output_type": "stream",
     "text": [
      "El número mayor de la lista es: 5\n"
     ]
    }
   ],
   "source": [
    "# Solicita al usuario una lista de números separados por coma\n",
    "entrada = input(\"Introduce una lista de números separados por coma (,): \")\n",
    "\n",
    "def encontrar_mayor(cadena_numeros):\n",
    "    \"\"\"Encuentra el mayor de una lista de números representada como una cadena.\n",
    "\n",
    "    Args:\n",
    "        cadena_numeros (str): Cadena con números separados por comas.\n",
    "\n",
    "    Returns:\n",
    "        int: El mayor de la lista, o None si la entrada es inválida.\n",
    "    \"\"\"\n",
    "    try:\n",
    "        lista_numeros = [int(i.strip()) for i in cadena_numeros.split(\",\")]\n",
    "        return max(lista_numeros)\n",
    "    except ValueError:\n",
    "        print(\"Error: Asegúrate de ingresar solo números separados por comas.\")\n",
    "        return None\n",
    "\n",
    "numero_mayor = encontrar_mayor(entrada)\n",
    "if numero_mayor is not None:\n",
    "    print(f'El número mayor de la lista es: {numero_mayor}')\n"
   ]
  },
  {
   "cell_type": "markdown",
   "metadata": {},
   "source": [
    "##### Impresión con Bucle\n",
    "> 1. Escribe un programa que utilice un bucle for para imprimir los números del 1 al 10 y luego otro bucle while que haga lo mismo\n"
   ]
  },
  {
   "cell_type": "code",
   "execution_count": null,
   "metadata": {},
   "outputs": [],
   "source": [
    "# Bucle for\n",
    "print(\"Usando un bucle for:\")\n",
    "for i in range(1, 11):\n",
    "    print(i)\n",
    "\n",
    "# Bucle while\n",
    "print(\"\\nUsando un bucle while:\")\n",
    "contador = 1  # Comenzamos desde 1 para ser consistentes con el bucle for\n",
    "while contador <= 10:\n",
    "    print(contador)\n",
    "    contador += 1\n"
   ]
  },
  {
   "cell_type": "markdown",
   "metadata": {},
   "source": [
    "##### Longitud de Cadenas\n",
    "Escribe una función longitudes_cadenas(lista_cadenas) que, dada una lista de cadenas, retorne una nueva lista que contenga la longitud de cada cadena"
   ]
  },
  {
   "cell_type": "code",
   "execution_count": 50,
   "metadata": {},
   "outputs": [
    {
     "name": "stdout",
     "output_type": "stream",
     "text": [
      "[5, 5, 6, 4, 5]\n"
     ]
    }
   ],
   "source": [
    "def longitudes_cadenas(lista_cadenas):\n",
    "    \"\"\"Retorna una lista con las longitudes de cada cadena en la lista de cadenas.\"\"\"\n",
    "    return [len(cadena) for cadena in lista_cadenas]\n",
    "\n",
    "lista = [\"arroz\", \"trigo\", \"cebada\", \"soja\", \"milho\"]\n",
    "cadenas_longitudes = longitudes_cadenas(lista)\n",
    "print(cadenas_longitudes)\n"
   ]
  }
 ],
 "metadata": {
  "kernelspec": {
   "display_name": "data_env",
   "language": "python",
   "name": "python3"
  },
  "language_info": {
   "codemirror_mode": {
    "name": "ipython",
    "version": 3
   },
   "file_extension": ".py",
   "mimetype": "text/x-python",
   "name": "python",
   "nbconvert_exporter": "python",
   "pygments_lexer": "ipython3",
   "version": "3.12.7"
  }
 },
 "nbformat": 4,
 "nbformat_minor": 2
}
