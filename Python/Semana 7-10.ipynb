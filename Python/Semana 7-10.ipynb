{
 "cells": [
  {
   "cell_type": "markdown",
   "metadata": {},
   "source": [
    "# Semana 7-10: Pandas - Manipulación y Análisis de Datos Tabulares"
   ]
  },
  {
   "cell_type": "markdown",
   "metadata": {},
   "source": [
    "## 1. Introducción a Pandas y DataFrames\n",
    "\n",
    "### ¿Qué es Pandas?\n",
    "\n",
    "**Pandas** es una librería de Python de código abierto, construida sobre NumPy, que proporciona estructuras de datos de alto rendimiento y herramientas de análisis de datos fáciles de usar.  El nombre \"Pandas\" proviene de \"Panel Data\", un término econométrico para datos tabulares multidimensionales.\n",
    "\n",
    "Pandas está diseñada para que el trabajo con datos tabulares sea **intuitivo, flexible y eficiente**.  Se ha convertido en una herramienta fundamental en el ecosistema de ciencia de datos de Python, siendo ampliamente utilizada en análisis de datos, limpieza de datos, preparación de datos, exploración de datos y muchas otras tareas relacionadas.\n",
    "\n",
    "### DataFrames: La Estructura de Datos Fundamental\n",
    "\n",
    "El corazón de Pandas es el **DataFrame**. Un DataFrame es una estructura de datos tabular **bidimensional** con **etiquetas en filas y columnas**.  Puedes pensar en un DataFrame como una hoja de cálculo en Excel, una tabla en una base de datos SQL o un diccionario de Series de NumPy.\n",
    "\n",
    "[Image of Pandas DataFrame Structure]\n",
    "\n",
    "Las características clave de un DataFrame son:\n",
    "\n",
    "*   **Datos Tabulares:** Organiza los datos en filas y columnas, similar a una tabla.\n",
    "*   **Columnas Etiquetadas:** Cada columna tiene un **nombre** (etiqueta), que permite acceder a los datos de manera intuitiva.\n",
    "*   **Filas Indexadas:** Cada fila tiene un **índice**, que por defecto es numérico (0, 1, 2, ...), pero puede ser personalizado con etiquetas significativas (fechas, nombres, etc.).\n",
    "*   **Tipos de Datos Heterogéneos por Columna:**  A diferencia de los arrays NumPy, **cada columna de un DataFrame puede tener un tipo de datos diferente** (enteros, flotantes, cadenas, booleanos, fechas, etc.).  Sin embargo, **dentro de una misma columna, todos los elementos deben ser del mismo tipo**.\n",
    "*   **Flexibilidad y Funcionalidad:** Pandas DataFrames ofrecen una gran flexibilidad y una amplia gama de funciones para manipular, limpiar, transformar y analizar datos tabulares.\n",
    "\n",
    "### DataFrames vs. Arrays NumPy:\n",
    "\n",
    "Si bien Pandas se construye sobre NumPy y utiliza arrays NumPy internamente, los DataFrames son una estructura de datos de nivel superior con características adicionales diseñadas específicamente para datos tabulares. Aquí hay algunas diferencias clave:\n",
    "\n",
    "| Característica             | Arrays NumPy (ndarrays)                  | DataFrames de Pandas                        |\n",
    "| -------------------------- | ---------------------------------------- | ------------------------------------------- |\n",
    "| Estructura de datos        | N-dimensional (generalmente numéricos)     | Bidimensional (tabular)                     |\n",
    "| Etiquetas de columnas      | No tiene etiquetas de columna por defecto | Columnas etiquetadas con nombres             |\n",
    "| Índices de filas           | Índices numéricos por defecto            | Índices numéricos o personalizados           |\n",
    "| Tipos de datos por columna | Homogéneo (mismo tipo en todo el array) | Heterogéneo (diferentes tipos por columna, homogéneo dentro de columna) |\n",
    "| Uso Principal              | Computación numérica eficiente            | Manipulación y análisis de datos tabulares |\n",
    "\n",
    "En resumen:\n",
    "\n",
    "*   **Usa NumPy cuando:** Necesitas realizar operaciones numéricas intensivas en datos homogéneos (ej. cálculos matemáticos, álgebra lineal, procesamiento de imágenes).\n",
    "*   **Usa Pandas cuando:** Necesitas manipular y analizar datos tabulares, especialmente datos que pueden ser heterogéneos y requieren funcionalidades de etiquetado, indexación, limpieza, transformación y análisis exploratorio.\n",
    "\n",
    "---\n"
   ]
  },
  {
   "cell_type": "markdown",
   "metadata": {},
   "source": [
    "## 2. Series en Pandas (Arrays Unidimensionales Indexados)\n",
    "\n",
    "### ¿Qué es una Serie?\n",
    "\n",
    "Una **Serie** en Pandas es una estructura de datos **unidimensional** que puede contener cualquier tipo de datos (enteros, flotantes, cadenas, fechas, etc.).  Es similar a un array NumPy 1D, pero con la diferencia clave de que una Serie tiene un **índice** etiquetado.\n",
    "\n",
    "[Image of Pandas Series Structure]\n",
    "\n",
    "Piensa en una Serie como una columna individual de un DataFrame.  De hecho, un DataFrame se puede ver como una colección de Series que comparten el mismo índice.\n",
    "\n",
    "### Creación de Series:\n",
    "\n",
    "Puedes crear una Serie de Pandas de varias maneras:\n",
    "\n",
    "*   **A partir de una lista de Python:**"
   ]
  },
  {
   "cell_type": "code",
   "execution_count": 2,
   "metadata": {},
   "outputs": [
    {
     "name": "stdout",
     "output_type": "stream",
     "text": [
      "0    10\n",
      "1    20\n",
      "2    30\n",
      "3    40\n",
      "4    50\n",
      "dtype: int64\n",
      "<class 'pandas.core.series.Series'>\n",
      "RangeIndex(start=0, stop=5, step=1)\n",
      "[10 20 30 40 50]\n"
     ]
    }
   ],
   "source": [
    "import pandas as pd\n",
    "\n",
    "lista_datos = [10, 20, 30, 40, 50]\n",
    "serie_lista = pd.Series(lista_datos)\n",
    "print(serie_lista)\n",
    "print(type(serie_lista))\n",
    "print(serie_lista.index)\n",
    "print(serie_lista.values)"
   ]
  },
  {
   "cell_type": "markdown",
   "metadata": {},
   "source": [
    "*   **A partir de un array NumPy:**"
   ]
  },
  {
   "cell_type": "code",
   "execution_count": 4,
   "metadata": {},
   "outputs": [
    {
     "name": "stdout",
     "output_type": "stream",
     "text": [
      "0    1.1\n",
      "1    2.2\n",
      "2    3.3\n",
      "3    4.4\n",
      "4    5.5\n",
      "dtype: float64\n"
     ]
    }
   ],
   "source": [
    "import pandas as pd\n",
    "import numpy as np\n",
    "\n",
    "array_datos = np.array([1.1, 2.2, 3.3, 4.4, 5.5])\n",
    "serie_array = pd.Series(array_datos)\n",
    "print(serie_array)"
   ]
  },
  {
   "cell_type": "markdown",
   "metadata": {},
   "source": [
    "*   **A partir de un diccionario de Python:**"
   ]
  },
  {
   "cell_type": "code",
   "execution_count": 6,
   "metadata": {},
   "outputs": [
    {
     "name": "stdout",
     "output_type": "stream",
     "text": [
      "a    100\n",
      "b    200\n",
      "c    300\n",
      "d    400\n",
      "dtype: int64\n",
      "Index(['a', 'b', 'c', 'd'], dtype='object')\n"
     ]
    }
   ],
   "source": [
    "import pandas as pd\n",
    "\n",
    "diccionario_datos = {'a': 100, 'b': 200, 'c': 300, 'd': 400}\n",
    "serie_dict = pd.Series(diccionario_datos)\n",
    "print(serie_dict)\n",
    "print(serie_dict.index)"
   ]
  },
  {
   "cell_type": "markdown",
   "metadata": {},
   "source": [
    "*   **Especificando el índice explícitamente:**"
   ]
  },
  {
   "cell_type": "code",
   "execution_count": 7,
   "metadata": {},
   "outputs": [
    {
     "name": "stdout",
     "output_type": "stream",
     "text": [
      "Uno        5\n",
      "Dos       10\n",
      "Tres      15\n",
      "Cuatro    20\n",
      "dtype: int64\n"
     ]
    }
   ],
   "source": [
    "import pandas as pd\n",
    "\n",
    "datos = [5, 10, 15, 20]\n",
    "indices_personalizados = ['Uno', 'Dos', 'Tres', 'Cuatro']\n",
    "serie_indexada = pd.Series(datos, index=indices_personalizados)\n",
    "print(serie_indexada)"
   ]
  },
  {
   "cell_type": "markdown",
   "metadata": {},
   "source": [
    "### Indexación y Selección en Series:\n",
    "\n",
    "Puedes acceder a los elementos de una Serie utilizando su índice (etiqueta o posición numérica):"
   ]
  },
  {
   "cell_type": "code",
   "execution_count": 9,
   "metadata": {},
   "outputs": [
    {
     "name": "stdout",
     "output_type": "stream",
     "text": [
      "20\n",
      "A    10\n",
      "D    40\n",
      "E    50\n",
      "dtype: int64\n",
      "20\n",
      "A    10\n",
      "B    20\n",
      "C    30\n",
      "dtype: int64\n",
      "D    40\n",
      "E    50\n",
      "dtype: int64\n"
     ]
    }
   ],
   "source": [
    "import pandas as pd\n",
    "\n",
    "serie = pd.Series([10, 20, 30, 40, 50], index=['A', 'B', 'C', 'D', 'E'])\n",
    "\n",
    "# Indexación por etiqueta (índice)\n",
    "print(serie['B'])\n",
    "print(serie[['A', 'D', 'E']])\n",
    "\n",
    "# Indexación por posición (índice numérico)\n",
    "print(serie.iloc[1])\n",
    "print(serie[0:3])\n",
    "\n",
    "# Indexación booleana (similar a NumPy)\n",
    "print(serie[serie > 30])"
   ]
  },
  {
   "cell_type": "markdown",
   "metadata": {},
   "source": [
    "---\n",
    "\n",
    "## 3. Creación de DataFrames\n",
    "\n",
    "Hay varias formas de crear DataFrames en Pandas:\n",
    "\n",
    "*   **A partir de un diccionario de listas o arrays NumPy:**"
   ]
  },
  {
   "cell_type": "code",
   "execution_count": 13,
   "metadata": {},
   "outputs": [
    {
     "name": "stdout",
     "output_type": "stream",
     "text": [
      "    Nombre  Edad      Ciudad\n",
      "0    Alice    25  Nueva York\n",
      "1      Bob    30     Londres\n",
      "2  Charlie    22       París\n",
      "3    David    35       Tokio\n",
      "<class 'pandas.core.frame.DataFrame'>\n",
      "Index(['Nombre', 'Edad', 'Ciudad'], dtype='object')\n",
      "RangeIndex(start=0, stop=4, step=1)\n",
      "[['Alice' 25 'Nueva York']\n",
      " ['Bob' 30 'Londres']\n",
      " ['Charlie' 22 'París']\n",
      " ['David' 35 'Tokio']]\n"
     ]
    }
   ],
   "source": [
    "import pandas as pd\n",
    "import numpy as np\n",
    "\n",
    "diccionario_data = {\n",
    "    'Nombre': ['Alice', 'Bob', 'Charlie', 'David'],\n",
    "    'Edad': [25, 30, 22, 35],\n",
    "    'Ciudad': ['Nueva York', 'Londres', 'París', 'Tokio']\n",
    "}\n",
    "dataframe_dict = pd.DataFrame(diccionario_data)\n",
    "print(dataframe_dict)\n",
    "print(type(dataframe_dict))\n",
    "print(dataframe_dict.columns)\n",
    "print(dataframe_dict.index)\n",
    "print(dataframe_dict.values)"
   ]
  },
  {
   "cell_type": "markdown",
   "metadata": {},
   "source": [
    "*   **A partir de una lista de listas:**"
   ]
  },
  {
   "cell_type": "code",
   "execution_count": 10,
   "metadata": {},
   "outputs": [
    {
     "name": "stdout",
     "output_type": "stream",
     "text": [
      "    Nombre  Edad      Ciudad\n",
      "0    Alice    25  Nueva York\n",
      "1      Bob    30     Londres\n",
      "2  Charlie    22       París\n",
      "3    David    35       Tokio\n"
     ]
    }
   ],
   "source": [
    "import pandas as pd\n",
    "\n",
    "lista_listas_data = [\n",
    "    ['Alice', 25, 'Nueva York'],\n",
    "    ['Bob', 30, 'Londres'],\n",
    "    ['Charlie', 22, 'París'],\n",
    "    ['David', 35, 'Tokio']\n",
    "]\n",
    "nombres_columnas = ['Nombre', 'Edad', 'Ciudad']\n",
    "dataframe_listas = pd.DataFrame(lista_listas_data, columns=nombres_columnas)\n",
    "print(dataframe_listas)"
   ]
  },
  {
   "cell_type": "markdown",
   "metadata": {},
   "source": [
    "*   **A partir de un array NumPy 2D:**"
   ]
  },
  {
   "cell_type": "code",
   "execution_count": 12,
   "metadata": {},
   "outputs": [
    {
     "name": "stdout",
     "output_type": "stream",
     "text": [
      "[['Alice' '25' 'Nueva York']\n",
      " ['Bob' '30' 'Londres']\n",
      " ['Charlie' '22' 'París']\n",
      " ['David' '35' 'Tokio']]\n",
      "    Nombre Edad      Ciudad\n",
      "0    Alice   25  Nueva York\n",
      "1      Bob   30     Londres\n",
      "2  Charlie   22       París\n",
      "3    David   35       Tokio\n"
     ]
    }
   ],
   "source": [
    "import pandas as pd\n",
    "import numpy as np\n",
    "\n",
    "array_2d_data = np.array([\n",
    "    ['Alice', 25, 'Nueva York'],\n",
    "    ['Bob', 30, 'Londres'],\n",
    "    ['Charlie', 22, 'París'],\n",
    "    ['David', 35, 'Tokio']\n",
    "])\n",
    "nombres_columnas = ['Nombre', 'Edad', 'Ciudad']\n",
    "dataframe_array = pd.DataFrame(array_2d_data, columns=nombres_columnas)\n",
    "print(array_2d_data)\n",
    "print(dataframe_array)"
   ]
  },
  {
   "cell_type": "markdown",
   "metadata": {},
   "source": [
    "*   **A partir de un archivo CSV (u otros formatos de archivo):**  Veremos la lectura de archivos en la siguiente sección."
   ]
  },
  {
   "cell_type": "markdown",
   "metadata": {},
   "source": [
    "---\n",
    "\n",
    "## 4. Lectura y Escritura de DataFrames desde/a Archivos (CSV, Excel, etc.)\n",
    "\n",
    "Pandas facilita la lectura y escritura de DataFrames desde y hacia varios formatos de archivo, siendo CSV y Excel los más comunes.\n",
    "\n",
    "### Lectura desde Archivo CSV (`pd.read_csv()`):\n",
    "\n",
    "La función `pd.read_csv('nombre_archivo.csv')` lee datos desde un archivo CSV y crea un DataFrame. Pandas puede inferir automáticamente el separador de columnas, los encabezados y los tipos de datos, aunque puedes personalizar estos aspectos con argumentos adicionales.\n",
    "\n"
   ]
  },
  {
   "cell_type": "code",
   "execution_count": 13,
   "metadata": {},
   "outputs": [
    {
     "name": "stdout",
     "output_type": "stream",
     "text": [
      "   Nombre  Edad     Ciudad\n",
      "0    Juan    25     Madrid\n",
      "1     Ana    30  Barcelona\n",
      "2  Carlos    22   Valencia\n",
      "3   Laura    28    Sevilla\n",
      "<class 'pandas.core.frame.DataFrame'>\n",
      "RangeIndex: 4 entries, 0 to 3\n",
      "Data columns (total 3 columns):\n",
      " #   Column  Non-Null Count  Dtype \n",
      "---  ------  --------------  ----- \n",
      " 0   Nombre  4 non-null      object\n",
      " 1   Edad    4 non-null      int64 \n",
      " 2   Ciudad  4 non-null      object\n",
      "dtypes: int64(1), object(2)\n",
      "memory usage: 228.0+ bytes\n",
      "None\n"
     ]
    }
   ],
   "source": [
    "import pandas as pd\n",
    "\n",
    "# Asumiendo que tienes un archivo llamado 'datos.csv' con datos tabulares\n",
    "dataframe_csv = pd.read_csv('../Datasets/datos.csv') # Descomenta esta línea y reemplaza 'datos.csv' con tu archivo CSV\n",
    "print(dataframe_csv.head())\n",
    "print(dataframe_csv.info())"
   ]
  },
  {
   "cell_type": "markdown",
   "metadata": {},
   "source": [
    "\n",
    "\n",
    "[Image of Pandas DataFrame Read from CSV]\n",
    "\n",
    "**Argumentos comunes de `pd.read_csv()`:**\n",
    "\n",
    "*   `filepath_or_buffer`:  Ruta al archivo CSV (o un objeto similar a un archivo).\n",
    "*   `sep`:  Separador de columnas (por defecto es `,`).  Usa `sep='\\t'` para archivos TSV (tab-separated).\n",
    "*   `header`:  Fila(s) que contienen los nombres de las columnas (por defecto `header=0`, la primera fila). Usa `header=None` si no hay encabezado, o `header=[0, 1]` si hay múltiples filas de encabezado.\n",
    "*   `names`:  Lista de nombres de columnas a usar (si no hay encabezado o quieres reemplazarlos).\n",
    "*   `index_col`:  Columna(s) a usar como índice de filas.\n",
    "*   `dtype`:  Diccionario para especificar el tipo de datos de cada columna (para optimización o control de tipos).\n",
    "*   `encoding`:  Codificación de caracteres del archivo (ej. `'utf-8'`, `'latin-1'`).\n",
    "*   `na_values`:  Valores a considerar como faltantes (NaN).\n",
    "*   `skiprows`, `nrows`, `skipfooter`:  Para saltar filas al inicio, leer un número limitado de filas, o saltar filas al final del archivo.\n",
    "*   Y muchos más... (consulta la documentación de Pandas para todos los argumentos).\n",
    "\n",
    "### Escritura a Archivo CSV (`dataframe.to_csv()`):\n",
    "\n",
    "El método `dataframe.to_csv('nombre_archivo.csv')` guarda un DataFrame en un archivo CSV.\n"
   ]
  },
  {
   "cell_type": "code",
   "execution_count": 27,
   "metadata": {},
   "outputs": [],
   "source": [
    "import pandas as pd\n",
    "\n",
    "data = {'columna1': [1, 2, 3], 'columna2': ['A', 'B', 'C']}\n",
    "df = pd.DataFrame(data)\n",
    "\n",
    "df.to_csv('../Datasets/archivo_salida.csv', index=False) # Guarda el DataFrame a CSV (sin índice de filas)\n",
    "# Esto creará un archivo 'archivo_salida.csv' en tu directorio de trabajo."
   ]
  },
  {
   "cell_type": "markdown",
   "metadata": {},
   "source": [
    "\n",
    "\n",
    "**Argumentos comunes de `dataframe.to_csv()`:**\n",
    "\n",
    "*   `path_or_buf`:  Ruta al archivo de salida.\n",
    "*   `sep`:  Separador de columnas (por defecto `,`).\n",
    "*   `index`:  `True` o `False` (si se incluye o no el índice de filas en el archivo CSV, por defecto `True`).  Generalmente, `index=False` es preferible si el índice es solo numérico secuencial y no tiene significado como datos.\n",
    "*   `header`:  `True` o `False` (si se incluyen o no los nombres de las columnas en la primera fila, por defecto `True`).\n",
    "*   `encoding`:  Codificación de caracteres del archivo de salida.\n",
    "*   `decimal`:  Carácter para representar el separador decimal en números flotantes (por defecto `.').\n",
    "*   Y más...\n",
    "\n",
    "### Lectura desde Archivo Excel (`pd.read_excel()`):\n",
    "\n",
    "Similar a CSV, `pd.read_excel('nombre_archivo.xlsx')` lee datos desde un archivo Excel (tanto `.xlsx` como `.xls`) y crea un DataFrame.  Necesitas tener instalado el paquete `openpyxl` para leer archivos `.xlsx` (se instala con `pip install openpyxl`).\n"
   ]
  },
  {
   "cell_type": "code",
   "execution_count": 26,
   "metadata": {},
   "outputs": [
    {
     "name": "stdout",
     "output_type": "stream",
     "text": [
      "   Nombre  Edad     Ciudad\n",
      "0    Juan    25     Madrid\n",
      "1     Ana    30  Barcelona\n",
      "2  Carlos    22   Valencia\n",
      "3   Laura    28    Sevilla\n",
      "<class 'pandas.core.frame.DataFrame'>\n",
      "RangeIndex: 4 entries, 0 to 3\n",
      "Data columns (total 3 columns):\n",
      " #   Column  Non-Null Count  Dtype \n",
      "---  ------  --------------  ----- \n",
      " 0   Nombre  4 non-null      object\n",
      " 1   Edad    4 non-null      int64 \n",
      " 2   Ciudad  4 non-null      object\n",
      "dtypes: int64(1), object(2)\n",
      "memory usage: 228.0+ bytes\n",
      "None\n"
     ]
    }
   ],
   "source": [
    "import pandas as pd\n",
    "\n",
    "dataframe_excel = pd.read_excel('../Datasets/archivo_salida.xlsx', sheet_name='personas') # Descomenta esta línea y reemplaza 'datos.xlsx' con tu archivo Excel\n",
    "print(dataframe_excel.head())\n",
    "print(dataframe_excel.info())"
   ]
  },
  {
   "cell_type": "markdown",
   "metadata": {},
   "source": [
    "\n",
    "\n",
    "**Argumentos importantes de `pd.read_excel()`:**\n",
    "\n",
    "*   `io`:  Ruta al archivo Excel.\n",
    "*   `sheet_name`:  Nombre de la hoja de cálculo a leer (por defecto `0`, la primera hoja). Puedes usar el nombre de la hoja (cadena) o el índice de la hoja (entero, empezando desde 0).  Usa `sheet_name=None` para leer *todas* las hojas en un diccionario de DataFrames.\n",
    "*   `header`, `names`, `index_col`, `dtype`, `encoding`, `skiprows`, `nrows`, `skipfooter`:  Argumentos similares a `pd.read_csv()` para controlar el formato de lectura.\n",
    "\n",
    "### Escritura a Archivo Excel (`dataframe.to_excel()`):\n",
    "\n",
    "`dataframe.to_excel('nombre_archivo.xlsx', sheet_name='NuevaHoja', index=False)` guarda un DataFrame en un archivo Excel, creando una nueva hoja de cálculo llamada 'NuevaHoja'.  También requiere `openpyxl` para escribir archivos `.xlsx`.\n"
   ]
  },
  {
   "cell_type": "code",
   "execution_count": 25,
   "metadata": {},
   "outputs": [],
   "source": [
    "import pandas as pd\n",
    "\n",
    "data = {\n",
    "    'Nombre': ['Juan', 'Ana', 'Carlos', 'Laura'],\n",
    "    'Edad': [25, 30, 22, 28],\n",
    "    'Ciudad': ['Madrid', 'Barcelona', 'Valencia', 'Sevilla']\n",
    "}\n",
    "\n",
    "df = pd.DataFrame(data)\n",
    "\n",
    "df.to_excel('../Datasets/archivo_salida.xlsx', sheet_name='personas', index=False) # Guarda a Excel, hoja 'PreciosFrutas'"
   ]
  },
  {
   "cell_type": "markdown",
   "metadata": {},
   "source": [
    "\n",
    "**Argumentos importantes de `dataframe.to_excel()`:**\n",
    "\n",
    "*   `excel_writer`:  Ruta al archivo de salida Excel.\n",
    "*   `sheet_name`:  Nombre de la hoja de cálculo a crear (por defecto `'Sheet1'`).\n",
    "*   `index`, `header`, `encoding`, `decimal`:  Argumentos similares a `dataframe.to_csv()`.\n",
    "\n",
    "---\n"
   ]
  },
  {
   "cell_type": "markdown",
   "metadata": {},
   "source": [
    "## 5. Indexación y Selección de Datos en DataFrames\n",
    "\n",
    "Pandas ofrece varias formas poderosas y flexibles de indexar y seleccionar datos en DataFrames:\n",
    "\n",
    "### Selección de Columnas:\n",
    "\n",
    "*   **Por nombre de columna (como diccionario):**  `dataframe['nombre_columna']` o `dataframe[['nombre_columna1', 'nombre_columna2']]`.  Retorna una Serie (si se selecciona una columna) o un DataFrame (si se seleccionan varias columnas)."
   ]
  },
  {
   "cell_type": "code",
   "execution_count": 28,
   "metadata": {},
   "outputs": [
    {
     "name": "stdout",
     "output_type": "stream",
     "text": [
      "0      Alice\n",
      "1        Bob\n",
      "2    Charlie\n",
      "Name: Nombre, dtype: object\n",
      "<class 'pandas.core.series.Series'>\n",
      "    Nombre  Edad\n",
      "0    Alice    25\n",
      "1      Bob    30\n",
      "2  Charlie    22\n",
      "<class 'pandas.core.frame.DataFrame'>\n"
     ]
    }
   ],
   "source": [
    "import pandas as pd\n",
    "\n",
    "data = {'Nombre': ['Alice', 'Bob', 'Charlie'], 'Edad': [25, 30, 22], 'Ciudad': ['NY', 'LDN', 'PAR']}\n",
    "df = pd.DataFrame(data)\n",
    "\n",
    "columna_nombres = df['Nombre'] # Selecciona la columna 'Nombre' (retorna una Serie)\n",
    "print(columna_nombres)\n",
    "print(type(columna_nombres))\n",
    "\n",
    "columnas_nombre_edad = df[['Nombre', 'Edad']] # Selecciona columnas 'Nombre' y 'Edad' (retorna un DataFrame)\n",
    "print(columnas_nombre_edad)\n",
    "print(type(columnas_nombre_edad))"
   ]
  },
  {
   "cell_type": "markdown",
   "metadata": {},
   "source": [
    "*   **Por atributo (si el nombre de la columna es válido como atributo Python):**  `dataframe.nombre_columna`.  **Menos recomendado**, puede ser ambiguo y no funciona si el nombre de columna tiene espacios o caracteres especiales."
   ]
  },
  {
   "cell_type": "code",
   "execution_count": 29,
   "metadata": {},
   "outputs": [
    {
     "name": "stdout",
     "output_type": "stream",
     "text": [
      "0    25\n",
      "1    30\n",
      "Name: Edad, dtype: int64\n"
     ]
    }
   ],
   "source": [
    "import pandas as pd\n",
    "\n",
    "data = {'Nombre': ['Alice', 'Bob'], 'Edad': [25, 30]}\n",
    "df = pd.DataFrame(data)\n",
    "\n",
    "columna_edad_atributo = df.Edad # Selecciona la columna 'Edad' usando atributo (¡funciona si el nombre es válido!)\n",
    "print(columna_edad_atributo)"
   ]
  },
  {
   "cell_type": "markdown",
   "metadata": {},
   "source": [
    "### Selección de Filas:\n",
    "\n",
    "*   **Slicing por índice numérico (similar a listas):**  `dataframe[inicio_fila:fin_fila]`.  **Selecciona filas *por posición numérica* (índice implícito), no por etiqueta de índice.**"
   ]
  },
  {
   "cell_type": "code",
   "execution_count": 30,
   "metadata": {},
   "outputs": [
    {
     "name": "stdout",
     "output_type": "stream",
     "text": [
      "  Producto  Ventas\n",
      "0        A     100\n",
      "1        B     200\n",
      "2        C     150\n"
     ]
    }
   ],
   "source": [
    "import pandas as pd\n",
    "\n",
    "data = {'Producto': ['A', 'B', 'C', 'D', 'E'], 'Ventas': [100, 200, 150, 250, 120]}\n",
    "df = pd.DataFrame(data)\n",
    "\n",
    "primeras_tres_filas = df[0:3] # Selecciona las primeras 3 filas (índices 0, 1, 2) por posición numérica\n",
    "print(primeras_tres_filas)"
   ]
  },
  {
   "cell_type": "markdown",
   "metadata": {},
   "source": [
    "### Selección Avanzada con `.loc[]` y `.iloc[]`:\n",
    "\n",
    "Pandas proporciona los **indexadores `.loc[]` y `.iloc[]`** para una indexación y selección más precisa y controlada.\n",
    "\n",
    "*   **`.loc[]` (Indexación basada en etiquetas):**  Se usa para seleccionar **filas y columnas por *etiquetas de índice y nombre de columna***."
   ]
  },
  {
   "cell_type": "code",
   "execution_count": 32,
   "metadata": {},
   "outputs": [
    {
     "name": "stdout",
     "output_type": "stream",
     "text": [
      "Producto      C\n",
      "Ventas      150\n",
      "Name: P3, dtype: object\n",
      "   Producto  Ventas\n",
      "P2        B     200\n",
      "P3        C     150\n",
      "P4        D     250\n",
      "250\n",
      "   Producto  Ventas\n",
      "P1        A     100\n",
      "P4        D     250\n",
      "P5        E     120\n",
      "   Producto  Ventas\n",
      "P2        B     200\n",
      "P3        C     150\n",
      "P4        D     250\n"
     ]
    }
   ],
   "source": [
    "import pandas as pd\n",
    "\n",
    "data = {'Producto': ['A', 'B', 'C', 'D', 'E'], 'Ventas': [100, 200, 150, 250, 120]}\n",
    "df = pd.DataFrame(data, index=['P1', 'P2', 'P3', 'P4', 'P5']) # Índice personalizado\n",
    "\n",
    "# Seleccionar fila por etiqueta de índice\n",
    "fila_P3 = df.loc['P3'] # Fila con etiqueta de índice 'P3' (retorna una Serie)\n",
    "print(fila_P3)\n",
    "\n",
    "# Seleccionar filas por rango de etiquetas de índice\n",
    "filas_P2_a_P4 = df.loc['P2':'P4'] # Filas desde etiqueta 'P2' hasta 'P4' (¡incluyendo 'P4'!)\n",
    "print(filas_P2_a_P4)\n",
    "\n",
    "# Seleccionar un valor específico por etiqueta de fila y nombre de columna\n",
    "venta_P4 = df.loc['P4', 'Ventas'] # Valor en fila 'P4', columna 'Ventas'\n",
    "print(venta_P4)\n",
    "\n",
    "# Seleccionar filas y columnas específicas por etiquetas\n",
    "subdataframe_loc = df.loc[['P1', 'P4', 'P5'], ['Producto', 'Ventas']] # Filas 'P1', 'P4', 'P5' y columnas 'Producto', 'Ventas'\n",
    "print(subdataframe_loc)\n",
    "\n",
    "# Slicing de filas y columnas por etiquetas\n",
    "subdataframe_slice_loc = df.loc['P2':'P4', 'Producto':'Ventas'] # Filas de 'P2' a 'P4' y columnas de 'Producto' a 'Ventas'\n",
    "print(subdataframe_slice_loc)"
   ]
  },
  {
   "cell_type": "markdown",
   "metadata": {},
   "source": [
    "*   **`.iloc[]` (Indexación basada en posición entera):** Se usa para seleccionar **filas y columnas por *posición numérica* (índice entero)**.  Similar a la indexación por posición en listas y arrays NumPy."
   ]
  },
  {
   "cell_type": "code",
   "execution_count": 33,
   "metadata": {},
   "outputs": [
    {
     "name": "stdout",
     "output_type": "stream",
     "text": [
      "Producto      C\n",
      "Ventas      150\n",
      "Name: 2, dtype: object\n",
      "  Producto  Ventas\n",
      "1        B     200\n",
      "2        C     150\n",
      "3        D     250\n",
      "250\n",
      "  Producto  Ventas\n",
      "0        A     100\n",
      "3        D     250\n",
      "4        E     120\n",
      "  Producto  Ventas\n",
      "1        B     200\n",
      "2        C     150\n",
      "3        D     250\n"
     ]
    }
   ],
   "source": [
    "import pandas as pd\n",
    "\n",
    "data = {'Producto': ['A', 'B', 'C', 'D', 'E'], 'Ventas': [100, 200, 150, 250, 120]}\n",
    "df = pd.DataFrame(data) # Índice numérico por defecto\n",
    "\n",
    "# Seleccionar fila por posición numérica\n",
    "fila_indice_2 = df.iloc[2] # Fila en la posición 2 (tercera fila, índice 2) (retorna una Serie)\n",
    "print(fila_indice_2)\n",
    "\n",
    "# Seleccionar filas por rango de posiciones numéricas\n",
    "filas_indices_1_a_3 = df.iloc[1:4] # Filas desde posición 1 hasta 3 (sin incluir 4, posiciones 1, 2, 3)\n",
    "print(filas_indices_1_a_3)\n",
    "\n",
    "# Seleccionar un valor específico por posición de fila y columna\n",
    "venta_posicion_3_1 = df.iloc[3, 1] # Valor en fila posición 3 (cuarta fila), columna posición 1 (segunda columna)\n",
    "print(venta_posicion_3_1)\n",
    "\n",
    "# Seleccionar filas y columnas específicas por posiciones numéricas\n",
    "subdataframe_iloc = df.iloc[[0, 3, 4], [0, 1]] # Filas en posiciones 0, 3, 4 y columnas en posiciones 0, 1\n",
    "print(subdataframe_iloc)\n",
    "\n",
    "# Slicing de filas y columnas por posiciones numéricas\n",
    "subdataframe_slice_iloc = df.iloc[1:4, 0:2] # Filas de posición 1 a 3 y columnas de posición 0 a 1\n",
    "print(subdataframe_slice_iloc)"
   ]
  },
  {
   "cell_type": "markdown",
   "metadata": {},
   "source": [
    "### Indexación Booleana (Filtrado basado en condiciones):\n",
    "\n",
    "Similar a NumPy, puedes usar una Serie booleana (o una condición que se evalúe a una Serie booleana) para filtrar filas de un DataFrame."
   ]
  },
  {
   "cell_type": "code",
   "execution_count": 34,
   "metadata": {},
   "outputs": [
    {
     "name": "stdout",
     "output_type": "stream",
     "text": [
      "0    False\n",
      "1     True\n",
      "2    False\n",
      "3     True\n",
      "4    False\n",
      "Name: Ventas, dtype: bool\n",
      "  Producto  Ventas Region\n",
      "1        B     200    Sur\n",
      "3        D     250   Este\n",
      "Empty DataFrame\n",
      "Columns: [Producto, Ventas, Region]\n",
      "Index: []\n",
      "  Producto  Ventas Region\n",
      "0        A     100  Norte\n",
      "2        C     150  Norte\n",
      "4        E     120  Oeste\n",
      "  Producto  Ventas Region\n",
      "0        A     100  Norte\n",
      "2        C     150  Norte\n",
      "4        E     120  Oeste\n"
     ]
    }
   ],
   "source": [
    "import pandas as pd\n",
    "\n",
    "data = {'Producto': ['A', 'B', 'C', 'D', 'E'], 'Ventas': [100, 200, 150, 250, 120], 'Region': ['Norte', 'Sur', 'Norte', 'Este', 'Oeste']}\n",
    "df = pd.DataFrame(data)\n",
    "\n",
    "# Crear una máscara booleana basada en una condición (Ventas > 150)\n",
    "mascara_ventas_altas = df['Ventas'] > 150 # Retorna una Serie booleana\n",
    "print(mascara_ventas_altas)\n",
    "\n",
    "# Filtrar el DataFrame usando la máscara booleana\n",
    "df_ventas_altas = df[mascara_ventas_altas] # Selecciona solo las filas donde la máscara es True\n",
    "print(df_ventas_altas)\n",
    "\n",
    "# Combinar múltiples condiciones con operadores lógicos (&, |, ~)\n",
    "df_ventas_altas_norte = df[(df['Ventas'] > 150) & (df['Region'] == 'Norte')] # Ventas > 150 Y Región 'Norte'\n",
    "print(df_ventas_altas_norte)\n",
    "\n",
    "df_region_norte_o_oeste = df[(df['Region'] == 'Norte') | (df['Region'] == 'Oeste')] # Región 'Norte' OR Región 'Oeste'\n",
    "print(df_region_norte_o_oeste)\n",
    "\n",
    "df_ventas_no_altas = df[~(df['Ventas'] > 150)] # NOT (Ventas > 150) - Ventas no mayores que 150\n",
    "print(df_ventas_no_altas)"
   ]
  },
  {
   "cell_type": "markdown",
   "metadata": {},
   "source": [
    "## 6. Manipulación Básica de DataFrames\n",
    "\n",
    "* **Añadir Nuevas Columnas (dataframe.assign() o asignación directa):**\n",
    "\n",
    "1. **Usando** .assign():  Retorna un nuevo DataFrame con la(s) nueva(s) columna(s) añadida(s).  El DataFrame original no se modifica."
   ]
  },
  {
   "cell_type": "code",
   "execution_count": 37,
   "metadata": {},
   "outputs": [
    {
     "name": "stdout",
     "output_type": "stream",
     "text": [
      "  Producto  Precio  IVA\n",
      "0        A      10  2.1\n",
      "1        B      20  4.2\n",
      "2        C      30  6.3\n"
     ]
    }
   ],
   "source": [
    "import pandas as pd\n",
    "\n",
    "data = {'Producto': ['A', 'B', 'C'], 'Precio': [10, 20, 30]}\n",
    "df = pd.DataFrame(data)\n",
    "\n",
    "df_con_iva = df.assign(IVA=lambda df: df['Precio'] * 0.21) # Calcula IVA como 21% del Precio y añade columna 'IVA'\n",
    "print(df_con_iva)\n",
    "# Output: (DataFrame con una columna 'IVA' adicional)"
   ]
  },
  {
   "cell_type": "markdown",
   "metadata": {},
   "source": [
    "En .assign(), puedes usar funciones lambda para cálculos basados en otras columnas del DataFrame (como en el ejemplo del IVA).\n",
    "\n",
    "2. **Asignación Directa (modifica el DataFrame original):**  Simplemente asigna una Serie (o lista/array de la longitud correcta) a un nuevo nombre de columna. Modifica el DataFrame directamente (in-place)."
   ]
  },
  {
   "cell_type": "code",
   "execution_count": 38,
   "metadata": {},
   "outputs": [
    {
     "name": "stdout",
     "output_type": "stream",
     "text": [
      "  Producto  Precio  Descuento\n",
      "0        A      10       0.10\n",
      "1        B      20       0.20\n",
      "2        C      30       0.15\n",
      "  Producto  Precio  Descuento  Precio_Final\n",
      "0        A      10       0.10           9.0\n",
      "1        B      20       0.20          16.0\n",
      "2        C      30       0.15          25.5\n"
     ]
    }
   ],
   "source": [
    "import pandas as pd\n",
    "\n",
    "data = {'Producto': ['A', 'B', 'C'], 'Precio': [10, 20, 30]}\n",
    "df = pd.DataFrame(data)\n",
    "\n",
    "df['Descuento'] = [0.1, 0.2, 0.15] # Añade columna 'Descuento' con valores específicos\n",
    "print(df)\n",
    "# Output: (DataFrame con una columna 'Descuento' adicional)\n",
    "\n",
    "df['Precio_Final'] = df['Precio'] * (1 - df['Descuento']) # Añade columna 'Precio_Final' calculada\n",
    "print(df)\n",
    "# Output: (DataFrame con una columna 'Precio_Final' adicional)"
   ]
  },
  {
   "cell_type": "markdown",
   "metadata": {},
   "source": [
    "* **Eliminar Columnas (dataframe.drop()):**\n",
    "\n",
    "    Retorna un nuevo DataFrame con las columnas especificadas eliminadas.  El DataFrame original no se modifica"
   ]
  },
  {
   "cell_type": "code",
   "execution_count": 39,
   "metadata": {},
   "outputs": [
    {
     "name": "stdout",
     "output_type": "stream",
     "text": [
      "  Producto  Precio\n",
      "0        A      10\n",
      "1        B      20\n",
      "2        C      30\n",
      "  Producto\n",
      "0        A\n",
      "1        B\n",
      "2        C\n"
     ]
    }
   ],
   "source": [
    "import pandas as pd\n",
    "\n",
    "data = {'Producto': ['A', 'B', 'C'], 'Precio': [10, 20, 30], 'IVA': [2.1, 4.2, 6.3]}\n",
    "df = pd.DataFrame(data)\n",
    "\n",
    "df_sin_iva = df.drop(columns=['IVA']) # Elimina la columna 'IVA' (retorna nuevo DataFrame)\n",
    "print(df_sin_iva)\n",
    "# Output: (DataFrame sin la columna 'IVA')\n",
    "\n",
    "columnas_a_eliminar = ['Precio', 'IVA']\n",
    "df_sin_precio_iva = df.drop(columns=columnas_a_eliminar) # Elimina múltiples columnas\n",
    "print(df_sin_precio_iva)"
   ]
  },
  {
   "cell_type": "markdown",
   "metadata": {},
   "source": [
    "* **Renombrar Columnas (dataframe.rename()):**\n",
    "\n",
    "    Retorna un nuevo DataFrame con las columnas renombradas.  El DataFrame original no se modifica."
   ]
  },
  {
   "cell_type": "code",
   "execution_count": 41,
   "metadata": {},
   "outputs": [
    {
     "name": "stdout",
     "output_type": "stream",
     "text": [
      "  Artículo  Coste\n",
      "0        A     10\n",
      "1        B     20\n",
      "2        C     30\n",
      "       Producto  Precio\n",
      "Fila_1        A      10\n",
      "Fila_2        B      20\n",
      "Fila_3        C      30\n"
     ]
    }
   ],
   "source": [
    "import pandas as pd\n",
    "\n",
    "data = {'Producto': ['A', 'B', 'C'], 'Precio': [10, 20, 30]}\n",
    "df = pd.DataFrame(data)\n",
    "\n",
    "df_columnas_renombradas = df.rename(columns={'Producto': 'Artículo', 'Precio': 'Coste'}) # Renombra columnas\n",
    "print(df_columnas_renombradas)\n",
    "# Output: (DataFrame con columnas 'Artículo' y 'Coste' en lugar de 'Producto' y 'Precio')\n",
    "\n",
    "df_renombrado_indice = df.rename(index={0: 'Fila_1', 1: 'Fila_2', 2: 'Fila_3'}) # Renombra índices de filas\n",
    "print(df_renombrado_indice)"
   ]
  },
  {
   "cell_type": "markdown",
   "metadata": {},
   "source": [
    "*  **Ordenar DataFrames (dataframe.sort_values()):**\n",
    "\n",
    "    Ordena las filas del DataFrame según los valores de una o más columnas.  Retorna un nuevo DataFrame ordenado."
   ]
  },
  {
   "cell_type": "code",
   "execution_count": 42,
   "metadata": {},
   "outputs": [
    {
     "name": "stdout",
     "output_type": "stream",
     "text": [
      "  Producto  Precio\n",
      "1        A      10\n",
      "2        B      20\n",
      "0        C      30\n",
      "3        D      40\n",
      "  Producto  Precio\n",
      "3        D      40\n",
      "0        C      30\n",
      "2        B      20\n",
      "1        A      10\n",
      "  Producto  Precio\n",
      "1        A      10\n",
      "2        B      20\n",
      "0        C      30\n",
      "3        D      40\n"
     ]
    }
   ],
   "source": [
    "import pandas as pd\n",
    "\n",
    "data = {'Producto': ['C', 'A', 'B', 'D'], 'Precio': [30, 10, 20, 40]}\n",
    "df = pd.DataFrame(data)\n",
    "\n",
    "df_ordenado_precio = df.sort_values(by='Precio') # Ordena por la columna 'Precio' (ascendente por defecto)\n",
    "print(df_ordenado_precio)\n",
    "\n",
    "df_ordenado_producto_descendente = df.sort_values(by='Producto', ascending=False) # Ordena por 'Producto' en orden descendente\n",
    "print(df_ordenado_producto_descendente)\n",
    "\n",
    "df_ordenado_multiple = df.sort_values(by=['Producto', 'Precio'], ascending=[True, False]) # Ordena por 'Producto' (ascendente) y luego por 'Precio' (descendente) dentro de cada grupo de 'Producto'\n",
    "print(df_ordenado_multiple)"
   ]
  },
  {
   "cell_type": "markdown",
   "metadata": {},
   "source": [
    "* **Filtrar DataFrames (Indexación Booleana, ya visto en la sección 5):**\n",
    "\n",
    "Ya hemos visto en la sección de indexación cómo usar la indexación booleana para filtrar filas de un DataFrame basadas en condiciones.  Esto es una forma muy común de manipulación de DataFrames."
   ]
  },
  {
   "cell_type": "markdown",
   "metadata": {},
   "source": [
    "## 7. Manejo de Valores Faltantes (NaN)\n",
    "\n",
    "En datos del mundo real, es muy común encontrarse con valores faltantes o datos ausentes. Pandas representa los valores faltantes usando NaN (Not a Number), que es un valor especial de punto flotante de NumPy.\n",
    "\n",
    "Pandas proporciona funciones para detectar, eliminar o rellenar valores faltantes en DataFrames:\n",
    "\n",
    "* **Detectar Valores Faltantes (dataframe.isnull() y dataframe.notnull()):**\n",
    "\n",
    "    * dataframe.isnull(): Retorna un DataFrame booleano de la misma forma, donde True indica que el valor es faltante (NaN), y False si no lo es.\n",
    "    * dataframe.notnull(): Retorna un DataFrame booleano opuesto, donde True indica que el valor no es faltante, y False si lo es."
   ]
  },
  {
   "cell_type": "code",
   "execution_count": 44,
   "metadata": {},
   "outputs": [
    {
     "name": "stdout",
     "output_type": "stream",
     "text": [
      "   Columna1 Columna2\n",
      "0       1.0        A\n",
      "1       2.0      NaN\n",
      "2       NaN        C\n",
      "3       4.0        D\n",
      "   Columna1  Columna2\n",
      "0     False     False\n",
      "1     False      True\n",
      "2      True     False\n",
      "3     False     False\n",
      "   Columna1  Columna2\n",
      "0      True      True\n",
      "1      True     False\n",
      "2     False      True\n",
      "3      True      True\n"
     ]
    }
   ],
   "source": [
    "import pandas as pd\n",
    "import numpy as np\n",
    "\n",
    "data = {'Columna1': [1, 2, np.nan, 4], 'Columna2': ['A', np.nan, 'C', 'D']}\n",
    "df = pd.DataFrame(data)\n",
    "print(df)\n",
    "# Output:\n",
    "#    Columna1 Columna2\n",
    "# 0       1.0        A\n",
    "# 1       2.0      NaN\n",
    "# 2       NaN        C\n",
    "# 3       4.0        D\n",
    "\n",
    "print(df.isnull()) # Detecta valores NaN (True donde hay NaN)\n",
    "# Output:\n",
    "#    Columna1  Columna2\n",
    "# 0     False     False\n",
    "# 1     False      True\n",
    "# 2      True     False\n",
    "# 3     False     False\n",
    "\n",
    "print(df.notnull()) # Detecta valores NO NaN (True donde NO hay NaN)\n",
    "# Output:\n",
    "#    Columna1  Columna2\n",
    "# 0      True      True\n",
    "# 1      True     False\n",
    "# 2     False      True\n",
    "# 3      True      True"
   ]
  },
  {
   "cell_type": "markdown",
   "metadata": {},
   "source": [
    "* **Eliminar Filas o Columnas con Valores Faltantes (dataframe.dropna()):**\n",
    "\n",
    "    * dataframe.dropna(): Retorna un nuevo DataFrame con filas o columnas que contienen al menos un valor faltante eliminadas."
   ]
  },
  {
   "cell_type": "code",
   "execution_count": 45,
   "metadata": {},
   "outputs": [
    {
     "name": "stdout",
     "output_type": "stream",
     "text": [
      "   Columna1 Columna2  Columna3\n",
      "0       1.0        A         5\n",
      "1       NaN        B         6\n",
      "2       3.0      NaN         7\n",
      "3       4.0        D         8\n",
      "   Columna1 Columna2  Columna3\n",
      "0       1.0        A         5\n",
      "3       4.0        D         8\n",
      "   Columna3\n",
      "0         5\n",
      "1         6\n",
      "2         7\n",
      "3         8\n",
      "   Columna1 Columna2  Columna3\n",
      "0       1.0        A         5\n",
      "1       NaN        B         6\n",
      "2       3.0      NaN         7\n",
      "3       4.0        D         8\n",
      "   Columna1 Columna2  Columna3\n",
      "0       1.0        A         5\n",
      "2       3.0      NaN         7\n",
      "3       4.0        D         8\n"
     ]
    }
   ],
   "source": [
    "import pandas as pd\n",
    "import numpy as np\n",
    "\n",
    "data = {'Columna1': [1, np.nan, 3, 4], 'Columna2': ['A', 'B', np.nan, 'D'], 'Columna3': [5, 6, 7, 8]}\n",
    "df = pd.DataFrame(data)\n",
    "print(df)\n",
    "\n",
    "df_sin_na_filas = df.dropna() # Elimina filas con al menos un NaN (por defecto axis=0, filas)\n",
    "print(df_sin_na_filas)\n",
    "# Output: (solo la fila 3, ya que las filas 0, 1, 2 tienen al menos un NaN)\n",
    "\n",
    "df_sin_na_columnas = df.dropna(axis=1) # Elimina columnas con al menos un NaN (axis=1, columnas)\n",
    "print(df_sin_na_columnas)\n",
    "# Output: (solo la columna 'Columna3', ya que 'Columna1' y 'Columna2' tienen NaNs)\n",
    "\n",
    "df_sin_na_todas_columnas = df.dropna(how='all') # Elimina filas solo si *todas* las columnas son NaN (how='all')\n",
    "print(df_sin_na_todas_columnas) # En este ejemplo, no hay filas donde *todas* las columnas sean NaN, así que no elimina nada\n",
    "\n",
    "df_sin_na_en_columna1 = df.dropna(subset=['Columna1']) # Elimina filas que tienen NaN *solo en la columna 'Columna1'* (subset=[...])\n",
    "print(df_sin_na_en_columna1)"
   ]
  },
  {
   "cell_type": "markdown",
   "metadata": {},
   "source": [
    "* **Rellenar Valores Faltantes (dataframe.fillna()):**\n",
    "\n",
    "    Retorna un nuevo DataFrame con los valores faltantes reemplazados por un valor específico."
   ]
  },
  {
   "cell_type": "code",
   "execution_count": null,
   "metadata": {},
   "outputs": [],
   "source": [
    "import pandas as pd\n",
    "import numpy as np\n",
    "\n",
    "data = {'Columna1': [1, np.nan, 3, 4], 'Columna2': ['A', 'B', np.nan, 'D']}\n",
    "df = pd.DataFrame(data)\n",
    "print(df)\n",
    "\n",
    "df_rellenado_con_0 = df.fillna(0) # Rellena NaNs con el valor 0\n",
    "print(df_rellenado_con_0)\n",
    "\n",
    "df_rellenado_con_media = df.fillna(df.mean(numeric_only=True)) # Rellena NaNs en columnas numéricas con la media de cada columna\n",
    "print(df_rellenado_con_media)\n",
    "\n",
    "df_rellenado_con_valor_especifico_columna = df.fillna({'Columna1': -1, 'Columna2': 'ValorFaltante'}) # Rellena NaNs con diferentes valores por columna (diccionario)\n",
    "print(df_rellenado_con_valor_especifico_columna)\n",
    "\n",
    "df_rellenado_hacia_adelante = df.ffill() # Rellena NaNs \"hacia adelante\" (forward fill) con el último valor válido anterior en la misma columna\n",
    "print(df_rellenado_hacia_adelante)\n",
    "\n",
    "df_rellenado_hacia_atras = df.bfill() # Rellena NaNs \"hacia atrás\" (backward fill) con el siguiente valor válido posterior en la misma columna\n",
    "print(df_rellenado_hacia_atras)"
   ]
  },
  {
   "cell_type": "markdown",
   "metadata": {},
   "source": [
    "## 8. Agrupación y Agregación de Datos (`groupby`, `agg`)\n",
    "\n",
    "* **Agrupación con `dataframe.groupby()`:**\n",
    "\n",
    "    El método `.groupby('nombre_columna')` agrupa las filas del DataFrame basadas en los valores de la columna especificada (`'nombre_columna'`).  Retorna un objeto GroupBy, que es como una \"vista\" agrupada de los datos.  No realiza cálculos directamente, sino que prepara los datos para operaciones de agregación."
   ]
  },
  {
   "cell_type": "code",
   "execution_count": 27,
   "metadata": {},
   "outputs": [
    {
     "name": "stdout",
     "output_type": "stream",
     "text": [
      "  Departamento Empleado  Salario\n",
      "0       Ventas      Ana    50000\n",
      "1       Ventas    Pedro    60000\n",
      "2    Marketing    Laura    70000\n",
      "3    Marketing   Carlos    80000\n",
      "4       Ventas    Sofía    55000\n",
      "5         RRHH     Juan    90000\n",
      "6         RRHH    María    95000\n",
      "<pandas.core.groupby.generic.DataFrameGroupBy object at 0x0000023F3319B8F0>\n",
      "\n",
      "Departamento: Marketing\n",
      "  Departamento Empleado  Salario\n",
      "2    Marketing    Laura    70000\n",
      "3    Marketing   Carlos    80000\n",
      "\n",
      "Departamento: RRHH\n",
      "  Departamento Empleado  Salario\n",
      "5         RRHH     Juan    90000\n",
      "6         RRHH    María    95000\n",
      "\n",
      "Departamento: Ventas\n",
      "  Departamento Empleado  Salario\n",
      "0       Ventas      Ana    50000\n",
      "1       Ventas    Pedro    60000\n",
      "4       Ventas    Sofía    55000\n"
     ]
    }
   ],
   "source": [
    "import pandas as pd\n",
    "\n",
    "data = {'Departamento': ['Ventas', 'Ventas', 'Marketing', 'Marketing', 'Ventas', 'RRHH', 'RRHH'],\n",
    "        'Empleado': ['Ana', 'Pedro', 'Laura', 'Carlos', 'Sofía', 'Juan', 'María'],\n",
    "        'Salario': [50000, 60000, 70000, 80000, 55000, 90000, 95000]}\n",
    "df = pd.DataFrame(data)\n",
    "print(df)\n",
    "\n",
    "grupo_departamento = df.groupby('Departamento') # Agrupa por 'Departamento' (retorna objeto GroupBy)\n",
    "print(grupo_departamento) # Output: <class 'pandas.core.groupby.generic.DataFrameGroupBy'>\n",
    "\n",
    "# Puedes iterar sobre los grupos (nombre de grupo y DataFrame del grupo)\n",
    "for nombre_grupo, dataframe_grupo in grupo_departamento:\n",
    "    print(f\"\\nDepartamento: {nombre_grupo}\")\n",
    "    print(dataframe_grupo)"
   ]
  },
  {
   "cell_type": "markdown",
   "metadata": {},
   "source": [
    "* **Agregación con .agg():**\n",
    "\n",
    "Después de agrupar con .groupby(), puedes aplicar funciones de agregación a cada grupo usando el método .agg().  Las funciones de agregación realizan cálculos que resumen los datos de cada grupo (ej. media, suma, conteo, mínimo, máximo, etc.)."
   ]
  },
  {
   "cell_type": "code",
   "execution_count": 24,
   "metadata": {},
   "outputs": [
    {
     "name": "stdout",
     "output_type": "stream",
     "text": [
      "\n",
      "Salario medio por departamento:\n",
      " Departamento\n",
      "Marketing    75000.0\n",
      "RRHH         92500.0\n",
      "Ventas       55000.0\n",
      "Name: Salario, dtype: float64\n",
      "\n",
      "Estadísticas de salario por departamento:\n",
      "                  mean   median          std  count    min    max\n",
      "Departamento                                                    \n",
      "Marketing     75000.0  75000.0  7071.067812      2  70000  80000\n",
      "RRHH          92500.0  92500.0  3535.533906      2  90000  95000\n",
      "Ventas        55000.0  55000.0  5000.000000      3  50000  60000\n",
      "\n",
      "Agregaciones personalizadas por departamento:\n",
      "               Salario_Medio  Salario_Maximo  Cantidad_Empleados\n",
      "Departamento                                                   \n",
      "Marketing           75000.0           80000                   2\n",
      "RRHH                92500.0           95000                   2\n",
      "Ventas              55000.0           60000                   3\n"
     ]
    }
   ],
   "source": [
    "import pandas as pd\n",
    "\n",
    "data = {'Departamento': ['Ventas', 'Ventas', 'Marketing', 'Marketing', 'Ventas', 'RRHH', 'RRHH'],\n",
    "        'Empleado': ['Ana', 'Pedro', 'Laura', 'Carlos', 'Sofía', 'Juan', 'María'],\n",
    "        'Salario': [50000, 60000, 70000, 80000, 55000, 90000, 95000]}\n",
    "df = pd.DataFrame(data)\n",
    "grupo_departamento = df.groupby('Departamento')\n",
    "\n",
    "# Calcular la media del salario por departamento\n",
    "salario_medio_por_departamento = grupo_departamento['Salario'].mean() # Aplica la función 'mean()' a la columna 'Salario' de cada grupo\n",
    "print(\"\\nSalario medio por departamento:\\n\", salario_medio_por_departamento)\n",
    "\n",
    "# Calcular múltiples agregaciones a la vez (usando un diccionario)\n",
    "estadisticas_salario_departamento = grupo_departamento['Salario'].agg(['mean', 'median', 'std', 'count', 'min', 'max']) # Aplica múltiples funciones de agregación a 'Salario'\n",
    "print(\"\\nEstadísticas de salario por departamento:\\n\", estadisticas_salario_departamento)\n",
    "\n",
    "# Aplicar diferentes agregaciones a diferentes columnas (con diccionario)\n",
    "agregaciones_personalizadas = grupo_departamento.agg(\n",
    "    Salario_Medio=('Salario', 'mean'), # Calcula la media del salario y renombra la columna resultante a 'Salario_Medio'\n",
    "    Salario_Maximo=('Salario', 'max'), # Calcula el máximo salario y renombra a 'Salario_Maximo'\n",
    "    Cantidad_Empleados=('Empleado', 'count') # Cuenta el número de empleados en cada departamento y renombra a 'Cantidad_Empleados'\n",
    ")\n",
    "print(\"\\nAgregaciones personalizadas por departamento:\\n\", agregaciones_personalizadas)"
   ]
  },
  {
   "cell_type": "markdown",
   "metadata": {},
   "source": [
    "### Funciones de agregación comunes en Pandas (que puedes usar con `.agg()`):\n",
    "\n",
    "- `'mean'` o `np.mean`: Media\n",
    "- `'median'` o `np.median`: Mediana\n",
    "- `'std'` o `np.std`: Desviación estándar\n",
    "- `'sum'` o `np.sum`: Suma\n",
    "- `'count'`: Conteo de valores no NaN\n",
    "- `'size'`: Tamaño del grupo (incluyendo NaNs)\n",
    "- `'min'` o `np.min`: Mínimo\n",
    "- `'max'` o `np.max`: Máximo\n",
    "- `'first'`, `'last'`: Primer y último valor en el grupo\n",
    "- `'nunique'`: Número de valores únicos\n",
    "- Y muchas más... (puedes usar funciones de NumPy o funciones personalizadas)."
   ]
  },
  {
   "cell_type": "markdown",
   "metadata": {},
   "source": [
    "## 9. Unión y Concatenación de DataFrames\n",
    "\n",
    "Pandas proporciona funciones para combinar DataFrames, ya sea **uniéndolos** (como en `SQL` `JOIN`) o **concatenándolos** (apilándolos vertical u horizontalmente).\n",
    "\n",
    "* **Unión de DataFrames (`pd.merge()`):**\n",
    "\n",
    "    `pd.merge(dataframe_izquierdo, dataframe_derecho, on='columna_clave', how='tipo_union')` **combina dos DataFrames basados en una o más columnas en común (columnas \"clave\")**.  Es similar a las operaciones `JOIN` en `SQL`."
   ]
  },
  {
   "cell_type": "code",
   "execution_count": 55,
   "metadata": {},
   "outputs": [
    {
     "name": "stdout",
     "output_type": "stream",
     "text": [
      "DataFrame de empleados:\n",
      "    EmpleadoID  Nombre  DepartamentoID\n",
      "0           1     Ana             101\n",
      "1           2     Bob             102\n",
      "2           3  Carlos             105\n",
      "3           4   Diana             103\n",
      "4           5     Eva             102\n",
      "\n",
      "DataFrame de departamentos:\n",
      "    DepartamentoID NombreDepartamento   Ubicacion\n",
      "0             101             Ventas  Nueva York\n",
      "1             102          Marketing     Londres\n",
      "2             103               RRHH       París\n",
      "3             104                 IT       Tokio\n",
      "\n",
      "DataFrame unido (INNER JOIN):\n",
      "    EmpleadoID Nombre  DepartamentoID NombreDepartamento   Ubicacion\n",
      "0           1    Ana             101             Ventas  Nueva York\n",
      "1           2    Bob             102          Marketing     Londres\n",
      "2           4  Diana             103               RRHH       París\n",
      "3           5    Eva             102          Marketing     Londres\n",
      "\n",
      "DataFrame unido (LEFT JOIN):\n",
      "    EmpleadoID  Nombre  DepartamentoID NombreDepartamento   Ubicacion\n",
      "0           1     Ana             101             Ventas  Nueva York\n",
      "1           2     Bob             102          Marketing     Londres\n",
      "2           3  Carlos             105                NaN         NaN\n",
      "3           4   Diana             103               RRHH       París\n",
      "4           5     Eva             102          Marketing     Londres\n",
      "\n",
      "DataFrame unido (RIGHT JOIN):\n",
      "    EmpleadoID Nombre  DepartamentoID NombreDepartamento   Ubicacion\n",
      "0         1.0    Ana             101             Ventas  Nueva York\n",
      "1         2.0    Bob             102          Marketing     Londres\n",
      "2         5.0    Eva             102          Marketing     Londres\n",
      "3         4.0  Diana             103               RRHH       París\n",
      "4         NaN    NaN             104                 IT       Tokio\n",
      "\n",
      "DataFrame unido (OUTER JOIN):\n",
      "    EmpleadoID  Nombre  DepartamentoID NombreDepartamento   Ubicacion\n",
      "0         1.0     Ana             101             Ventas  Nueva York\n",
      "1         2.0     Bob             102          Marketing     Londres\n",
      "2         5.0     Eva             102          Marketing     Londres\n",
      "3         4.0   Diana             103               RRHH       París\n",
      "4         NaN     NaN             104                 IT       Tokio\n",
      "5         3.0  Carlos             105                NaN         NaN\n"
     ]
    }
   ],
   "source": [
    "import pandas as pd\n",
    "\n",
    "# DataFrame de empleados\n",
    "df_empleados = pd.DataFrame({\n",
    "    'EmpleadoID': [1, 2, 3, 4, 5],\n",
    "    'Nombre': ['Ana', 'Bob', 'Carlos', 'Diana', 'Eva'],\n",
    "    'DepartamentoID': [101, 102, 105, 103, 102, ] # Clave para unir con df_departamentos\n",
    "})\n",
    "print(\"DataFrame de empleados:\\n\", df_empleados)\n",
    "\n",
    "# DataFrame de departamentos\n",
    "df_departamentos = pd.DataFrame({\n",
    "    'DepartamentoID': [101, 102, 103, 104], # Clave para unir con df_empleados\n",
    "    'NombreDepartamento': ['Ventas', 'Marketing', 'RRHH', 'IT'],\n",
    "    'Ubicacion': ['Nueva York', 'Londres', 'París', 'Tokio']\n",
    "})\n",
    "print(\"\\nDataFrame de departamentos:\\n\", df_departamentos)\n",
    "\n",
    "# Unir DataFrames basados en 'DepartamentoID' (clave común) - INNER JOIN por defecto\n",
    "df_unido_inner = pd.merge(df_empleados, df_departamentos, on='DepartamentoID') # 'on=' indica la columna clave de unión\n",
    "print(\"\\nDataFrame unido (INNER JOIN):\\n\", df_unido_inner)\n",
    "\n",
    "# OUTER JOIN (LEFT, RIGHT, OUTER)\n",
    "df_unido_left = pd.merge(df_empleados, df_departamentos, on='DepartamentoID', how='left') # LEFT JOIN - Conserva todas las filas de df_empleados\n",
    "print(\"\\nDataFrame unido (LEFT JOIN):\\n\", df_unido_left)\n",
    "\n",
    "df_unido_right = pd.merge(df_empleados, df_departamentos, on='DepartamentoID', how='right') # RIGHT JOIN - Conserva todas las filas de df_departamentos\n",
    "print(\"\\nDataFrame unido (RIGHT JOIN):\\n\", df_unido_right)\n",
    "\n",
    "df_unido_outer = pd.merge(df_empleados, df_departamentos, on='DepartamentoID', how='outer') # OUTER JOIN - Conserva todas las filas de ambos DataFrames\n",
    "print(\"\\nDataFrame unido (OUTER JOIN):\\n\", df_unido_outer)"
   ]
  },
  {
   "cell_type": "markdown",
   "metadata": {},
   "source": [
    "* **Tipos de unión (`how` argument in `pd.merge()`):**\n",
    "\n",
    "    - `'inner'` (por defecto): **INNER JOIN**. Retorna solo las filas que tienen valores coincidentes en la columna clave en ambos DataFrames.\n",
    "    - `'left'`: **LEFT (or LEFT OUTER) JOIN**. Retorna todas las filas del DataFrame izquierdo (dataframe_izquierdo) y las filas coincidentes del DataFrame derecho (dataframe_derecho). Si no hay coincidencia en el derecho, se rellenan con `NaN`.\n",
    "    - `'right'`: **RIGHT (or RIGHT OUTER) JOIN**. Retorna todas las filas del DataFrame derecho y las filas coincidentes del DataFrame izquierdo. Si no hay coincidencia en el izquierdo, se rellenan con `NaN`.\n",
    "    - `'outer'`: **FULL OUTER JOIN**. Retorna todas las filas de ambos DataFrames. Si no hay coincidencia en uno de los DataFrames, se rellenan con `NaN`.\n",
    "\n",
    "* **Otros argumentos importantes de `pd.merge()`:**\n",
    "\n",
    "    - `left_on`, `right_on`: Si las columnas clave tienen nombres diferentes en los DataFrames izquierdo y derecho, puedes especificarlos con `left_on='nombre_columna_izq`' y `right_on='nombre_columna_der`'.\n",
    "    - `suffixes`: Sufijos para añadir a los nombres de las columnas si hay columnas con el mismo nombre en ambos DataFrames (excepto la columna clave). Por defecto `suffixes=('_x', '_y')`.\n",
    "\n",
    "* **Concatenación de DataFrames (`pd.concat()`):**\n",
    "\n",
    "    `pd.concat([dataframe1, dataframe2, ...], axis=0, join='outer')` **concatena DataFrames a lo largo de un eje (filas o columnas)**.  Es como \"apilar\" o \"pegar\" DataFrames juntos.\n"
   ]
  },
  {
   "cell_type": "code",
   "execution_count": 35,
   "metadata": {},
   "outputs": [
    {
     "name": "stdout",
     "output_type": "stream",
     "text": [
      "DataFrame 1:\n",
      "   Letras  Números\n",
      "0      A        1\n",
      "1      B        2\n",
      "2      C        3\n",
      "\n",
      "DataFrame 2:\n",
      "   Letras  Números\n",
      "3      D        4\n",
      "4      E        5\n",
      "5      F        6\n",
      "\n",
      "DataFrame concatenado verticalmente:\n",
      "   Letras  Números\n",
      "0      A        1\n",
      "1      B        2\n",
      "2      C        3\n",
      "3      D        4\n",
      "4      E        5\n",
      "5      F        6\n",
      "\n",
      "DataFrame 3:\n",
      "   Colores\n",
      "0    Rojo\n",
      "1   Verde\n",
      "2    Azul\n",
      "\n",
      "DataFrame concatenado horizontalmente:\n",
      "   Letras  Números Colores\n",
      "0      A        1    Rojo\n",
      "1      B        2   Verde\n",
      "2      C        3    Azul\n",
      "\n",
      "DataFrame 4:\n",
      "    Valores\n",
      "0      100\n",
      "1      200\n",
      "\n",
      "Concatenación con OUTER JOIN (índices):\n",
      "   Letras  Números  Valores\n",
      "0      A        1    100.0\n",
      "1      B        2    200.0\n",
      "2      C        3      NaN\n",
      "\n",
      "Concatenación con INNER JOIN (índices):\n",
      "   Letras  Números  Valores\n",
      "0      A        1      100\n",
      "1      B        2      200\n"
     ]
    }
   ],
   "source": [
    "import pandas as pd\n",
    "\n",
    "# DataFrame 1\n",
    "df1 = pd.DataFrame({'Letras': ['A', 'B', 'C'], 'Números': [1, 2, 3]}, index=[0, 1, 2])\n",
    "print(\"DataFrame 1:\\n\", df1)\n",
    "\n",
    "# DataFrame 2\n",
    "df2 = pd.DataFrame({'Letras': ['D', 'E', 'F'], 'Números': [4, 5, 6]}, index=[3, 4, 5])\n",
    "print(\"\\nDataFrame 2:\\n\", df2)\n",
    "\n",
    "# Concatenación vertical (a lo largo de las filas, axis=0 por defecto) - Apila df2 debajo de df1\n",
    "df_concatenado_vertical = pd.concat([df1, df2]) # axis=0 es el valor por defecto\n",
    "print(\"\\nDataFrame concatenado verticalmente:\\n\", df_concatenado_vertical)\n",
    "\n",
    "# Concatenación horizontal (a lo largo de las columnas, axis=1)\n",
    "df3 = pd.DataFrame({'Colores': ['Rojo', 'Verde', 'Azul']}, index=[0, 1, 2])\n",
    "print(\"\\nDataFrame 3:\\n\", df3)\n",
    "df_concatenado_horizontal = pd.concat([df1, df3], axis=1) # axis=1 para concatenar horizontalmente (lado a lado)\n",
    "print(\"\\nDataFrame concatenado horizontalmente:\\n\", df_concatenado_horizontal)\n",
    "\n",
    "# Concatenación con índices no coincidentes (join='outer' por defecto, join='inner' para intersección de índices)\n",
    "df4 = pd.DataFrame({'Valores': [100, 200]}, index=[0, 1]) # DataFrame 4 con menos filas\n",
    "print(\"\\nDataFrame 4:\\n\", df4)\n",
    "df_concatenado_outer_join = pd.concat([df1, df4], axis=1) # join='outer' (por defecto) - Conserva todos los índices, rellena con NaN donde no hay datos\n",
    "print(\"\\nConcatenación con OUTER JOIN (índices):\\n\", df_concatenado_outer_join)\n",
    "\n",
    "df_concatenado_inner_join = pd.concat([df1, df4], axis=1, join='inner') # join='inner' - Conserva solo los índices que están en ambos DataFrames\n",
    "print(\"\\nConcatenación con INNER JOIN (índices):\\n\", df_concatenado_inner_join)"
   ]
  },
  {
   "cell_type": "markdown",
   "metadata": {},
   "source": [
    "* **Argumentos importantes de `pd.concat()`:**\n",
    "\n",
    "    - `objs`: Lista o tupla de DataFrames o Series a concatenar.\n",
    "    - `axis`: Eje de concatenación: `axis=0` (vertical, filas - por defecto), `axis=1` (horizontal, columnas).\n",
    "    - `join`: Cómo manejar los índices en la concatenación horizontal (`axis=1`):\n",
    "        - `'outer'` (por defecto): **OUTER JOIN**. Usa la unión de todos los índices. Rellena con NaN para los índices no coincidentes.\n",
    "        - `'inner'`: **INNER JOIN**. Usa la intersección de los índices. Conserva solo las filas con índices comunes a todos los DataFrames.\n",
    "    - `ignore_index`: `True` o `False` (para resetear o no el índice del DataFrame concatenado a un nuevo índice numérico secuencial, por defecto `False`)."
   ]
  },
  {
   "cell_type": "markdown",
   "metadata": {},
   "source": [
    "## 10. Aplicación de Funciones a DataFrames (`apply`, `map`)\n",
    "\n",
    "Pandas proporciona métodos `.apply()` y `.map()` para aplicar funciones a DataFrames y Series de manera flexible y vectorizada.\n",
    "\n",
    "* **`.apply()` (Aplicar función a filas o columnas):**\n",
    "\n",
    "   Aplica una función a lo largo de un eje de un DataFrame (filas o columnas).\n",
    "\n",
    "  *  **Aplicar a columnas (por defecto `axis=0` o `axis='index'`)**:  Aplica la función a cada columna individualmente.  La función recibe una Serie (que representa una columna) como argumento y debe retornar un valor único (para agregación por columna) o una Serie de la misma longitud que la columna (para transformación columna a columna).\n"
   ]
  },
  {
   "cell_type": "code",
   "execution_count": 60,
   "metadata": {},
   "outputs": [
    {
     "name": "stdout",
     "output_type": "stream",
     "text": [
      "   Columna1  Columna2\n",
      "0         1       100\n",
      "1         4       400\n",
      "2         9       900\n",
      "3        16      1600\n",
      "   Columna1  Columna2\n",
      "0       101       110\n",
      "1       102       120\n",
      "2       103       130\n",
      "3       104       140\n",
      "   Columna1  Columna2\n",
      "0  0.000000  2.302585\n",
      "1  0.693147  2.995732\n",
      "2  1.098612  3.401197\n",
      "3  1.386294  3.688879\n",
      "Columna1     10\n",
      "Columna2    100\n",
      "dtype: int64\n"
     ]
    }
   ],
   "source": [
    "import pandas as pd\n",
    "\n",
    "data = {'Columna1': [1, 2, 3, 4], 'Columna2': [10, 20, 30, 40]}\n",
    "df = pd.DataFrame(data)\n",
    "\n",
    "def cuadrado(serie): # Función para calcular el cuadrado de una Serie\n",
    "    return serie ** 2\n",
    "\n",
    "df_cuadrado_columnas = df.apply(cuadrado) # Aplica la función 'cuadrado' a cada columna (axis=0 por defecto)\n",
    "print(df_cuadrado_columnas)\n",
    "\n",
    "# Usar funciones lambda para operaciones más cortas\n",
    "df_suma_a_columna = df.apply(lambda serie: serie + 100) # Suma 100 a cada elemento de cada columna\n",
    "print(df_suma_a_columna)\n",
    "\n",
    "# Usar funciones de NumPy\n",
    "df_log_columnas = df.apply(np.log) # Calcula el logaritmo natural de cada elemento de cada columna\n",
    "print(df_log_columnas)\n",
    "\n",
    "# Calcular un valor agregado por columna (ej. suma de cada columna)\n",
    "suma_por_columna = df.apply(sum) # Aplica la función 'sum()' a cada columna (retorna una Serie con la suma de cada columna)\n",
    "print(suma_por_columna) # Output: Serie con las sumas de cada columna"
   ]
  },
  {
   "cell_type": "markdown",
   "metadata": {},
   "source": [
    "*  * **Aplicar a filas (axis=1 o axis='columns'):** Aplica la función a cada fila individualmente. La función recibe una Serie (que representa una fila) como argumento y debe retornar un valor único (para agregación por fila) o una Serie de la misma longitud que las columnas (para transformación fila a fila)."
   ]
  },
  {
   "cell_type": "code",
   "execution_count": 61,
   "metadata": {},
   "outputs": [
    {
     "name": "stdout",
     "output_type": "stream",
     "text": [
      "0    11\n",
      "1    22\n",
      "2    33\n",
      "3    44\n",
      "dtype: int64\n",
      "0     9\n",
      "1    18\n",
      "2    27\n",
      "3    36\n",
      "dtype: int64\n"
     ]
    }
   ],
   "source": [
    "import pandas as pd\n",
    "\n",
    "data = {'Columna1': [1, 2, 3, 4], 'Columna2': [10, 20, 30, 40]}\n",
    "df = pd.DataFrame(data)\n",
    "\n",
    "def suma_fila(fila): # Función para sumar los valores de una fila\n",
    "    return fila.sum()\n",
    "\n",
    "suma_por_fila = df.apply(suma_fila, axis=1) # Aplica 'suma_fila' a cada fila (axis=1)\n",
    "print(suma_por_fila) # Output: Serie con las sumas de cada fila\n",
    "\n",
    "# Usar funciones lambda para operaciones más cortas por fila\n",
    "df_resta_filas = df.apply(lambda fila: fila['Columna2'] - fila['Columna1'], axis=1) # Resta Columna1 de Columna2 en cada fila\n",
    "print(df_resta_filas)"
   ]
  },
  {
   "cell_type": "markdown",
   "metadata": {},
   "source": [
    "* **.map() (Aplicar función elemento a elemento):**\n",
    "\n",
    "    Aplica una función **a cada elemento** de un DataFrame.  La función recibe un valor individual como argumento y debe retornar un valor transformado.  Retorna un nuevo DataFrame con los resultados.  Solo funciona en DataFrames (no en Series)."
   ]
  },
  {
   "cell_type": "code",
   "execution_count": 3,
   "metadata": {},
   "outputs": [
    {
     "name": "stdout",
     "output_type": "stream",
     "text": [
      "   Columna1  Columna2\n",
      "0         2        20\n",
      "1         4        40\n",
      "2         6        60\n",
      "3         8        80\n",
      "   Columna1   Columna2\n",
      "0  Valor: 1  Valor: 10\n",
      "1  Valor: 2  Valor: 20\n",
      "2  Valor: 3  Valor: 30\n",
      "3  Valor: 4  Valor: 40\n"
     ]
    }
   ],
   "source": [
    "import pandas as pd\n",
    "\n",
    "data = {'Columna1': [1, 2, 3, 4], 'Columna2': [10, 20, 30, 40]}\n",
    "df = pd.DataFrame(data)\n",
    "\n",
    "def duplicar(valor): # Función para duplicar un valor\n",
    "    return valor * 2\n",
    "\n",
    "df_duplicado_elementos = df.map(duplicar) # Aplica 'duplicar' a cada elemento del DataFrame\n",
    "print(df_duplicado_elementos)\n",
    "\n",
    "# Usar funciones lambda para operaciones más cortas elemento a elemento\n",
    "df_formato_texto = df.map(lambda x: f\"Valor: {x}\") # Formatea cada elemento como \"Valor: [valor]\"\n",
    "print(df_formato_texto)"
   ]
  },
  {
   "cell_type": "markdown",
   "metadata": {},
   "source": [
    "# Ejercicios Pandas\n",
    "\n",
    "### 1. Creación de DataFrames y Series:\n",
    "\n",
    "* Crea una Serie de Pandas llamada `serie_nombres` que contenga una lista de 5 nombres. Asigna índices alfabéticos ('a', 'b', 'c', 'd', 'e').\n",
    "* Crea un DataFrame llamado `df_calificaciones` con las siguientes columnas: 'Nombre' (cadenas), 'Materia' (cadenas), 'Calificacion' (flotantes). Añade al menos 8-10 filas de datos de ejemplo (inventados).\n",
    "* Crea un DataFrame vacío llamado `df_vacío`."
   ]
  },
  {
   "cell_type": "code",
   "execution_count": 48,
   "metadata": {},
   "outputs": [
    {
     "name": "stdout",
     "output_type": "stream",
     "text": [
      "a       Ana\n",
      "b       Bob\n",
      "c    Carlos\n",
      "d     Diana\n",
      "e       Eva\n",
      "dtype: object\n",
      "   Nombre      Materia  Calificacion\n",
      "0     Ana  Matemáticas           7.0\n",
      "1     Bob       Física           8.0\n",
      "2     Eva      Química           9.0\n",
      "3  Carlos     Biología           6.0\n",
      "4   Diana     Historia           5.0\n",
      "5     Bob  Matemáticas           8.0\n",
      "6     Ana       Física           9.0\n",
      "7  Carlos      Química           7.0\n",
      "8   Diana     Biología           6.0\n",
      "9     Eva     Historia           5.0\n"
     ]
    }
   ],
   "source": [
    "serie_nombres = pd.Series(['Ana', 'Bob', 'Carlos', 'Diana', 'Eva'], index=['a', 'b', 'c', 'd', 'e'] )\n",
    "print(serie_nombres)\n",
    "\n",
    "data = {\n",
    "    'Nombre': ['Ana', 'Bob', 'Eva', 'Carlos', 'Diana', 'Bob', 'Ana', 'Carlos', 'Diana', 'Eva'],\n",
    "    'Materia': ['Matemáticas', 'Física', 'Química', 'Biología', 'Historia', 'Matemáticas', 'Física', 'Química', 'Biología', 'Historia'],\n",
    "    'Calificacion': [7., 8., 9., 6., 5., 8., 9., 7., 6., 5.]\n",
    "}\n",
    "df_calificaciones = pd.DataFrame(data)\n",
    "print(df_calificaciones)\n",
    "\n",
    "df_vacio = pd.DataFrame() # DataFrame vacío"
   ]
  },
  {
   "cell_type": "markdown",
   "metadata": {},
   "source": [
    "### 2. Lectura y Escritura de Archivos:\n",
    "\n",
    "* Guarda el DataFrame `df_calificaciones` creado en el ejercicio 1 en un archivo CSV llamado `calificaciones.csv` (sin incluir el índice de filas).\n",
    "* Lee el archivo `calificaciones.csv` que acabas de guardar y crea un nuevo DataFrame llamado `df_leído_csv`.\n",
    "* Crea un nuevo DataFrame (o usa `df_calificaciones`) y guárdalo en un archivo Excel llamado `calificaciones.xlsx`, en una hoja llamada 'Resultados' (sin índice).\n",
    "* Lee la hoja 'Resultados' del archivo `calificaciones.xlsx` y crea un DataFrame llamado `df_leído_excel`.\n"
   ]
  },
  {
   "cell_type": "code",
   "execution_count": null,
   "metadata": {},
   "outputs": [],
   "source": [
    "df_calificaciones.to_csv('../Datasets/calificaciones.csv', index=False) # Guarda el DataFrame a un archivo CSV (sin índice de filas)\n",
    "\n",
    "df_leido_csv = pd.read_csv('../Datasets/calificaciones.csv') # Lee un archivo CSV y crea un DataFrame\n",
    "\n",
    "df_calificaciones.to_excel('../Datasets/calificaciones.xlsx', sheet_name='Resultados', index=False) # Guarda el DataFrame a un archivo Excel, hoja 'Resultados'\n",
    "\n",
    "df_leido_excel = pd.read_excel('../Datasets/calificaciones.xlsx', sheet_name='Resultados') # Lee un archivo Excel y crea un DataFrame"
   ]
  },
  {
   "cell_type": "markdown",
   "metadata": {},
   "source": [
    "### 3. Indexación y Selección:\n",
    "\n",
    "* Usando el DataFrame `df_calificaciones`:\n",
    "* Selecciona solo la columna 'Nombre'.\n",
    "* Selecciona las columnas 'Nombre' y 'Calificacion'.\n",
    "* Selecciona las primeras 3 filas usando slicing por posición.\n",
    "* Selecciona las filas con índice de fila 2 y 4 usando `.iloc[]`.\n",
    "* Selecciona las filas con etiquetas de índice (si las has definido) 'index_label_1' y 'index_label_3' usando `.loc[]`. Si no definiste índices personalizados, puedes establecer el 'Nombre' como índice y usar nombres como índice.\n",
    "* Selecciona las filas donde la 'Calificacion' sea mayor o igual a 7.5 usando indexación booleana.\n",
    "* Selecciona las filas donde la 'Materia' sea 'Matemáticas' o 'Ciencias'.\n"
   ]
  },
  {
   "cell_type": "code",
   "execution_count": 5,
   "metadata": {},
   "outputs": [
    {
     "name": "stdout",
     "output_type": "stream",
     "text": [
      "0       Ana\n",
      "1       Bob\n",
      "2       Eva\n",
      "3    Carlos\n",
      "4     Diana\n",
      "5       Bob\n",
      "6       Ana\n",
      "7    Carlos\n",
      "8     Diana\n",
      "9       Eva\n",
      "Name: Nombre, dtype: object\n",
      "   Nombre  Calificacion\n",
      "0     Ana           7.0\n",
      "1     Bob           8.0\n",
      "2     Eva           9.0\n",
      "3  Carlos           6.0\n",
      "4   Diana           5.0\n",
      "5     Bob           8.0\n",
      "6     Ana           9.0\n",
      "7  Carlos           7.0\n",
      "8   Diana           6.0\n",
      "9     Eva           5.0\n",
      "  Nombre      Materia  Calificacion\n",
      "0    Ana  Matemáticas           7.0\n",
      "1    Bob       Física           8.0\n",
      "2    Eva      Química           9.0\n",
      "   Nombre   Materia  Calificacion\n",
      "2     Eva   Química           9.0\n",
      "3  Carlos  Biología           6.0\n",
      "4   Diana  Historia           5.0\n",
      "            Materia  Calificacion\n",
      "Nombre                           \n",
      "Ana     Matemáticas           7.0\n",
      "Ana          Física           9.0\n",
      "         Materia  Calificacion\n",
      "Nombre                        \n",
      "Carlos  Biología           6.0\n",
      "Carlos   Química           7.0\n",
      "0    False\n",
      "1     True\n",
      "2     True\n",
      "3    False\n",
      "4    False\n",
      "5     True\n",
      "6     True\n",
      "7    False\n",
      "8    False\n",
      "9    False\n",
      "Name: Calificacion, dtype: bool\n",
      "  Nombre      Materia  Calificacion\n",
      "0    Ana  Matemáticas           7.0\n",
      "5    Bob  Matemáticas           8.0\n"
     ]
    }
   ],
   "source": [
    "nombre = df_calificaciones['Nombre'] # Selecciona la columna 'Nombre' (retorna una Serie)\n",
    "print(nombre)\n",
    "\n",
    "nombre_calificaciones = df_calificaciones[['Nombre', 'Calificacion']] # Selecciona columnas 'Nombre' y 'Calificacion' (retorna un DataFrame)\n",
    "print(nombre_calificaciones)\n",
    "\n",
    "tres_primeras_filas = df_calificaciones[0:3] # Selecciona las primeras 3 filas (índices 0, 1, 2) por posición numérica\n",
    "print(tres_primeras_filas)\n",
    "\n",
    "indice_2_4 = df_calificaciones.iloc[2:5] # Selecciona las filas 2 a 4 (índices 2, 3, 4) por posición numérica\n",
    "print(indice_2_4)\n",
    "\n",
    "df_calificaciones_index = df_calificaciones.set_index('Nombre')\n",
    "ana = df_calificaciones_index.loc['Ana'] # Selecciona la fila con etiqueta de índice 'Ana' (retorna una Serie)\n",
    "carlos = df_calificaciones_index.loc['Carlos'] # Selecciona la fila con etiqueta de índice 'Carlos' (retorna una Serie)\n",
    "print(ana)\n",
    "print(carlos)\n",
    "\n",
    "calificacion_mayor = df_calificaciones['Calificacion'] > 7.5 # Crea una máscara booleana para calificaciones mayores a 7\n",
    "print(calificacion_mayor)\n",
    "\n",
    "seleccion_materia = df_calificaciones['Materia'] == 'Matemáticas' # Crea una máscara booleana para la materia 'Matemáticas'\n",
    "print(df_calificaciones[seleccion_materia]) # Selecciona solo las filas donde la máscara es True"
   ]
  },
  {
   "cell_type": "markdown",
   "metadata": {},
   "source": [
    "### 4. Manipulación Básica:\n",
    "\n",
    "* Usando `df_calificaciones`:\n",
    "* Añade una nueva columna llamada 'Aprobado' que sea True si la 'Calificacion' es mayor o igual a 5, y False en caso contrario (usando `.assign()` o asignación directa).\n",
    "* Elimina la columna 'Materia' del DataFrame (usando `.drop()`).\n",
    "* Renombra la columna 'Calificacion' a 'Nota' (usando `.rename()`).\n",
    "* Ordena el DataFrame por la columna 'Nombre' en orden alfabético ascendente, y luego por 'Nota' en orden descendente dentro de cada grupo de 'Nombre' (usando `.sort_values()`).\n"
   ]
  },
  {
   "cell_type": "code",
   "execution_count": null,
   "metadata": {},
   "outputs": [],
   "source": [
    "df_aprobados = df_calificaciones.assign(Aprobado=lambda df_calificaciones: df_calificaciones['Calificacion'] >= 5.0) # Añade una columna 'Aprobado' con True/False\n",
    "print(df_aprobados)\n",
    "\n",
    "df_sin_materias = df_calificaciones.drop(columns=['Materia']) # Elimina la columna 'Materia'\n",
    "print(df_sin_materias)\n",
    "\n",
    "df_renombrado = df_calificaciones.rename(columns={'Calificacion': 'Nota'}) # Renombra la columna 'Calificacion' a 'Nota'    \n",
    "print(df_renombrado)\n",
    "\n",
    "df_ordenado_multiple = df_renombrado.sort_values(by=['Nombre', 'Nota'], ascending=[True, False]) # Ordena por 'Nombre' (ascendente) y luego por 'Nota' (descendente)\n",
    "print(df_ordenado_multiple)"
   ]
  },
  {
   "cell_type": "markdown",
   "metadata": {},
   "source": [
    "### 5. Manejo de Valores Faltantes:\n",
    "\n",
    "* Crea un DataFrame con algunos valores faltantes (`NaN`) en diferentes columnas.\n",
    "* Detecta los valores faltantes en el DataFrame usando `.isnull()` y `.notnull()`.\n",
    "* Elimina las filas que contengan al menos un valor faltante (usando `.dropna()`).\n",
    "* Rellena los valores faltantes en la columna 'Calificacion' con la media de las calificaciones en esa columna (usando `.fillna()`).\n",
    "* Rellena los valores faltantes en la columna de tipo cadena con la cadena 'Desconocido' (usando `.fillna()`).\n"
   ]
  },
  {
   "cell_type": "code",
   "execution_count": 49,
   "metadata": {},
   "outputs": [
    {
     "name": "stdout",
     "output_type": "stream",
     "text": [
      "   Nombre      Materia  Calificacion\n",
      "0     Ana          NaN           7.0\n",
      "1     Bob       Física           8.0\n",
      "2     Eva      Química           NaN\n",
      "3  Carlos     Biología           6.0\n",
      "4   Diana     Historia           5.0\n",
      "5     Bob  Matemáticas           8.0\n",
      "6     Ana       Física           9.0\n",
      "7     NaN      Química           7.0\n",
      "8   Diana     Biología           NaN\n",
      "9     Eva     Historia           5.0\n",
      "   Nombre  Materia  Calificacion\n",
      "0   False     True         False\n",
      "1   False    False         False\n",
      "2   False    False          True\n",
      "3   False    False         False\n",
      "4   False    False         False\n",
      "5   False    False         False\n",
      "6   False    False         False\n",
      "7    True    False         False\n",
      "8   False    False          True\n",
      "9   False    False         False\n",
      "   Nombre  Materia  Calificacion\n",
      "0    True    False          True\n",
      "1    True     True          True\n",
      "2    True     True         False\n",
      "3    True     True          True\n",
      "4    True     True          True\n",
      "5    True     True          True\n",
      "6    True     True          True\n",
      "7   False     True          True\n",
      "8    True     True         False\n",
      "9    True     True          True\n",
      "   Nombre      Materia  Calificacion\n",
      "1     Bob       Física           8.0\n",
      "3  Carlos     Biología           6.0\n",
      "4   Diana     Historia           5.0\n",
      "5     Bob  Matemáticas           8.0\n",
      "6     Ana       Física           9.0\n",
      "9     Eva     Historia           5.0\n",
      "   Nombre      Materia  Calificacion\n",
      "0     Ana          NaN         7.000\n",
      "1     Bob       Física         8.000\n",
      "2     Eva      Química         6.875\n",
      "3  Carlos     Biología         6.000\n",
      "4   Diana     Historia         5.000\n",
      "5     Bob  Matemáticas         8.000\n",
      "6     Ana       Física         9.000\n",
      "7     NaN      Química         7.000\n",
      "8   Diana     Biología         6.875\n",
      "9     Eva     Historia         5.000\n",
      "        Nombre      Materia  Calificacion\n",
      "0          Ana  Desconocido           7.0\n",
      "1          Bob       Física           8.0\n",
      "2          Eva      Química           NaN\n",
      "3       Carlos     Biología           6.0\n",
      "4        Diana     Historia           5.0\n",
      "5          Bob  Matemáticas           8.0\n",
      "6          Ana       Física           9.0\n",
      "7  Desconocido      Química           7.0\n",
      "8        Diana     Biología           NaN\n",
      "9          Eva     Historia           5.0\n"
     ]
    }
   ],
   "source": [
    "data = {\n",
    "    'Nombre': ['Ana', 'Bob', 'Eva', 'Carlos', 'Diana', 'Bob', 'Ana', np.nan, 'Diana', 'Eva'],\n",
    "    'Materia': [np.nan, 'Física', 'Química', 'Biología', 'Historia', 'Matemáticas', 'Física', 'Química', 'Biología', 'Historia'],\n",
    "    'Calificacion': [7., 8., np.nan, 6., 5., 8., 9., 7., np.nan, 5.]\n",
    "}\n",
    "df = pd.DataFrame(data)\n",
    "print(df)\n",
    "\n",
    "print(df.isnull()) # Detecta valores NaN (True donde hay NaN)\n",
    "print(df.notnull()) # Detecta valores NO NaN (True donde NO hay NaN)\n",
    "\n",
    "df_sin_na_filas = df.dropna() # Elimina filas con al menos un NaN (por defecto axis=0, filas)\n",
    "print(df_sin_na_filas)\n",
    "\n",
    "df_rellenado_calificacion_columna_media = df.fillna(df.mean(numeric_only=True)) # Rellena NaNs en columnas NUMÉRICAS con la media de CADA columna\n",
    "print(df_rellenado_calificacion_columna_media)\n",
    "\n",
    "df_rellenado_cadena = df.fillna({'Nombre': 'Desconocido', 'Materia': 'Desconocido'}) # Rellena NaNs con una cadena específica por columna\n",
    "print(df_rellenado_cadena)\n",
    "\n",
    "\n"
   ]
  },
  {
   "cell_type": "markdown",
   "metadata": {},
   "source": [
    "### 6. Agrupación y Agregación:\n",
    "\n",
    "* Usando df_calificaciones:\n",
    "* Agrupa el DataFrame por la columna 'Materia'.\n",
    "* Calcula la media de las 'Calificaciones' para cada materia usando `.groupby()` y `.mean()`.\n",
    "* Calcula el máximo, mínimo y desviación estándar de las 'Calificaciones' por materia usando `.groupby()` y `.agg()`.\n",
    "* Cuenta el número de estudiantes en cada materia usando `.groupby()` y `.count()` (o `.size()`).\n"
   ]
  },
  {
   "cell_type": "code",
   "execution_count": null,
   "metadata": {},
   "outputs": [
    {
     "name": "stdout",
     "output_type": "stream",
     "text": [
      "Materia\n",
      "Biología       6.0\n",
      "Física         8.5\n",
      "Historia       5.0\n",
      "Matemáticas    7.5\n",
      "Química        8.0\n",
      "Name: Calificacion, dtype: float64\n",
      "             max  min       std\n",
      "Materia                        \n",
      "Biología     6.0  6.0  0.000000\n",
      "Física       9.0  8.0  0.707107\n",
      "Historia     5.0  5.0  0.000000\n",
      "Matemáticas  8.0  7.0  0.707107\n",
      "Química      9.0  7.0  1.414214\n",
      "Materia\n",
      "Biología       2\n",
      "Física         2\n",
      "Historia       2\n",
      "Matemáticas    2\n",
      "Química        2\n",
      "Name: Nombre, dtype: int64\n"
     ]
    }
   ],
   "source": [
    "grupo_materia = df_calificaciones.groupby('Materia') # Agrupa por 'Materia' (retorna objeto GroupBy)\n",
    "\n",
    "media_calificaciones = grupo_materia['Calificacion'].mean() # Calcula la media de 'Calificacion' por 'Materia'\n",
    "print(media_calificaciones)\n",
    "\n",
    "varia_medidas_calificaciones = grupo_materia['Calificacion'].agg(['max', 'min', 'std']) # Calcula máximo, mínimo y desviación estándar de 'Calificacion' por 'Materia'\n",
    "print(varia_medidas_calificaciones)\n",
    "\n",
    "numeros_estudiantes_materias = grupo_materia['Nombre'].count() # Cuenta el número de estudiantes por 'Materia'\n",
    "print(numeros_estudiantes_materias)"
   ]
  },
  {
   "cell_type": "code",
   "execution_count": null,
   "metadata": {},
   "outputs": [],
   "source": []
  },
  {
   "cell_type": "markdown",
   "metadata": {},
   "source": [
    "### 7. Unión y Concatenación:\n",
    "\n",
    "* Crea dos DataFrames diferentes que compartan al menos una columna en común (ej. 'ID_Estudiante').\n",
    "* Realiza un **INNER JOIN** de los dos DataFrames basados en la columna común usando `pd.merge()`.\n",
    "* Realiza un **LEFT JOIN** y un RIGHT JOIN de los mismos DataFrames y observa las diferencias.\n",
    "* Realiza un **OUTER JOIN**.\n",
    "* Crea dos DataFrames con las mismas columnas pero diferentes filas. Concatenalos verticalmente usando `pd.concat()`.\n",
    "* Crea dos DataFrames con las mismas filas pero diferentes columnas. Concatenalos horizontalmente usando `pd.concat()`.\n"
   ]
  },
  {
   "cell_type": "code",
   "execution_count": null,
   "metadata": {},
   "outputs": [
    {
     "name": "stdout",
     "output_type": "stream",
     "text": [
      "   ID_Estudiantes  Nombre      Materia  Calificacion\n",
      "0               1     Ana  Matemáticas             8\n",
      "1               1     Ana       Inglés             6\n",
      "2               2     Bob       Física             7\n",
      "3               2     Bob         Arte             9\n",
      "4               3     Eva      Química             9\n",
      "5               3     Eva     Deportes             7\n",
      "6               4  Carlos     Biología             7\n",
      "7               4  Carlos    Geografía             4\n",
      "8               5   Diana     Historia             5\n",
      "9               5   Diana    Filosofia             8\n",
      "   ID_Estudiantes    Nombre\n",
      "0               1       Ana\n",
      "1               2       Bob\n",
      "2               3       Eva\n",
      "3               4    Carlos\n",
      "4               5     Diana\n",
      "0               6   Eduardo\n",
      "1               7  Fernando\n",
      "2               8    Gloria\n",
      "3               9    Hector\n",
      "4              10    Isabel\n",
      "   ID_Estudiantes      Materia  Calificacion Profesor\n",
      "0               1  Matemáticas             8     Juan\n",
      "1               2       Física             7     Luis\n",
      "2               3      Química             9    María\n",
      "3               4     Biología             7    Pedro\n",
      "4               5     Historia             5     Rosa\n",
      "5               4    Geografía             4  Roberto\n",
      "6               1       Inglés             6    Sofía\n",
      "7               5    Filosofia             8    Tomás\n",
      "8               3     Deportes             7   Ursula\n",
      "9               2         Arte             9   Víctor\n"
     ]
    }
   ],
   "source": [
    "df_estudiantes_a = pd.DataFrame({\n",
    "    'ID_Estudiantes': [1, 2, 3, 4, 5],\n",
    "    'Nombre': ['Ana', 'Bob', 'Eva', 'Carlos', 'Diana',],\n",
    "})\n",
    "df_estudiantes_b = pd.DataFrame({\n",
    "    'ID_Estudiantes': [6, 7, 8, 9, 10],\n",
    "    'Nombre': ['Eduardo', 'Fernando', 'Gloria', 'Hector', 'Isabel'],\n",
    "    })\n",
    "df_materias = pd.DataFrame({\n",
    "    'ID_Estudiantes': [1, 2, 3, 4, 5, 4, 1, 5, 3, 2],\n",
    "    'Materia': ['Matemáticas', 'Física', 'Química', 'Biología', 'Historia', 'Geografía', 'Inglés', 'Filosofia', 'Deportes', 'Arte'],\n",
    "    'Calificacion': [8, 7, 9, 7, 5, 4, 6, 8, 7, 9]\n",
    "})\n",
    "df_profesores = pd.DataFrame({\n",
    "    'Profesor': ['Juan', 'Luis', 'María', 'Pedro', 'Rosa', 'Roberto', 'Sofía', 'Tomás', 'Ursula', 'Víctor']\n",
    "})\n",
    "\n",
    "df_unidos = pd.merge(df_estudiantes_a, df_materias, on='ID_Estudiantes') # Unir df_estudiantes_a y df_materias por 'ID_Estudiantes'\n",
    "print(df_unidos)\n",
    "\n",
    "df_concatenado_vertical = pd.concat([df_estudiantes_a, df_estudiantes_b]) # Concatenar verticalmente df_estudiantes_a y df_estudiantes_b\n",
    "print(df_concatenado_vertical)\n",
    "\n",
    "df_concatenado_horizontal = pd.concat([df_materias, df_profesores], axis=1) # Concatenar horizontalmente df_materias y df_profesores\n",
    "print(df_concatenado_horizontal)"
   ]
  },
  {
   "cell_type": "code",
   "execution_count": null,
   "metadata": {},
   "outputs": [],
   "source": []
  },
  {
   "cell_type": "markdown",
   "metadata": {},
   "source": [
    "\n",
    "### 8. Aplicación de Funciones:\n",
    "\n",
    "* Usando `df_calificaciones`:\n",
    "* Crea una función que aumente la 'Calificacion' en 0.5 puntos. Aplica esta función a la columna 'Calificacion' usando `.apply()` (aplicación a una columna).\n",
    "* Crea una función que determine si un estudiante 'Aprueba' o 'Suspende' basado en si su 'Calificacion' es mayor o igual a 5. Aplica esta función a cada fila del DataFrame (usando `.apply(axis=1)`) y crea una nueva columna 'Resultado' con el resultado ('Aprobado' o 'Suspenso').\n",
    "* Crea una función que formatee las calificaciones como cadenas con dos decimales (ej. 7.85). Aplica esta función a cada elemento del DataFrame (usando `.map()`)."
   ]
  },
  {
   "cell_type": "code",
   "execution_count": null,
   "metadata": {},
   "outputs": [],
   "source": [
    "def aumentar_calificacion(serie): # Función para aumentar la calificación en 0.5\n",
    "    return serie + 0.5\n",
    "\n",
    "df_aumento = df_calificaciones['Calificacion'].apply(aumentar_calificacion) # Aplica 'aumentar_calificacion' a la columna 'Calificacion'\n",
    "print(df_aumento)\n",
    "\n",
    "def determinar_resultado(fila): # Función para determinar si un estudiante aprobó o suspendió\n",
    "    if fila['Calificacion'] >= 7:\n",
    "        return 'Aprobado'\n",
    "    else:\n",
    "        return 'Suspenso'\n",
    "\n",
    "df_calificaciones['Resultado'] = df_calificaciones.apply(determinar_resultado, axis=1) # Añade una columna 'Resultado' con 'Aprobado' o 'Suspenso'\n",
    "print(df_calificaciones)\n",
    "\n",
    "def formatear_calificaciones(valor): # Función para formatear las calificaciones a dos decimales\n",
    "    return f\"{valor:.2f}\"\n",
    "\n",
    "df_calificaciones_formateadas = df_calificaciones.copy() # Crea una copia de la tabla de calificaciones\n",
    "df_calificaciones_formateadas['Calificacion'] = df_calificaciones_formateadas['Calificacion'].map(formatear_calificaciones) # Formatea la columna 'Calificacion'\n",
    "print(df_calificaciones_formateadas)\n"
   ]
  }
 ],
 "metadata": {
  "kernelspec": {
   "display_name": "data_env",
   "language": "python",
   "name": "python3"
  },
  "language_info": {
   "codemirror_mode": {
    "name": "ipython",
    "version": 3
   },
   "file_extension": ".py",
   "mimetype": "text/x-python",
   "name": "python",
   "nbconvert_exporter": "python",
   "pygments_lexer": "ipython3",
   "version": "3.12.7"
  }
 },
 "nbformat": 4,
 "nbformat_minor": 2
}
